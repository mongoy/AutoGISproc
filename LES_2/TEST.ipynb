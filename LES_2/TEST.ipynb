{
 "cells": [
  {
   "cell_type": "code",
   "execution_count": null,
   "metadata": {},
   "outputs": [],
   "source": [
    "import geopandas as gpd\n",
    "import requests\n",
    "import geojson\n",
    "from pyproj import CRS"
   ]
  },
  {
   "cell_type": "code",
   "execution_count": null,
   "metadata": {},
   "outputs": [],
   "source": [
    "# Укажите URL-адрес сервера.\n",
    "# url = 'http://geo.stat.fi/geoserver/tilastointialueet/wfs'\n",
    "# url = 'https://pkk.rosreestr.ru/arcgis/rest/services/PKK6'\n",
    "# url = 'https://pkk.rosreestr.ru/arcgis/rest/services/BaseMaps/BaseMap/MapServer'\n",
    "url = 'https://gext.ru/rosreestr_xyz/{z}/{x}/{y}.png'\n",
    "\n",
    "# Укажите параметры (чтение данных в формате json).\n",
    "params = dict(service='WFS', version='2.0.0', request='GetFeature', \n",
    "              outputFormat='json')\n",
    "\n",
    "\n",
    "# Извлечение данных из WFS с помощью запросов\n",
    "r = requests.get(url, params=params)\n",
    "\n",
    "# Создайте GeoDataFrame из geojson и установите систему координат отсчета\n",
    "# data = gpd.GeoDataFrame.from_features(geojson.loads(r.content))"
   ]
  },
  {
   "cell_type": "code",
   "execution_count": 1,
   "metadata": {},
   "outputs": [
    {
     "ename": "NameError",
     "evalue": "name 'r' is not defined",
     "output_type": "error",
     "traceback": [
      "\u001b[1;31m---------------------------------------------------------------------------\u001b[0m",
      "\u001b[1;31mNameError\u001b[0m                                 Traceback (most recent call last)",
      "\u001b[1;32m<ipython-input-1-9fabc7ff18ca>\u001b[0m in \u001b[0;36m<module>\u001b[1;34m()\u001b[0m\n\u001b[1;32m----> 1\u001b[1;33m \u001b[0mr\u001b[0m\u001b[1;33m.\u001b[0m\u001b[0mheaders\u001b[0m\u001b[1;33m\u001b[0m\u001b[1;33m\u001b[0m\u001b[0m\n\u001b[0m",
      "\u001b[1;31mNameError\u001b[0m: name 'r' is not defined"
     ]
    }
   ],
   "source": [
    "r.headers"
   ]
  },
  {
   "cell_type": "code",
   "execution_count": null,
   "metadata": {},
   "outputs": [],
   "source": [
    "r.content"
   ]
  },
  {
   "cell_type": "code",
   "execution_count": 17,
   "metadata": {},
   "outputs": [
    {
     "data": {
      "text/plain": [
       "'<html lang=\"en\">\\r\\n<head>\\r\\n<title>BaseMaps/BaseMap (MapServer)</title>\\r\\n<link href=\"/arcgis/rest/static/main.css\" rel=\"stylesheet\" type=\"text/css\"/>\\r\\n</head>\\r\\n<body>\\r\\n<table width=\"100%\" class=\"userTable\">\\r\\n<tr>\\r\\n<td class=\"titlecell\">\\r\\nArcGIS REST Services Directory\\r\\n</td>\\r\\n<td align=\"right\">\\r\\n<a href=\"https://pkk.rosreestr.ru/arcgis/rest/login\">Login</a>\\r\\n| <a href=\"https://pkk.rosreestr.ru/arcgis/tokens/\">Get Token</a>\\r\\n</td>\\r\\n</tr>\\r\\n</table>\\r\\n<table width=\"100%\" class=\"navTable\">\\r\\n<tr valign=\"top\">\\r\\n<td class=\"breadcrumbs\">\\r\\n<a href=\"/arcgis/rest/services\">Home</a>\\r\\n&gt; <a href=\"/arcgis/rest/services\">services</a>\\r\\n&gt; <a href=\"/arcgis/rest/services/BaseMaps\">BaseMaps</a>\\r\\n&gt; <a href=\"/arcgis/rest/services/BaseMaps/BaseMap/MapServer\">BaseMap (MapServer)</a>\\r\\n</td>\\r\\n<td align=\"right\">\\r\\n<a href=\"https://pkk.rosreestr.ru/arcgis/sdk/rest/02ss/02ss00000057000000.htm\" target=\"_blank\">Help</a> | <a href=\"https://pkk.rosreestr.ru/arcgis/rest/services/BaseMaps/BaseMap/MapServer?f=help\" target=\"_blank\">API Reference</a>\\r\\n</td>\\r\\n</tr>\\r\\n</table><table>\\r\\n<tr>\\r\\n<td class=\"apiref\">\\r\\n<a href=\"?f=pjson\" target=\"_blank\">JSON</a>\\r\\n| <a href=\"https://pkk.rosreestr.ru/arcgis/services/BaseMaps/BaseMap/MapServer?wsdl\" >SOAP</a>\\r\\n| <a href=\"/arcgis/rest/services/BaseMaps/BaseMap/MapServer/WMTS/1.0.0/WMTSCapabilities.xml\" >WMTS</a>\\r\\n</td>\\r\\n</tr>\\r\\n</table>\\r\\n<h2>BaseMaps/BaseMap (MapServer)</h2>\\r\\n<div class=\"rbody\">\\r\\n<b>View In:</b>\\r\\n&nbsp;&nbsp;<a href=\"/arcgis/rest/services/BaseMaps/BaseMap/MapServer?f=jsapi\" target=\"_blank\">ArcGIS JavaScript</a>\\r\\n&nbsp;&nbsp;<a href=\"http://www.arcgis.com/home/webmap/viewer.html?url=https%3A%2F%2Fpkk.rosreestr.ru%2Farcgis%2Frest%2Fservices%2FBaseMaps%2FBaseMap%2FMapServer&source=sd\" target=\"_blank\">ArcGIS Online map viewer</a>\\r\\n&nbsp;&nbsp;<a href=\"/arcgis/rest/services/BaseMaps/BaseMap/MapServer/kml/mapImage.kmz\">ArcGIS Earth</a>\\r\\n&nbsp;&nbsp;<a href=\"/arcgis/rest/services/BaseMaps/BaseMap/MapServer?f=lyr&v=9.3\" target=\"_blank\">ArcMap</a>\\r\\n&nbsp;&nbsp;<a href=\"/arcgis/rest/services/BaseMaps/BaseMap/MapServer?f=pitemx\" target=\"_blank\">ArcGIS Pro</a>\\r\\n<br/><br/>\\r\\n<b>View Footprint In:</b>\\r\\n&nbsp;&nbsp;<a href=\"http://www.arcgis.com/home/webmap/viewer.html?featurecollection=https%3A%2F%2Fpkk.rosreestr.ru%2Farcgis%2Frest%2Fservices%2FBaseMaps%2FBaseMap%2FMapServer%3Ff%3Djson%26option%3Dfootprints&supportsProjection=true&supportsJSONP=true\" target=\"_blank\">ArcGIS Online map viewer</a>\\r\\n<br/><br/>\\r\\n<b>Service Description: </b> Единая электронная картографическая основа Российской Федерации<br/><br/>\\r\\n<b>Map Name: </b> Russia<br/><br/>\\r\\n<a href=\"/arcgis/rest/services/BaseMaps/BaseMap/MapServer/legend\">Legend</a><br/><br/>\\r\\n<a href=\"/arcgis/rest/services/BaseMaps/BaseMap/MapServer/layers\">All Layers and Tables</a><br/><br/>\\r\\n<b>Layers: </b>\\r\\n<ul>\\r\\n<li>\\r\\n<a href=\"/arcgis/rest/services/BaseMaps/BaseMap/MapServer/0\">Russia</a> (0)\\r\\n</li>\\r\\n</ul>\\r\\n<b>Description: </b> Публичная картографическая основа Российской Федерации<br/><br/>\\r\\n<b>Copyright Text: </b> ЕЭКО © Росреестр 2010<br/> <br/>\\r\\n<b>Spatial Reference: </b>\\r\\n102100\\r\\n&nbsp;(3857)\\r\\n<br/><br/><br/>\\r\\n<b>Single Fused Map Cache: </b> true<br/><br/>\\r\\n<b>Tile Info: </b>\\r\\n<ul>\\r\\n<li><b>Height</b>: 256</li>\\r\\n<li><b>Width</b>: 256</li>\\r\\n<li><b>DPI</b>: 96</li>\\r\\n<li>\\r\\n<b>Levels of Detail: </b> <i>21</i>\\r\\n<ul>\\r\\n<li>\\r\\n<b>Level ID:</b> 0\\r\\n[ <a href=\"/arcgis/rest/services/BaseMaps/BaseMap/MapServer/tile/0/0/0\">Start Tile</a>, <a href=\"/arcgis/rest/services/BaseMaps/BaseMap/MapServer/tile/0/1/0\">End Tile</a> ]\\r\\n</li>\\r\\n<ul>\\r\\n<li>Resolution: 156543.03392800014</li>\\r\\n<li>Scale: 5.91657527591555E8</li>\\r\\n</ul>\\r\\n</ul>\\r\\n<ul>\\r\\n<li>\\r\\n<b>Level ID:</b> 1\\r\\n[ <a href=\"/arcgis/rest/services/BaseMaps/BaseMap/MapServer/tile/1/0/0\">Start Tile</a>, <a href=\"/arcgis/rest/services/BaseMaps/BaseMap/MapServer/tile/1/2/1\">End Tile</a> ]\\r\\n</li>\\r\\n<ul>\\r\\n<li>Resolution: 78271.51696399994</li>\\r\\n<li>Scale: 2.95828763795777E8</li>\\r\\n</ul>\\r\\n</ul>\\r\\n<ul>\\r\\n<li>\\r\\n<b>Level ID:</b> 2\\r\\n[ <a href=\"/arcgis/rest/services/BaseMaps/BaseMap/MapServer/tile/2/0/0\">Start Tile</a>, <a href=\"/arcgis/rest/services/BaseMaps/BaseMap/MapServer/tile/2/5/3\">End Tile</a> ]\\r\\n</li>\\r\\n<ul>\\r\\n<li>Resolution: 39135.75848200009</li>\\r\\n<li>Scale: 1.47914381897889E8</li>\\r\\n</ul>\\r\\n</ul>\\r\\n<ul>\\r\\n<li>\\r\\n<b>Level ID:</b> 3\\r\\n[ <a href=\"/arcgis/rest/services/BaseMaps/BaseMap/MapServer/tile/3/0/0\">Start Tile</a>, <a href=\"/arcgis/rest/services/BaseMaps/BaseMap/MapServer/tile/3/10/7\">End Tile</a> ]\\r\\n</li>\\r\\n<ul>\\r\\n<li>Resolution: 19567.87924099992</li>\\r\\n<li>Scale: 7.3957190948944E7</li>\\r\\n</ul>\\r\\n</ul>\\r\\n<ul>\\r\\n<li>\\r\\n<b>Level ID:</b> 4\\r\\n[ <a href=\"/arcgis/rest/services/BaseMaps/BaseMap/MapServer/tile/4/0/0\">Start Tile</a>, <a href=\"/arcgis/rest/services/BaseMaps/BaseMap/MapServer/tile/4/20/15\">End Tile</a> ]\\r\\n</li>\\r\\n<ul>\\r\\n<li>Resolution: 9783.93962049996</li>\\r\\n<li>Scale: 3.6978595474472E7</li>\\r\\n</ul>\\r\\n</ul>\\r\\n<ul>\\r\\n<li>\\r\\n<b>Level ID:</b> 5\\r\\n[ <a href=\"/arcgis/rest/services/BaseMaps/BaseMap/MapServer/tile/5/1/0\">Start Tile</a>, <a href=\"/arcgis/rest/services/BaseMaps/BaseMap/MapServer/tile/5/40/31\">End Tile</a> ]\\r\\n</li>\\r\\n<ul>\\r\\n<li>Resolution: 4891.96981024998</li>\\r\\n<li>Scale: 1.8489297737236E7</li>\\r\\n</ul>\\r\\n</ul>\\r\\n<ul>\\r\\n<li>\\r\\n<b>Level ID:</b> 6\\r\\n[ <a href=\"/arcgis/rest/services/BaseMaps/BaseMap/MapServer/tile/6/2/0\">Start Tile</a>, <a href=\"/arcgis/rest/services/BaseMaps/BaseMap/MapServer/tile/6/80/63\">End Tile</a> ]\\r\\n</li>\\r\\n<ul>\\r\\n<li>Resolution: 2445.98490512499</li>\\r\\n<li>Scale: 9244648.868618</li>\\r\\n</ul>\\r\\n</ul>\\r\\n<ul>\\r\\n<li>\\r\\n<b>Level ID:</b> 7\\r\\n[ <a href=\"/arcgis/rest/services/BaseMaps/BaseMap/MapServer/tile/7/5/0\">Start Tile</a>, <a href=\"/arcgis/rest/services/BaseMaps/BaseMap/MapServer/tile/7/160/127\">End Tile</a> ]\\r\\n</li>\\r\\n<ul>\\r\\n<li>Resolution: 1222.992452562495</li>\\r\\n<li>Scale: 4622324.434309</li>\\r\\n</ul>\\r\\n</ul>\\r\\n<ul>\\r\\n<li>\\r\\n<b>Level ID:</b> 8\\r\\n[ <a href=\"/arcgis/rest/services/BaseMaps/BaseMap/MapServer/tile/8/10/0\">Start Tile</a>, <a href=\"/arcgis/rest/services/BaseMaps/BaseMap/MapServer/tile/8/321/255\">End Tile</a> ]\\r\\n</li>\\r\\n<ul>\\r\\n<li>Resolution: 611.4962262813797</li>\\r\\n<li>Scale: 2311162.217155</li>\\r\\n</ul>\\r\\n</ul>\\r\\n<ul>\\r\\n<li>\\r\\n<b>Level ID:</b> 9\\r\\n[ <a href=\"/arcgis/rest/services/BaseMaps/BaseMap/MapServer/tile/9/20/0\">Start Tile</a>, <a href=\"/arcgis/rest/services/BaseMaps/BaseMap/MapServer/tile/9/642/511\">End Tile</a> ]\\r\\n</li>\\r\\n<ul>\\r\\n<li>Resolution: 305.74811314055756</li>\\r\\n<li>Scale: 1155581.108577</li>\\r\\n</ul>\\r\\n</ul>\\r\\n<ul>\\r\\n<li>\\r\\n<b>Level ID:</b> 10\\r\\n[ <a href=\"/arcgis/rest/services/BaseMaps/BaseMap/MapServer/tile/10/41/0\">Start Tile</a>, <a href=\"/arcgis/rest/services/BaseMaps/BaseMap/MapServer/tile/10/1284/1023\">End Tile</a> ]\\r\\n</li>\\r\\n<ul>\\r\\n<li>Resolution: 152.87405657041106</li>\\r\\n<li>Scale: 577790.554289</li>\\r\\n</ul>\\r\\n</ul>\\r\\n<ul>\\r\\n<li>\\r\\n<b>Level ID:</b> 11\\r\\n[ <a href=\"/arcgis/rest/services/BaseMaps/BaseMap/MapServer/tile/11/82/0\">Start Tile</a>, <a href=\"/arcgis/rest/services/BaseMaps/BaseMap/MapServer/tile/11/2569/2047\">End Tile</a> ]\\r\\n</li>\\r\\n<ul>\\r\\n<li>Resolution: 76.43702828507324</li>\\r\\n<li>Scale: 288895.277144</li>\\r\\n</ul>\\r\\n</ul>\\r\\n<ul>\\r\\n<li>\\r\\n<b>Level ID:</b> 12\\r\\n[ <a href=\"/arcgis/rest/services/BaseMaps/BaseMap/MapServer/tile/12/165/0\">Start Tile</a>, <a href=\"/arcgis/rest/services/BaseMaps/BaseMap/MapServer/tile/12/5138/4095\">End Tile</a> ]\\r\\n</li>\\r\\n<ul>\\r\\n<li>Resolution: 38.21851414253662</li>\\r\\n<li>Scale: 144447.638572</li>\\r\\n</ul>\\r\\n</ul>\\r\\n<ul>\\r\\n<li>\\r\\n<b>Level ID:</b> 13\\r\\n[ <a href=\"/arcgis/rest/services/BaseMaps/BaseMap/MapServer/tile/13/330/0\">Start Tile</a>, <a href=\"/arcgis/rest/services/BaseMaps/BaseMap/MapServer/tile/13/10277/8191\">End Tile</a> ]\\r\\n</li>\\r\\n<ul>\\r\\n<li>Resolution: 19.10925707126831</li>\\r\\n<li>Scale: 72223.819286</li>\\r\\n</ul>\\r\\n</ul>\\r\\n<ul>\\r\\n<li>\\r\\n<b>Level ID:</b> 14\\r\\n[ <a href=\"/arcgis/rest/services/BaseMaps/BaseMap/MapServer/tile/14/661/0\">Start Tile</a>, <a href=\"/arcgis/rest/services/BaseMaps/BaseMap/MapServer/tile/14/20555/16383\">End Tile</a> ]\\r\\n</li>\\r\\n<ul>\\r\\n<li>Resolution: 9.554628535634155</li>\\r\\n<li>Scale: 36111.909643</li>\\r\\n</ul>\\r\\n</ul>\\r\\n<ul>\\r\\n<li>\\r\\n<b>Level ID:</b> 15\\r\\n[ <a href=\"/arcgis/rest/services/BaseMaps/BaseMap/MapServer/tile/15/1323/0\">Start Tile</a>, <a href=\"/arcgis/rest/services/BaseMaps/BaseMap/MapServer/tile/15/41111/32767\">End Tile</a> ]\\r\\n</li>\\r\\n<ul>\\r\\n<li>Resolution: 4.77731426794937</li>\\r\\n<li>Scale: 18055.954822</li>\\r\\n</ul>\\r\\n</ul>\\r\\n<ul>\\r\\n<li>\\r\\n<b>Level ID:</b> 16\\r\\n[ <a href=\"/arcgis/rest/services/BaseMaps/BaseMap/MapServer/tile/16/2647/0\">Start Tile</a>, <a href=\"/arcgis/rest/services/BaseMaps/BaseMap/MapServer/tile/16/82222/65535\">End Tile</a> ]\\r\\n</li>\\r\\n<ul>\\r\\n<li>Resolution: 2.388657133974685</li>\\r\\n<li>Scale: 9027.977411</li>\\r\\n</ul>\\r\\n</ul>\\r\\n<ul>\\r\\n<li>\\r\\n<b>Level ID:</b> 17\\r\\n[ <a href=\"/arcgis/rest/services/BaseMaps/BaseMap/MapServer/tile/17/5295/0\">Start Tile</a>, <a href=\"/arcgis/rest/services/BaseMaps/BaseMap/MapServer/tile/17/164444/131071\">End Tile</a> ]\\r\\n</li>\\r\\n<ul>\\r\\n<li>Resolution: 1.1943285668550503</li>\\r\\n<li>Scale: 4513.988705</li>\\r\\n</ul>\\r\\n</ul>\\r\\n<ul>\\r\\n<li>\\r\\n<b>Level ID:</b> 18\\r\\n[ <a href=\"/arcgis/rest/services/BaseMaps/BaseMap/MapServer/tile/18/10591/0\">Start Tile</a>, <a href=\"/arcgis/rest/services/BaseMaps/BaseMap/MapServer/tile/18/328888/262143\">End Tile</a> ]\\r\\n</li>\\r\\n<ul>\\r\\n<li>Resolution: 0.5971642835598172</li>\\r\\n<li>Scale: 2256.994353</li>\\r\\n</ul>\\r\\n</ul>\\r\\n<ul>\\r\\n<li>\\r\\n<b>Level ID:</b> 19\\r\\n[ <a href=\"/arcgis/rest/services/BaseMaps/BaseMap/MapServer/tile/19/21182/0\">Start Tile</a>, <a href=\"/arcgis/rest/services/BaseMaps/BaseMap/MapServer/tile/19/657776/524287\">End Tile</a> ]\\r\\n</li>\\r\\n<ul>\\r\\n<li>Resolution: 0.29858214164761665</li>\\r\\n<li>Scale: 1128.497176</li>\\r\\n</ul>\\r\\n</ul>\\r\\n<ul>\\r\\n<li>\\r\\n<b>Level ID:</b> 20\\r\\n[ <a href=\"/arcgis/rest/services/BaseMaps/BaseMap/MapServer/tile/20/42364/0\">Start Tile</a>, <a href=\"/arcgis/rest/services/BaseMaps/BaseMap/MapServer/tile/20/1315552/1048575\">End Tile</a> ]\\r\\n</li>\\r\\n<ul>\\r\\n<li>Resolution: 0.14929107082380833</li>\\r\\n<li>Scale: 564.248588</li>\\r\\n</ul>\\r\\n</ul>\\r\\n</li>\\r\\n<li><b>Format</b>: JPEG</li>\\r\\n<li><b>Compression Quality</b>: 90.0</li>\\r\\n<li><b>Origin</b>: <i>X: </i> -2.0037508342787E7<br/>\\r\\n<i>Y: </i> 2.0037508342787E7<br/>\\r\\n</li>\\r\\n<li><b>Spatial Reference</b>: 102100\\r\\n&nbsp;(3857)\\r\\n<br/></li>\\r\\n</ul>\\r\\n<b>Initial Extent: </b>\\r\\n<ul>\\r\\nXMin: 789564.0706736222<br/>\\r\\nYMin: 7878029.571018713<br/>\\r\\nXMax: 1.949645662506967E7<br/>\\r\\nYMax: 1.6446071962345148E7<br/>\\r\\nSpatial Reference: 102100<br/><br/>\\r\\n</ul>\\r\\n<b>Full Extent: </b>\\r\\n<ul>\\r\\nXMin: -2.0037506999167364E7<br/>\\r\\nYMin: -3.0240971980489932E7<br/>\\r\\nXMax: 2.0037507136201713E7<br/>\\r\\nYMax: 1.8418386067528047E7<br/>\\r\\nSpatial Reference: 102100<br/><br/>\\r\\n</ul>\\r\\n<b>Units: </b> esriMeters<br/><br/>\\r\\n<b>Supported Image Format Types: </b> PNG32,PNG24,PNG,JPG,DIB,TIFF,EMF,PS,PDF,GIF,SVG,SVGZ,BMP<br/><br/>\\r\\n<b>Document Info: </b>\\r\\n<ul>\\r\\nTitle: Карта России<br/>\\nAuthor: ГосГИС Центр, ДАТА+<br/>\\nComments: Публичная картографическая основа Российской Федерации<br/>\\nSubject: Публичная картографическая основа Российской Федерации<br/>\\nCategory: <br/>\\nKeywords: basemap,cartograhy,cadastre,Rosreestr,Russia,Россия,Росреестр,Картография,Кадастр<br/>\\nAntialiasingMode: Best<br/>\\nTextAntialiasingMode: Force<br/></ul>\\r\\n<b>Supports Dynamic Layers: </b> false<br/><br/>\\r\\n<b>MaxRecordCount: </b> 1000<br/><br/>\\r\\n<b>MaxImageHeight: </b> 4096<br/><br/>\\r\\n<b>MaxImageWidth: </b> 4096<br/><br/>\\r\\n<b>Supported Query Formats: </b> JSON, geoJSON<br/><br/>\\r\\n<b>Min Scale: </b> 5.91657527591555E8<br/><br/>\\r\\n<b>Max Scale: </b> 564.248588<br/><br/>\\r\\n<b>Supports Datum Transformation: </b> true<br/><br/>\\r\\n<br/><br/>\\r\\n<b>Child Resources</b>:\\r\\n&nbsp;&nbsp;<a href=\"/arcgis/rest/services/BaseMaps/BaseMap/MapServer/info\">Info</a>\\r\\n<br/> <br/>\\r\\n<b>Supported Operations</b>:\\r\\n&nbsp;&nbsp;<a href=\"/arcgis/rest/services/BaseMaps/BaseMap/MapServer/export?bbox=789564.0706736222,7878029.571018713,1.949645662506967E7,1.6446071962345148E7\">Export Map</a>\\r\\n&nbsp;&nbsp;<a href=\"/arcgis/rest/services/BaseMaps/BaseMap/MapServer/estimateExportTilesSize\">EstimateExportTilesSize</a>\\r\\n&nbsp;&nbsp;<a href=\"/arcgis/rest/services/BaseMaps/BaseMap/MapServer/exportTiles\">ExportTiles</a>\\r\\n&nbsp;&nbsp;<a href=\"/arcgis/rest/services/BaseMaps/BaseMap/MapServer?f=pjson&returnUpdates=true&\">Return Updates</a>\\r\\n</div>\\r\\n<br/><br/>\\r\\n</body>\\r\\n</html>\\r\\n'"
      ]
     },
     "execution_count": 17,
     "metadata": {},
     "output_type": "execute_result"
    }
   ],
   "source": [
    "r.text"
   ]
  },
  {
   "cell_type": "code",
   "execution_count": 14,
   "metadata": {},
   "outputs": [
    {
     "ename": "NameError",
     "evalue": "name 'html' is not defined",
     "output_type": "error",
     "traceback": [
      "\u001b[1;31m---------------------------------------------------------------------------\u001b[0m",
      "\u001b[1;31mNameError\u001b[0m                                 Traceback (most recent call last)",
      "\u001b[1;32m<ipython-input-14-0f05caaaba1e>\u001b[0m in \u001b[0;36m<module>\u001b[1;34m()\u001b[0m\n\u001b[1;32m----> 1\u001b[1;33m \u001b[0mtest\u001b[0m \u001b[1;33m=\u001b[0m \u001b[0mhtml\u001b[0m\u001b[1;33m.\u001b[0m\u001b[0mfromstring\u001b[0m\u001b[1;33m(\u001b[0m\u001b[0mr\u001b[0m\u001b[1;33m.\u001b[0m\u001b[0mtext\u001b[0m\u001b[1;33m)\u001b[0m\u001b[1;33m\u001b[0m\u001b[1;33m\u001b[0m\u001b[0m\n\u001b[0m",
      "\u001b[1;31mNameError\u001b[0m: name 'html' is not defined"
     ]
    }
   ],
   "source": [
    "test = html.fromstring(r.text)"
   ]
  },
  {
   "cell_type": "code",
   "execution_count": 3,
   "metadata": {},
   "outputs": [
    {
     "data": {
      "text/html": [
       "<div>\n",
       "<style scoped>\n",
       "    .dataframe tbody tr th:only-of-type {\n",
       "        vertical-align: middle;\n",
       "    }\n",
       "\n",
       "    .dataframe tbody tr th {\n",
       "        vertical-align: top;\n",
       "    }\n",
       "\n",
       "    .dataframe thead th {\n",
       "        text-align: right;\n",
       "    }\n",
       "</style>\n",
       "<table border=\"1\" class=\"dataframe\">\n",
       "  <thead>\n",
       "    <tr style=\"text-align: right;\">\n",
       "      <th></th>\n",
       "      <th>geometry</th>\n",
       "      <th>kunta</th>\n",
       "      <th>vuosi</th>\n",
       "      <th>nimi</th>\n",
       "      <th>namn</th>\n",
       "      <th>name</th>\n",
       "      <th>bbox</th>\n",
       "    </tr>\n",
       "  </thead>\n",
       "  <tbody>\n",
       "    <tr>\n",
       "      <th>0</th>\n",
       "      <td>POLYGON ((366787.924 7001300.583, 362458.797 6...</td>\n",
       "      <td>005</td>\n",
       "      <td>2020</td>\n",
       "      <td>Alajärvi</td>\n",
       "      <td>Alajärvi</td>\n",
       "      <td>Alajärvi</td>\n",
       "      <td>[321987.07200161, 6959704.55099558, 366787.924...</td>\n",
       "    </tr>\n",
       "    <tr>\n",
       "      <th>1</th>\n",
       "      <td>POLYGON ((382543.364 7120022.976, 372645.944 7...</td>\n",
       "      <td>009</td>\n",
       "      <td>2020</td>\n",
       "      <td>Alavieska</td>\n",
       "      <td>Alavieska</td>\n",
       "      <td>Alavieska</td>\n",
       "      <td>[360962.99200022, 7104339.03799839, 382543.364...</td>\n",
       "    </tr>\n",
       "    <tr>\n",
       "      <th>2</th>\n",
       "      <td>POLYGON ((343298.204 6961570.195, 345569.224 6...</td>\n",
       "      <td>010</td>\n",
       "      <td>2020</td>\n",
       "      <td>Alavus</td>\n",
       "      <td>Alavus</td>\n",
       "      <td>Alavus</td>\n",
       "      <td>[303353.32000378, 6922242.40698068, 345569.224...</td>\n",
       "    </tr>\n",
       "    <tr>\n",
       "      <th>3</th>\n",
       "      <td>POLYGON ((436139.680 6798279.085, 435912.756 6...</td>\n",
       "      <td>016</td>\n",
       "      <td>2020</td>\n",
       "      <td>Asikkala</td>\n",
       "      <td>Asikkala</td>\n",
       "      <td>Asikkala</td>\n",
       "      <td>[403543.81899999, 6774122.31100019, 442401.762...</td>\n",
       "    </tr>\n",
       "    <tr>\n",
       "      <th>4</th>\n",
       "      <td>POLYGON ((426631.036 6720528.076, 432565.266 6...</td>\n",
       "      <td>018</td>\n",
       "      <td>2020</td>\n",
       "      <td>Askola</td>\n",
       "      <td>Askola</td>\n",
       "      <td>Askola</td>\n",
       "      <td>[413073.96299999, 6704555.87800016, 435459.201...</td>\n",
       "    </tr>\n",
       "  </tbody>\n",
       "</table>\n",
       "</div>"
      ],
      "text/plain": [
       "                                            geometry kunta  vuosi       nimi  \\\n",
       "0  POLYGON ((366787.924 7001300.583, 362458.797 6...   005   2020   Alajärvi   \n",
       "1  POLYGON ((382543.364 7120022.976, 372645.944 7...   009   2020  Alavieska   \n",
       "2  POLYGON ((343298.204 6961570.195, 345569.224 6...   010   2020     Alavus   \n",
       "3  POLYGON ((436139.680 6798279.085, 435912.756 6...   016   2020   Asikkala   \n",
       "4  POLYGON ((426631.036 6720528.076, 432565.266 6...   018   2020     Askola   \n",
       "\n",
       "        namn       name                                               bbox  \n",
       "0   Alajärvi   Alajärvi  [321987.07200161, 6959704.55099558, 366787.924...  \n",
       "1  Alavieska  Alavieska  [360962.99200022, 7104339.03799839, 382543.364...  \n",
       "2     Alavus     Alavus  [303353.32000378, 6922242.40698068, 345569.224...  \n",
       "3   Asikkala   Asikkala  [403543.81899999, 6774122.31100019, 442401.762...  \n",
       "4     Askola     Askola  [413073.96299999, 6704555.87800016, 435459.201...  "
      ]
     },
     "execution_count": 3,
     "metadata": {},
     "output_type": "execute_result"
    }
   ],
   "source": [
    "data.head()"
   ]
  },
  {
   "cell_type": "code",
   "execution_count": null,
   "metadata": {},
   "outputs": [],
   "source": []
  },
  {
   "cell_type": "code",
   "execution_count": null,
   "metadata": {},
   "outputs": [],
   "source": []
  }
 ],
 "metadata": {
  "kernelspec": {
   "display_name": "Python 3",
   "language": "python",
   "name": "python3"
  },
  "language_info": {
   "codemirror_mode": {
    "name": "ipython",
    "version": 3
   },
   "file_extension": ".py",
   "mimetype": "text/x-python",
   "name": "python",
   "nbconvert_exporter": "python",
   "pygments_lexer": "ipython3",
   "version": "3.6.12"
  }
 },
 "nbformat": 4,
 "nbformat_minor": 4
}
