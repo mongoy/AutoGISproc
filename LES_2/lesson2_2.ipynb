{
 "cells": [
  {
   "cell_type": "markdown",
   "metadata": {},
   "source": [
    "# Урок № 2\n",
    "### [Картографические проекции](https://autogis-site.readthedocs.io/en/latest/notebooks/L2/02-projections.html)\n",
    "\n",
    "**Координатные системы отсчета (CRS)** важны, поскольку геометрические фигуры в геодезическом каркасе-это просто набор координат в произвольном пространстве. CRS сообщает Python, как эти координаты связаны с местами на Земле. **Картографическая проекция** (или проекционная система координат) - это систематическое преобразование широты и долготы в плоскую поверхность, где единицы измерения довольно часто представлены в виде метров (вместо десятичных градусов). Это преобразование используется для представления трехмерной земли на плоской двумерной карте.\n",
    "\n",
    "Поскольку CRS в разных пространственных наборах данных довольно часто различаются (например, у одного могут быть координаты, определенные в десятичных градусах, а у другого-в метрах), это обычная процедура перепроектирования (преобразования) различных слоев в общую CRS. Важно, чтобы слои находились в одной координатной системе отсчета при анализе пространственных отношений между слоями, например, при создании точки в полигональном запросе или другом типе анализа наложения.\n",
    "\n",
    "Выбор подходящей проекции для вашей карты не всегда прост, потому что это зависит от того, что вы на самом деле хотите представить с помощью вашей карты, и каков пространственный масштаб ваших данных. На самом деле, нет ни одной “идеальной проекции”, так как каждая из них имеет свои сильные и слабые стороны, и вы должны выбрать проекцию, которая лучше всего соответствует вашим потребностям. На самом деле, проекция, которую вы выберете, может даже рассказать что-то о вас!\n",
    "\n",
    "![](img/Map-projections.png)\n",
    "\n",
    "Источник: XKCD, Смотрите полный комикс [о том,” что ваша любимая картографическая проекция говорит о вас\"](https://xkcd.com/977/).\n",
    "\n",
    "Для тех из вас, кто хочет немного более аналитического подхода к выбору проекции, вы можете получить хороший обзор от [georeference.org](http://www.georeference.org/doc/guide_to_selecting_map_projections.htm), или из этого сообщения в блоге, представляющего [сильные и слабые стороны нескольких широко используемых прогнозов.](http://usersguidetotheuniverse.com/index.php/2011/03/03/whats-the-best-map-projection/)\n",
    "\n"
   ]
  },
  {
   "cell_type": "markdown",
   "metadata": {},
   "source": [
    "##### Система координат (CRS) в Geopandas\n",
    "\n",
    "К счастью, определить и изменить проекции легко с помощью **Geopandas** и библиотеки под названием **pyproj**. В этом уроке мы увидим, как получить координируйте информацию о системе отсчета из этих данных и о том, как перепроектировать эти данные в другую crs. Мы перепроектируем файл данных из **WGS84** (координаты ``lat``, ``lon``) в азимутальную проекцию Ламберта равной площади, которая является рекомендуемой проекцией для Европа Европейской комиссией.\n",
    "\n",
    "Для этого урока мы будем использовать Шейп-файл под названием Europe_borders.shprepresenting the country borders in Europe, который вы уже должны были загрузить во время предыдущего урока в L2_data папку.\n",
    "\n",
    "В Шейп-файлах информация о системе координат хранится в файле .prj-file. Если этот файл отсутствует, у вас могут быть неприятности!. При считывании данных в GeoDataFrame с Geopandas CRS информация автоматически сохраняется в `.crs` атрибуте GeoDataFrame.\n",
    "\n",
    "Давайте начнем с чтения данных из Europe_borders.shp файла и проверки crs:"
   ]
  },
  {
   "cell_type": "code",
   "execution_count": 2,
   "metadata": {},
   "outputs": [],
   "source": [
    "import os\n",
    "import geopandas as gpd\n",
    "\n",
    "\n",
    "# Корректное отображение графиков в jupyter\n",
    "%matplotlib inline"
   ]
  },
  {
   "cell_type": "code",
   "execution_count": 4,
   "metadata": {},
   "outputs": [
    {
     "data": {
      "text/html": [
       "<div>\n",
       "<style scoped>\n",
       "    .dataframe tbody tr th:only-of-type {\n",
       "        vertical-align: middle;\n",
       "    }\n",
       "\n",
       "    .dataframe tbody tr th {\n",
       "        vertical-align: top;\n",
       "    }\n",
       "\n",
       "    .dataframe thead th {\n",
       "        text-align: right;\n",
       "    }\n",
       "</style>\n",
       "<table border=\"1\" class=\"dataframe\">\n",
       "  <thead>\n",
       "    <tr style=\"text-align: right;\">\n",
       "      <th></th>\n",
       "      <th>TZID</th>\n",
       "      <th>geometry</th>\n",
       "    </tr>\n",
       "  </thead>\n",
       "  <tbody>\n",
       "    <tr>\n",
       "      <th>0</th>\n",
       "      <td>Europe/Berlin</td>\n",
       "      <td>POLYGON ((8.45778 54.56236, 8.44953 54.56269, ...</td>\n",
       "    </tr>\n",
       "    <tr>\n",
       "      <th>1</th>\n",
       "      <td>Europe/Berlin</td>\n",
       "      <td>POLYGON ((8.71992 47.69664, 8.72092 47.69530, ...</td>\n",
       "    </tr>\n",
       "    <tr>\n",
       "      <th>2</th>\n",
       "      <td>Europe/Berlin</td>\n",
       "      <td>POLYGON ((6.73317 53.57409, 6.73017 53.57542, ...</td>\n",
       "    </tr>\n",
       "    <tr>\n",
       "      <th>3</th>\n",
       "      <td>Europe/Berlin</td>\n",
       "      <td>POLYGON ((6.85822 53.59411, 6.85592 53.59550, ...</td>\n",
       "    </tr>\n",
       "    <tr>\n",
       "      <th>4</th>\n",
       "      <td>Europe/Berlin</td>\n",
       "      <td>POLYGON ((6.89894 53.62561, 6.88439 53.62814, ...</td>\n",
       "    </tr>\n",
       "  </tbody>\n",
       "</table>\n",
       "</div>"
      ],
      "text/plain": [
       "            TZID                                           geometry\n",
       "0  Europe/Berlin  POLYGON ((8.45778 54.56236, 8.44953 54.56269, ...\n",
       "1  Europe/Berlin  POLYGON ((8.71992 47.69664, 8.72092 47.69530, ...\n",
       "2  Europe/Berlin  POLYGON ((6.73317 53.57409, 6.73017 53.57542, ...\n",
       "3  Europe/Berlin  POLYGON ((6.85822 53.59411, 6.85592 53.59550, ...\n",
       "4  Europe/Berlin  POLYGON ((6.89894 53.62561, 6.88439 53.62814, ..."
      ]
     },
     "execution_count": 4,
     "metadata": {},
     "output_type": "execute_result"
    }
   ],
   "source": [
    "# Текущая директория\n",
    "ROOT_PATH = os.path.abspath(os.curdir)\n",
    "\n",
    "# Папка с данными\n",
    "fp = os.path.join(ROOT_PATH, r\"L2_data\\Europe_borders.shp\")\n",
    "\n",
    "# Чтение\n",
    "data = gpd.read_file(fp)\n",
    "data.head()"
   ]
  },
  {
   "cell_type": "code",
   "execution_count": 6,
   "metadata": {},
   "outputs": [
    {
     "data": {
      "text/plain": [
       "<Geographic 2D CRS: EPSG:4326>\n",
       "Name: WGS 84\n",
       "Axis Info [ellipsoidal]:\n",
       "- Lat[north]: Geodetic latitude (degree)\n",
       "- Lon[east]: Geodetic longitude (degree)\n",
       "Area of Use:\n",
       "- name: World\n",
       "- bounds: (-180.0, -90.0, 180.0, 90.0)\n",
       "Datum: World Geodetic System 1984\n",
       "- Ellipsoid: WGS 84\n",
       "- Prime Meridian: Greenwich"
      ]
     },
     "execution_count": 6,
     "metadata": {},
     "output_type": "execute_result"
    }
   ],
   "source": [
    "# Проверьте данные системы координат\n",
    "data.crs"
   ]
  },
  {
   "cell_type": "markdown",
   "metadata": {},
   "source": [
    "То, что мы видим здесь, на самом деле является объектом CRS из модуля pyproj.\n",
    "\n",
    "Номер **EPSG** (названный в честь европейской группы нефтяных исследований) - это код, который сообщает о системе координат набора данных. \"[Набор данных геодезических параметров EPSG](http://www.epsg.org/) представляет собой набор определений координатных систем отсчета и преобразований координат, которые могут быть глобальными, региональными, национальными или локальными в применении”.\n",
    "\n",
    "Код **EPSG** нашего geodataframe `4326`- это код, который относится к системе координат **WGS84** (мы также можем выяснить это, посмотрев на значения координат, которые являются десятичными градусами долготы и широты).\n",
    "\n",
    "Вы можете найти много информации и списков доступных систем координат из:\n",
    "\n",
    "www.spatialreference.org\n",
    "\n",
    "www.proj4.org\n",
    "\n",
    "www.mapref.org\n",
    "\n",
    "Давайте продолжим проверку значений в нашем geometry столбце -, чтобы убедиться, что CRS нашего GeoDataFrame кажется правильным:"
   ]
  },
  {
   "cell_type": "code",
   "execution_count": 7,
   "metadata": {},
   "outputs": [
    {
     "data": {
      "text/plain": [
       "0       POLYGON ((8.45778 54.56236, 8.44953 54.56269, ...\n",
       "1       POLYGON ((8.71992 47.69664, 8.72092 47.69530, ...\n",
       "2       POLYGON ((6.73317 53.57409, 6.73017 53.57542, ...\n",
       "3       POLYGON ((6.85822 53.59411, 6.85592 53.59550, ...\n",
       "4       POLYGON ((6.89894 53.62561, 6.88439 53.62814, ...\n",
       "                              ...                        \n",
       "3627    POLYGON ((18.75422 59.49353, 18.74311 59.49050...\n",
       "3628    POLYGON ((18.84164 59.50605, 18.84028 59.50797...\n",
       "3629    POLYGON ((18.59995 59.45653, 18.59431 59.45964...\n",
       "3630    POLYGON ((30.00000 51.48947, 29.99511 51.48572...\n",
       "3631    POLYGON ((-5.34392 36.11253, -5.34717 36.11528...\n",
       "Name: geometry, Length: 3632, dtype: geometry"
      ]
     },
     "execution_count": 7,
     "metadata": {},
     "output_type": "execute_result"
    }
   ],
   "source": [
    "data[\"geometry\"]"
   ]
  },
  {
   "cell_type": "markdown",
   "metadata": {},
   "source": [
    "Как мы видим, значения координат полигонов действительно выглядят как значения широты и долготы, так что все вроде бы в порядке.\n",
    "\n",
    "Проекция WGS84 на самом деле не очень хороша для представления европейских границ на карте (области искажаются), поэтому давайте преобразуем эти геометрии в проекцию Ламберта азимутальной равной площади [(EPSG: 3035)](http://spatialreference.org/ref/epsg/etrs89-etrs-laea/), которая является рекомендуемой проекцией Европейской комиссии.\n",
    "\n",
    "Изменение проекции очень просто [сделать в Geopandas](http://geopandas.org/projections.html#re-projecting) с `.to_crs()` - function, которая является встроенной функцией GeoDataFrame. Функция имеет два альтернативных параметра 1) `crs` и 2) `epgs`, которые можно использовать для преобразования координат и повторного проецирования данных в CRS, который вы хотите использовать.\n",
    "\n",
    "Давайте перепроектируем наши данные в EPSG 3035 используя epgs - параметр:"
   ]
  },
  {
   "cell_type": "code",
   "execution_count": 9,
   "metadata": {},
   "outputs": [
    {
     "data": {
      "text/html": [
       "<div>\n",
       "<style scoped>\n",
       "    .dataframe tbody tr th:only-of-type {\n",
       "        vertical-align: middle;\n",
       "    }\n",
       "\n",
       "    .dataframe tbody tr th {\n",
       "        vertical-align: top;\n",
       "    }\n",
       "\n",
       "    .dataframe thead th {\n",
       "        text-align: right;\n",
       "    }\n",
       "</style>\n",
       "<table border=\"1\" class=\"dataframe\">\n",
       "  <thead>\n",
       "    <tr style=\"text-align: right;\">\n",
       "      <th></th>\n",
       "      <th>TZID</th>\n",
       "      <th>geometry</th>\n",
       "    </tr>\n",
       "  </thead>\n",
       "  <tbody>\n",
       "    <tr>\n",
       "      <th>0</th>\n",
       "      <td>Europe/Berlin</td>\n",
       "      <td>POLYGON ((8.45778 54.56236, 8.44953 54.56269, ...</td>\n",
       "    </tr>\n",
       "    <tr>\n",
       "      <th>1</th>\n",
       "      <td>Europe/Berlin</td>\n",
       "      <td>POLYGON ((8.71992 47.69664, 8.72092 47.69530, ...</td>\n",
       "    </tr>\n",
       "    <tr>\n",
       "      <th>2</th>\n",
       "      <td>Europe/Berlin</td>\n",
       "      <td>POLYGON ((6.73317 53.57409, 6.73017 53.57542, ...</td>\n",
       "    </tr>\n",
       "    <tr>\n",
       "      <th>3</th>\n",
       "      <td>Europe/Berlin</td>\n",
       "      <td>POLYGON ((6.85822 53.59411, 6.85592 53.59550, ...</td>\n",
       "    </tr>\n",
       "    <tr>\n",
       "      <th>4</th>\n",
       "      <td>Europe/Berlin</td>\n",
       "      <td>POLYGON ((6.89894 53.62561, 6.88439 53.62814, ...</td>\n",
       "    </tr>\n",
       "    <tr>\n",
       "      <th>...</th>\n",
       "      <td>...</td>\n",
       "      <td>...</td>\n",
       "    </tr>\n",
       "    <tr>\n",
       "      <th>3627</th>\n",
       "      <td>Europe/Stockholm</td>\n",
       "      <td>POLYGON ((18.75422 59.49353, 18.74311 59.49050...</td>\n",
       "    </tr>\n",
       "    <tr>\n",
       "      <th>3628</th>\n",
       "      <td>Europe/Stockholm</td>\n",
       "      <td>POLYGON ((18.84164 59.50605, 18.84028 59.50797...</td>\n",
       "    </tr>\n",
       "    <tr>\n",
       "      <th>3629</th>\n",
       "      <td>Europe/Stockholm</td>\n",
       "      <td>POLYGON ((18.59995 59.45653, 18.59431 59.45964...</td>\n",
       "    </tr>\n",
       "    <tr>\n",
       "      <th>3630</th>\n",
       "      <td>Europe/Minsk</td>\n",
       "      <td>POLYGON ((30.00000 51.48947, 29.99511 51.48572...</td>\n",
       "    </tr>\n",
       "    <tr>\n",
       "      <th>3631</th>\n",
       "      <td>Europe/Gibraltar</td>\n",
       "      <td>POLYGON ((-5.34392 36.11253, -5.34717 36.11528...</td>\n",
       "    </tr>\n",
       "  </tbody>\n",
       "</table>\n",
       "<p>3632 rows × 2 columns</p>\n",
       "</div>"
      ],
      "text/plain": [
       "                  TZID                                           geometry\n",
       "0        Europe/Berlin  POLYGON ((8.45778 54.56236, 8.44953 54.56269, ...\n",
       "1        Europe/Berlin  POLYGON ((8.71992 47.69664, 8.72092 47.69530, ...\n",
       "2        Europe/Berlin  POLYGON ((6.73317 53.57409, 6.73017 53.57542, ...\n",
       "3        Europe/Berlin  POLYGON ((6.85822 53.59411, 6.85592 53.59550, ...\n",
       "4        Europe/Berlin  POLYGON ((6.89894 53.62561, 6.88439 53.62814, ...\n",
       "...                ...                                                ...\n",
       "3627  Europe/Stockholm  POLYGON ((18.75422 59.49353, 18.74311 59.49050...\n",
       "3628  Europe/Stockholm  POLYGON ((18.84164 59.50605, 18.84028 59.50797...\n",
       "3629  Europe/Stockholm  POLYGON ((18.59995 59.45653, 18.59431 59.45964...\n",
       "3630      Europe/Minsk  POLYGON ((30.00000 51.48947, 29.99511 51.48572...\n",
       "3631  Europe/Gibraltar  POLYGON ((-5.34392 36.11253, -5.34717 36.11528...\n",
       "\n",
       "[3632 rows x 2 columns]"
      ]
     },
     "execution_count": 9,
     "metadata": {},
     "output_type": "execute_result"
    }
   ],
   "source": [
    "# делаем полную копию данных\n",
    "data_WGS84 = data.copy()\n",
    "data_WGS84"
   ]
  },
  {
   "cell_type": "code",
   "execution_count": 11,
   "metadata": {},
   "outputs": [
    {
     "data": {
      "text/html": [
       "<div>\n",
       "<style scoped>\n",
       "    .dataframe tbody tr th:only-of-type {\n",
       "        vertical-align: middle;\n",
       "    }\n",
       "\n",
       "    .dataframe tbody tr th {\n",
       "        vertical-align: top;\n",
       "    }\n",
       "\n",
       "    .dataframe thead th {\n",
       "        text-align: right;\n",
       "    }\n",
       "</style>\n",
       "<table border=\"1\" class=\"dataframe\">\n",
       "  <thead>\n",
       "    <tr style=\"text-align: right;\">\n",
       "      <th></th>\n",
       "      <th>TZID</th>\n",
       "      <th>geometry</th>\n",
       "    </tr>\n",
       "  </thead>\n",
       "  <tbody>\n",
       "    <tr>\n",
       "      <th>0</th>\n",
       "      <td>Europe/Berlin</td>\n",
       "      <td>POLYGON ((4221214.558 3496203.404, 4220681.651...</td>\n",
       "    </tr>\n",
       "    <tr>\n",
       "      <th>1</th>\n",
       "      <td>Europe/Berlin</td>\n",
       "      <td>POLYGON ((4224860.478 2732279.320, 4224932.819...</td>\n",
       "    </tr>\n",
       "    <tr>\n",
       "      <th>2</th>\n",
       "      <td>Europe/Berlin</td>\n",
       "      <td>POLYGON ((4104652.176 3390034.953, 4104460.401...</td>\n",
       "    </tr>\n",
       "    <tr>\n",
       "      <th>3</th>\n",
       "      <td>Europe/Berlin</td>\n",
       "      <td>POLYGON ((4113025.664 3391895.756, 4112879.943...</td>\n",
       "    </tr>\n",
       "    <tr>\n",
       "      <th>4</th>\n",
       "      <td>Europe/Berlin</td>\n",
       "      <td>POLYGON ((4115871.228 3395282.099, 4114921.348...</td>\n",
       "    </tr>\n",
       "    <tr>\n",
       "      <th>...</th>\n",
       "      <td>...</td>\n",
       "      <td>...</td>\n",
       "    </tr>\n",
       "    <tr>\n",
       "      <th>3627</th>\n",
       "      <td>Europe/Stockholm</td>\n",
       "      <td>POLYGON ((4816590.301 4074234.333, 4816008.390...</td>\n",
       "    </tr>\n",
       "    <tr>\n",
       "      <th>3628</th>\n",
       "      <td>Europe/Stockholm</td>\n",
       "      <td>POLYGON ((4821327.245 4076229.945, 4821222.901...</td>\n",
       "    </tr>\n",
       "    <tr>\n",
       "      <th>3629</th>\n",
       "      <td>Europe/Stockholm</td>\n",
       "      <td>POLYGON ((4808429.473 4069082.454, 4808067.721...</td>\n",
       "    </tr>\n",
       "    <tr>\n",
       "      <th>3630</th>\n",
       "      <td>Europe/Minsk</td>\n",
       "      <td>POLYGON ((5690071.718 3342608.395, 5689859.929...</td>\n",
       "    </tr>\n",
       "    <tr>\n",
       "      <th>3631</th>\n",
       "      <td>Europe/Gibraltar</td>\n",
       "      <td>POLYGON ((2936862.406 1588574.236, 2936626.732...</td>\n",
       "    </tr>\n",
       "  </tbody>\n",
       "</table>\n",
       "<p>3632 rows × 2 columns</p>\n",
       "</div>"
      ],
      "text/plain": [
       "                  TZID                                           geometry\n",
       "0        Europe/Berlin  POLYGON ((4221214.558 3496203.404, 4220681.651...\n",
       "1        Europe/Berlin  POLYGON ((4224860.478 2732279.320, 4224932.819...\n",
       "2        Europe/Berlin  POLYGON ((4104652.176 3390034.953, 4104460.401...\n",
       "3        Europe/Berlin  POLYGON ((4113025.664 3391895.756, 4112879.943...\n",
       "4        Europe/Berlin  POLYGON ((4115871.228 3395282.099, 4114921.348...\n",
       "...                ...                                                ...\n",
       "3627  Europe/Stockholm  POLYGON ((4816590.301 4074234.333, 4816008.390...\n",
       "3628  Europe/Stockholm  POLYGON ((4821327.245 4076229.945, 4821222.901...\n",
       "3629  Europe/Stockholm  POLYGON ((4808429.473 4069082.454, 4808067.721...\n",
       "3630      Europe/Minsk  POLYGON ((5690071.718 3342608.395, 5689859.929...\n",
       "3631  Europe/Gibraltar  POLYGON ((2936862.406 1588574.236, 2936626.732...\n",
       "\n",
       "[3632 rows x 2 columns]"
      ]
     },
     "execution_count": 11,
     "metadata": {},
     "output_type": "execute_result"
    }
   ],
   "source": [
    "data = data.to_crs(epsg=3035)\n",
    "data"
   ]
  }
 ],
 "metadata": {
  "kernelspec": {
   "display_name": "Python 3",
   "language": "python",
   "name": "python3"
  },
  "language_info": {
   "codemirror_mode": {
    "name": "ipython",
    "version": 3
   },
   "file_extension": ".py",
   "mimetype": "text/x-python",
   "name": "python",
   "nbconvert_exporter": "python",
   "pygments_lexer": "ipython3",
   "version": "3.6.12"
  }
 },
 "nbformat": 4,
 "nbformat_minor": 4
}
