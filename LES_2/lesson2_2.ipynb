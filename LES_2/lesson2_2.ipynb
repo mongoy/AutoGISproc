{
 "cells": [
  {
   "cell_type": "markdown",
   "metadata": {},
   "source": [
    "# Урок № 2\n",
    "### [Картографические проекции](https://autogis-site.readthedocs.io/en/latest/notebooks/L2/02-projections.html)\n",
    "\n",
    "**Координатные системы отсчета (CRS)** важны, поскольку геометрические фигуры в геодезическом каркасе-это просто набор координат в произвольном пространстве. CRS сообщает Python, как эти координаты связаны с местами на Земле. **Картографическая проекция** (или проекционная система координат) - это систематическое преобразование широты и долготы в плоскую поверхность, где единицы измерения довольно часто представлены в виде метров (вместо десятичных градусов). Это преобразование используется для представления трехмерной земли на плоской двумерной карте.\n",
    "\n",
    "Поскольку CRS в разных пространственных наборах данных довольно часто различаются (например, у одного могут быть координаты, определенные в десятичных градусах, а у другого-в метрах), это обычная процедура перепроектирования (преобразования) различных слоев в общую CRS. Важно, чтобы слои находились в одной координатной системе отсчета при анализе пространственных отношений между слоями, например, при создании точки в полигональном запросе или другом типе анализа наложения.\n",
    "\n",
    "Выбор подходящей проекции для вашей карты не всегда прост, потому что это зависит от того, что вы на самом деле хотите представить с помощью вашей карты, и каков пространственный масштаб ваших данных. На самом деле, нет ни одной “идеальной проекции”, так как каждая из них имеет свои сильные и слабые стороны, и вы должны выбрать проекцию, которая лучше всего соответствует вашим потребностям. На самом деле, проекция, которую вы выберете, может даже рассказать что-то о вас!\n",
    "\n",
    "![](img/Map-projections.png)\n",
    "\n",
    "Источник: XKCD, Смотрите полный комикс [о том,” что ваша любимая картографическая проекция говорит о вас\"](https://xkcd.com/977/).\n",
    "\n",
    "Для тех из вас, кто хочет немного более аналитического подхода к выбору проекции, вы можете получить хороший обзор от [georeference.org](http://www.georeference.org/doc/guide_to_selecting_map_projections.htm), или из этого сообщения в блоге, представляющего [сильные и слабые стороны нескольких широко используемых прогнозов.](http://usersguidetotheuniverse.com/index.php/2011/03/03/whats-the-best-map-projection/)\n",
    "\n"
   ]
  },
  {
   "cell_type": "markdown",
   "metadata": {},
   "source": [
    "##### Система координат (CRS) в Geopandas\n",
    "\n",
    "К счастью, определить и изменить проекции легко с помощью **Geopandas** и библиотеки под названием **pyproj**. В этом уроке мы увидим, как получить координируйте информацию о системе отсчета из этих данных и о том, как перепроектировать эти данные в другую crs. Мы перепроектируем файл данных из **WGS84** (координаты ``lat``, ``lon``) в азимутальную проекцию Ламберта равной площади, которая является рекомендуемой проекцией для Европа Европейской комиссией.\n",
    "\n",
    "Для этого урока мы будем использовать Шейп-файл под названием Europe_borders.shprepresenting the country borders in Europe, который вы уже должны были загрузить во время предыдущего урока в L2_data папку.\n",
    "\n",
    "В Шейп-файлах информация о системе координат хранится в файле .prj-file. Если этот файл отсутствует, у вас могут быть неприятности!. При считывании данных в GeoDataFrame с Geopandas CRS информация автоматически сохраняется в `.crs` атрибуте GeoDataFrame.\n",
    "\n",
    "Давайте начнем с чтения данных из Europe_borders.shp файла и проверки crs:"
   ]
  },
  {
   "cell_type": "code",
   "execution_count": 1,
   "metadata": {},
   "outputs": [],
   "source": [
    "import os\n",
    "import geopandas as gpd\n",
    "\n",
    "\n",
    "# Корректное отображение графиков в jupyter\n",
    "%matplotlib inline"
   ]
  },
  {
   "cell_type": "code",
   "execution_count": 2,
   "metadata": {},
   "outputs": [
    {
     "data": {
      "text/html": [
       "<div>\n",
       "<style scoped>\n",
       "    .dataframe tbody tr th:only-of-type {\n",
       "        vertical-align: middle;\n",
       "    }\n",
       "\n",
       "    .dataframe tbody tr th {\n",
       "        vertical-align: top;\n",
       "    }\n",
       "\n",
       "    .dataframe thead th {\n",
       "        text-align: right;\n",
       "    }\n",
       "</style>\n",
       "<table border=\"1\" class=\"dataframe\">\n",
       "  <thead>\n",
       "    <tr style=\"text-align: right;\">\n",
       "      <th></th>\n",
       "      <th>TZID</th>\n",
       "      <th>geometry</th>\n",
       "    </tr>\n",
       "  </thead>\n",
       "  <tbody>\n",
       "    <tr>\n",
       "      <th>0</th>\n",
       "      <td>Europe/Berlin</td>\n",
       "      <td>POLYGON ((8.45778 54.56236, 8.44953 54.56269, ...</td>\n",
       "    </tr>\n",
       "    <tr>\n",
       "      <th>1</th>\n",
       "      <td>Europe/Berlin</td>\n",
       "      <td>POLYGON ((8.71992 47.69664, 8.72092 47.69530, ...</td>\n",
       "    </tr>\n",
       "    <tr>\n",
       "      <th>2</th>\n",
       "      <td>Europe/Berlin</td>\n",
       "      <td>POLYGON ((6.73317 53.57409, 6.73017 53.57542, ...</td>\n",
       "    </tr>\n",
       "    <tr>\n",
       "      <th>3</th>\n",
       "      <td>Europe/Berlin</td>\n",
       "      <td>POLYGON ((6.85822 53.59411, 6.85592 53.59550, ...</td>\n",
       "    </tr>\n",
       "    <tr>\n",
       "      <th>4</th>\n",
       "      <td>Europe/Berlin</td>\n",
       "      <td>POLYGON ((6.89894 53.62561, 6.88439 53.62814, ...</td>\n",
       "    </tr>\n",
       "  </tbody>\n",
       "</table>\n",
       "</div>"
      ],
      "text/plain": [
       "            TZID                                           geometry\n",
       "0  Europe/Berlin  POLYGON ((8.45778 54.56236, 8.44953 54.56269, ...\n",
       "1  Europe/Berlin  POLYGON ((8.71992 47.69664, 8.72092 47.69530, ...\n",
       "2  Europe/Berlin  POLYGON ((6.73317 53.57409, 6.73017 53.57542, ...\n",
       "3  Europe/Berlin  POLYGON ((6.85822 53.59411, 6.85592 53.59550, ...\n",
       "4  Europe/Berlin  POLYGON ((6.89894 53.62561, 6.88439 53.62814, ..."
      ]
     },
     "execution_count": 2,
     "metadata": {},
     "output_type": "execute_result"
    }
   ],
   "source": [
    "# Текущая директория\n",
    "ROOT_PATH = os.path.abspath(os.curdir)\n",
    "\n",
    "# Папка с данными\n",
    "fp = os.path.join(ROOT_PATH, r\"L2_data\\Europe_borders.shp\")\n",
    "\n",
    "# Чтение\n",
    "data = gpd.read_file(fp)\n",
    "data.head()"
   ]
  },
  {
   "cell_type": "code",
   "execution_count": 3,
   "metadata": {},
   "outputs": [
    {
     "data": {
      "text/plain": [
       "<Geographic 2D CRS: EPSG:4326>\n",
       "Name: WGS 84\n",
       "Axis Info [ellipsoidal]:\n",
       "- Lat[north]: Geodetic latitude (degree)\n",
       "- Lon[east]: Geodetic longitude (degree)\n",
       "Area of Use:\n",
       "- name: World\n",
       "- bounds: (-180.0, -90.0, 180.0, 90.0)\n",
       "Datum: World Geodetic System 1984\n",
       "- Ellipsoid: WGS 84\n",
       "- Prime Meridian: Greenwich"
      ]
     },
     "execution_count": 3,
     "metadata": {},
     "output_type": "execute_result"
    }
   ],
   "source": [
    "# Проверьте данные системы координат\n",
    "data.crs"
   ]
  },
  {
   "cell_type": "markdown",
   "metadata": {},
   "source": [
    "То, что мы видим здесь, на самом деле является объектом CRS из модуля pyproj.\n",
    "\n",
    "Номер **EPSG** (названный в честь европейской группы нефтяных исследований) - это код, который сообщает о системе координат набора данных. \"[Набор данных геодезических параметров EPSG](http://www.epsg.org/) представляет собой набор определений координатных систем отсчета и преобразований координат, которые могут быть глобальными, региональными, национальными или локальными в применении”.\n",
    "\n",
    "Код **EPSG** нашего geodataframe `4326`- это код, который относится к системе координат **WGS84** (мы также можем выяснить это, посмотрев на значения координат, которые являются десятичными градусами долготы и широты).\n",
    "\n",
    "Вы можете найти много информации и списков доступных систем координат из:\n",
    "\n",
    "www.spatialreference.org\n",
    "\n",
    "www.proj4.org\n",
    "\n",
    "www.mapref.org\n",
    "\n",
    "Давайте продолжим проверку значений в нашем geometry столбце -, чтобы убедиться, что CRS нашего GeoDataFrame кажется правильным:"
   ]
  },
  {
   "cell_type": "code",
   "execution_count": 4,
   "metadata": {},
   "outputs": [
    {
     "data": {
      "text/plain": [
       "0       POLYGON ((8.45778 54.56236, 8.44953 54.56269, ...\n",
       "1       POLYGON ((8.71992 47.69664, 8.72092 47.69530, ...\n",
       "2       POLYGON ((6.73317 53.57409, 6.73017 53.57542, ...\n",
       "3       POLYGON ((6.85822 53.59411, 6.85592 53.59550, ...\n",
       "4       POLYGON ((6.89894 53.62561, 6.88439 53.62814, ...\n",
       "                              ...                        \n",
       "3627    POLYGON ((18.75422 59.49353, 18.74311 59.49050...\n",
       "3628    POLYGON ((18.84164 59.50605, 18.84028 59.50797...\n",
       "3629    POLYGON ((18.59995 59.45653, 18.59431 59.45964...\n",
       "3630    POLYGON ((30.00000 51.48947, 29.99511 51.48572...\n",
       "3631    POLYGON ((-5.34392 36.11253, -5.34717 36.11528...\n",
       "Name: geometry, Length: 3632, dtype: geometry"
      ]
     },
     "execution_count": 4,
     "metadata": {},
     "output_type": "execute_result"
    }
   ],
   "source": [
    "data[\"geometry\"]"
   ]
  },
  {
   "cell_type": "markdown",
   "metadata": {},
   "source": [
    "Как мы видим, значения координат полигонов действительно выглядят как значения широты и долготы, так что все вроде бы в порядке.\n",
    "\n",
    "Проекция WGS84 на самом деле не очень хороша для представления европейских границ на карте (области искажаются), поэтому давайте преобразуем эти геометрии в проекцию Ламберта азимутальной равной площади [(EPSG: 3035)](http://spatialreference.org/ref/epsg/etrs89-etrs-laea/), которая является рекомендуемой проекцией Европейской комиссии.\n",
    "\n",
    "Изменение проекции очень просто [сделать в Geopandas](http://geopandas.org/projections.html#re-projecting) с `.to_crs()` - function, которая является встроенной функцией GeoDataFrame. Функция имеет два альтернативных параметра 1) `crs` и 2) `epgs`, которые можно использовать для преобразования координат и повторного проецирования данных в CRS, который вы хотите использовать.\n",
    "\n",
    "Давайте перепроектируем наши данные в EPSG 3035 используя epgs - параметр:"
   ]
  },
  {
   "cell_type": "code",
   "execution_count": 5,
   "metadata": {},
   "outputs": [
    {
     "data": {
      "text/html": [
       "<div>\n",
       "<style scoped>\n",
       "    .dataframe tbody tr th:only-of-type {\n",
       "        vertical-align: middle;\n",
       "    }\n",
       "\n",
       "    .dataframe tbody tr th {\n",
       "        vertical-align: top;\n",
       "    }\n",
       "\n",
       "    .dataframe thead th {\n",
       "        text-align: right;\n",
       "    }\n",
       "</style>\n",
       "<table border=\"1\" class=\"dataframe\">\n",
       "  <thead>\n",
       "    <tr style=\"text-align: right;\">\n",
       "      <th></th>\n",
       "      <th>TZID</th>\n",
       "      <th>geometry</th>\n",
       "    </tr>\n",
       "  </thead>\n",
       "  <tbody>\n",
       "    <tr>\n",
       "      <th>0</th>\n",
       "      <td>Europe/Berlin</td>\n",
       "      <td>POLYGON ((8.45778 54.56236, 8.44953 54.56269, ...</td>\n",
       "    </tr>\n",
       "    <tr>\n",
       "      <th>1</th>\n",
       "      <td>Europe/Berlin</td>\n",
       "      <td>POLYGON ((8.71992 47.69664, 8.72092 47.69530, ...</td>\n",
       "    </tr>\n",
       "    <tr>\n",
       "      <th>2</th>\n",
       "      <td>Europe/Berlin</td>\n",
       "      <td>POLYGON ((6.73317 53.57409, 6.73017 53.57542, ...</td>\n",
       "    </tr>\n",
       "    <tr>\n",
       "      <th>3</th>\n",
       "      <td>Europe/Berlin</td>\n",
       "      <td>POLYGON ((6.85822 53.59411, 6.85592 53.59550, ...</td>\n",
       "    </tr>\n",
       "    <tr>\n",
       "      <th>4</th>\n",
       "      <td>Europe/Berlin</td>\n",
       "      <td>POLYGON ((6.89894 53.62561, 6.88439 53.62814, ...</td>\n",
       "    </tr>\n",
       "    <tr>\n",
       "      <th>...</th>\n",
       "      <td>...</td>\n",
       "      <td>...</td>\n",
       "    </tr>\n",
       "    <tr>\n",
       "      <th>3627</th>\n",
       "      <td>Europe/Stockholm</td>\n",
       "      <td>POLYGON ((18.75422 59.49353, 18.74311 59.49050...</td>\n",
       "    </tr>\n",
       "    <tr>\n",
       "      <th>3628</th>\n",
       "      <td>Europe/Stockholm</td>\n",
       "      <td>POLYGON ((18.84164 59.50605, 18.84028 59.50797...</td>\n",
       "    </tr>\n",
       "    <tr>\n",
       "      <th>3629</th>\n",
       "      <td>Europe/Stockholm</td>\n",
       "      <td>POLYGON ((18.59995 59.45653, 18.59431 59.45964...</td>\n",
       "    </tr>\n",
       "    <tr>\n",
       "      <th>3630</th>\n",
       "      <td>Europe/Minsk</td>\n",
       "      <td>POLYGON ((30.00000 51.48947, 29.99511 51.48572...</td>\n",
       "    </tr>\n",
       "    <tr>\n",
       "      <th>3631</th>\n",
       "      <td>Europe/Gibraltar</td>\n",
       "      <td>POLYGON ((-5.34392 36.11253, -5.34717 36.11528...</td>\n",
       "    </tr>\n",
       "  </tbody>\n",
       "</table>\n",
       "<p>3632 rows × 2 columns</p>\n",
       "</div>"
      ],
      "text/plain": [
       "                  TZID                                           geometry\n",
       "0        Europe/Berlin  POLYGON ((8.45778 54.56236, 8.44953 54.56269, ...\n",
       "1        Europe/Berlin  POLYGON ((8.71992 47.69664, 8.72092 47.69530, ...\n",
       "2        Europe/Berlin  POLYGON ((6.73317 53.57409, 6.73017 53.57542, ...\n",
       "3        Europe/Berlin  POLYGON ((6.85822 53.59411, 6.85592 53.59550, ...\n",
       "4        Europe/Berlin  POLYGON ((6.89894 53.62561, 6.88439 53.62814, ...\n",
       "...                ...                                                ...\n",
       "3627  Europe/Stockholm  POLYGON ((18.75422 59.49353, 18.74311 59.49050...\n",
       "3628  Europe/Stockholm  POLYGON ((18.84164 59.50605, 18.84028 59.50797...\n",
       "3629  Europe/Stockholm  POLYGON ((18.59995 59.45653, 18.59431 59.45964...\n",
       "3630      Europe/Minsk  POLYGON ((30.00000 51.48947, 29.99511 51.48572...\n",
       "3631  Europe/Gibraltar  POLYGON ((-5.34392 36.11253, -5.34717 36.11528...\n",
       "\n",
       "[3632 rows x 2 columns]"
      ]
     },
     "execution_count": 5,
     "metadata": {},
     "output_type": "execute_result"
    }
   ],
   "source": [
    "# делаем полную копию данных\n",
    "data_WGS84 = data.copy()\n",
    "data_WGS84"
   ]
  },
  {
   "cell_type": "code",
   "execution_count": 6,
   "metadata": {},
   "outputs": [
    {
     "data": {
      "text/html": [
       "<div>\n",
       "<style scoped>\n",
       "    .dataframe tbody tr th:only-of-type {\n",
       "        vertical-align: middle;\n",
       "    }\n",
       "\n",
       "    .dataframe tbody tr th {\n",
       "        vertical-align: top;\n",
       "    }\n",
       "\n",
       "    .dataframe thead th {\n",
       "        text-align: right;\n",
       "    }\n",
       "</style>\n",
       "<table border=\"1\" class=\"dataframe\">\n",
       "  <thead>\n",
       "    <tr style=\"text-align: right;\">\n",
       "      <th></th>\n",
       "      <th>TZID</th>\n",
       "      <th>geometry</th>\n",
       "    </tr>\n",
       "  </thead>\n",
       "  <tbody>\n",
       "    <tr>\n",
       "      <th>0</th>\n",
       "      <td>Europe/Berlin</td>\n",
       "      <td>POLYGON ((4221214.558 3496203.404, 4220681.651...</td>\n",
       "    </tr>\n",
       "    <tr>\n",
       "      <th>1</th>\n",
       "      <td>Europe/Berlin</td>\n",
       "      <td>POLYGON ((4224860.478 2732279.320, 4224932.819...</td>\n",
       "    </tr>\n",
       "    <tr>\n",
       "      <th>2</th>\n",
       "      <td>Europe/Berlin</td>\n",
       "      <td>POLYGON ((4104652.176 3390034.953, 4104460.401...</td>\n",
       "    </tr>\n",
       "    <tr>\n",
       "      <th>3</th>\n",
       "      <td>Europe/Berlin</td>\n",
       "      <td>POLYGON ((4113025.664 3391895.756, 4112879.943...</td>\n",
       "    </tr>\n",
       "    <tr>\n",
       "      <th>4</th>\n",
       "      <td>Europe/Berlin</td>\n",
       "      <td>POLYGON ((4115871.228 3395282.099, 4114921.348...</td>\n",
       "    </tr>\n",
       "    <tr>\n",
       "      <th>...</th>\n",
       "      <td>...</td>\n",
       "      <td>...</td>\n",
       "    </tr>\n",
       "    <tr>\n",
       "      <th>3627</th>\n",
       "      <td>Europe/Stockholm</td>\n",
       "      <td>POLYGON ((4816590.301 4074234.333, 4816008.390...</td>\n",
       "    </tr>\n",
       "    <tr>\n",
       "      <th>3628</th>\n",
       "      <td>Europe/Stockholm</td>\n",
       "      <td>POLYGON ((4821327.245 4076229.945, 4821222.901...</td>\n",
       "    </tr>\n",
       "    <tr>\n",
       "      <th>3629</th>\n",
       "      <td>Europe/Stockholm</td>\n",
       "      <td>POLYGON ((4808429.473 4069082.454, 4808067.721...</td>\n",
       "    </tr>\n",
       "    <tr>\n",
       "      <th>3630</th>\n",
       "      <td>Europe/Minsk</td>\n",
       "      <td>POLYGON ((5690071.718 3342608.395, 5689859.929...</td>\n",
       "    </tr>\n",
       "    <tr>\n",
       "      <th>3631</th>\n",
       "      <td>Europe/Gibraltar</td>\n",
       "      <td>POLYGON ((2936862.406 1588574.236, 2936626.732...</td>\n",
       "    </tr>\n",
       "  </tbody>\n",
       "</table>\n",
       "<p>3632 rows × 2 columns</p>\n",
       "</div>"
      ],
      "text/plain": [
       "                  TZID                                           geometry\n",
       "0        Europe/Berlin  POLYGON ((4221214.558 3496203.404, 4220681.651...\n",
       "1        Europe/Berlin  POLYGON ((4224860.478 2732279.320, 4224932.819...\n",
       "2        Europe/Berlin  POLYGON ((4104652.176 3390034.953, 4104460.401...\n",
       "3        Europe/Berlin  POLYGON ((4113025.664 3391895.756, 4112879.943...\n",
       "4        Europe/Berlin  POLYGON ((4115871.228 3395282.099, 4114921.348...\n",
       "...                ...                                                ...\n",
       "3627  Europe/Stockholm  POLYGON ((4816590.301 4074234.333, 4816008.390...\n",
       "3628  Europe/Stockholm  POLYGON ((4821327.245 4076229.945, 4821222.901...\n",
       "3629  Europe/Stockholm  POLYGON ((4808429.473 4069082.454, 4808067.721...\n",
       "3630      Europe/Minsk  POLYGON ((5690071.718 3342608.395, 5689859.929...\n",
       "3631  Europe/Gibraltar  POLYGON ((2936862.406 1588574.236, 2936626.732...\n",
       "\n",
       "[3632 rows x 2 columns]"
      ]
     },
     "execution_count": 6,
     "metadata": {},
     "output_type": "execute_result"
    }
   ],
   "source": [
    "# Изменение проекции\n",
    "data = data.to_crs(epsg=3035)\n",
    "data"
   ]
  },
  {
   "cell_type": "markdown",
   "metadata": {},
   "source": [
    "##### Визуализация "
   ]
  },
  {
   "cell_type": "code",
   "execution_count": 7,
   "metadata": {},
   "outputs": [
    {
     "data": {
      "image/png": "[encoded data removed]",
      "text/plain": [
       "<Figure size 1008x864 with 2 Axes>"
      ]
     },
     "metadata": {
      "needs_background": "light"
     },
     "output_type": "display_data"
    }
   ],
   "source": [
    "import matplotlib.pyplot as plt\n",
    "\n",
    "\n",
    "# подготовим бланки\n",
    "fig , (ax1, ax2) = plt.subplots(nrows=1, ncols=2, figsize=(14,12))\n",
    "# визуализация данных в проекции WGS84\n",
    "ax1.set_title(\"WGS84\")\n",
    "data_WGS84.plot(ax=ax1, facecolor=\"grey\")\n",
    "\n",
    "# визуализация данных в проекции \"ETRS Lambert Azimuthal Equal Area projection\"\n",
    "ax2.set_title(\"ETRS Lambert Azimuthal Equal Area projection\")\n",
    "data.plot(ax=ax2, facecolor=\"blue\")\n",
    "\n",
    "# Set aspect ratio as 1\n",
    "ax1.set_aspect(aspect=1)\n",
    "ax2.set_aspect(aspect=1)\n",
    "\n",
    "# Удалите пустое пространство вокруг участка\n",
    "plt.tight_layout()\n"
   ]
  },
  {
   "cell_type": "markdown",
   "metadata": {},
   "source": [
    "##### Действительно, карты выглядят совсем по-другому, и перепроектированная карта выглядит гораздо лучше в Европе, поскольку области, особенно на севере, более реалистичны и не так растянуты, как в WGS84.\n",
    "\n",
    "Cохраним наш проецируемый слой в Шейп-файл, чтобы использовать его позже. Обратите внимание, даже если информация crs хранится в .prj-файл, возможно, было бы неплохо также включить информацию crs в имя файла:"
   ]
  },
  {
   "cell_type": "code",
   "execution_count": 8,
   "metadata": {},
   "outputs": [],
   "source": [
    "# путь для выгрузки\n",
    "outfp = os.path.join(ROOT_PATH, r\"L2_data\\Europe_borders_epsg3035.shp\")\n",
    "    \n",
    "# сохранение\n",
    "data.to_file(outfp)"
   ]
  },
  {
   "cell_type": "markdown",
   "metadata": {},
   "source": [
    "#### Работа с различными форматами CRS\n",
    "Существуют различные способы представления информации о координатной системе отсчета, такие как [PROJ strings](https://proj.org/usage/quickstart.html), `EPSG codes, Well-Known-Text (WKT), JSON`. Вполне вероятно, что вы столкнетесь с некоторыми из них при работе с пространственными данными, полученными из разных источников. Возможность конвертировать информацию CRS из одного формата в другой необходима время от времени, поэтому полезно знать несколько трюков, как это сделать.\n",
    "\n",
    "К счастью, работа с информацией CRS проста в Python с помощью [pyproj](https://pyproj4.github.io/pyproj/stable/). На самом деле, pyproj является ли оболочка Python вокруг программного обеспечения под названием [PROJ](https://proj.org/) (поддерживается компанией [OSGeo community](https://www.osgeo.org/)), который широко используется для проведения преобразований координат в различных ГИС-программах. `Pyproj` он также используется под капотом в GeoPandas и обрабатывает все определения CRS и преобразования координат (перепроектирование из CRS в другую, как мы делали ранее).\n",
    "\n"
   ]
  },
  {
   "cell_type": "markdown",
   "metadata": {},
   "source": [
    "##### Общие сведения\n",
    "Следующая ячейка кода выводит сводную информацию о различных способах представления информации crs с помощью PYPROJ CRS. Здесь мы используем crs исходного слоя европейских границ в качестве отправной точки:"
   ]
  },
  {
   "cell_type": "code",
   "execution_count": 9,
   "metadata": {},
   "outputs": [],
   "source": [
    "# импорт класса CRS\n",
    "from pyproj import CRS"
   ]
  },
  {
   "cell_type": "code",
   "execution_count": 10,
   "metadata": {},
   "outputs": [
    {
     "data": {
      "text/plain": [
       "<Geographic 2D CRS: EPSG:4326>\n",
       "Name: WGS 84\n",
       "Axis Info [ellipsoidal]:\n",
       "- Lat[north]: Geodetic latitude (degree)\n",
       "- Lon[east]: Geodetic longitude (degree)\n",
       "Area of Use:\n",
       "- name: World\n",
       "- bounds: (-180.0, -90.0, 180.0, 90.0)\n",
       "Datum: World Geodetic System 1984\n",
       "- Ellipsoid: WGS 84\n",
       "- Prime Meridian: Greenwich"
      ]
     },
     "execution_count": 10,
     "metadata": {},
     "output_type": "execute_result"
    }
   ],
   "source": [
    "# словарь CRS\n",
    "crs_dict = data_WGS84.crs\n",
    "crs_dict"
   ]
  },
  {
   "cell_type": "code",
   "execution_count": 11,
   "metadata": {},
   "outputs": [
    {
     "data": {
      "text/plain": [
       "<Geographic 2D CRS: EPSG:4326>\n",
       "Name: WGS 84\n",
       "Axis Info [ellipsoidal]:\n",
       "- Lat[north]: Geodetic latitude (degree)\n",
       "- Lon[east]: Geodetic longitude (degree)\n",
       "Area of Use:\n",
       "- name: World\n",
       "- bounds: (-180.0, -90.0, 180.0, 90.0)\n",
       "Datum: World Geodetic System 1984\n",
       "- Ellipsoid: WGS 84\n",
       "- Prime Meridian: Greenwich"
      ]
     },
     "execution_count": 11,
     "metadata": {},
     "output_type": "execute_result"
    }
   ],
   "source": [
    "# pyproj crs объект\n",
    "crs_object = CRS(data_WGS84.crs)\n",
    "crs_object"
   ]
  },
  {
   "cell_type": "code",
   "execution_count": 12,
   "metadata": {},
   "outputs": [
    {
     "data": {
      "text/plain": [
       "4326"
      ]
     },
     "execution_count": 12,
     "metadata": {},
     "output_type": "execute_result"
    }
   ],
   "source": [
    "# Код EPSG код (здесь, на входе СМО информация является немного расплывчатым, так что нам надо понизить порог доверия)\n",
    "crs_epsg = CRS(data_WGS84.crs).to_epsg(min_confidence=25)\n",
    "crs_epsg"
   ]
  },
  {
   "cell_type": "code",
   "execution_count": 13,
   "metadata": {},
   "outputs": [
    {
     "name": "stderr",
     "output_type": "stream",
     "text": [
      "C:\\Anaconda3\\envs\\python-gis\\lib\\site-packages\\ipykernel_launcher.py:2: UserWarning: You will likely lose important projection information when converting to a PROJ string from another format. See: https://proj.org/faq.html#what-is-the-best-format-for-describing-coordinate-reference-systems\n",
      "  \n"
     ]
    },
    {
     "data": {
      "text/plain": [
       "'+proj=longlat +datum=WGS84 +no_defs +type=crs'"
      ]
     },
     "execution_count": 13,
     "metadata": {},
     "output_type": "execute_result"
    }
   ],
   "source": [
    "# PROJ строка\n",
    "crs_proj4 = CRS(data_WGS84.crs).to_proj4()\n",
    "crs_proj4"
   ]
  },
  {
   "cell_type": "code",
   "execution_count": 14,
   "metadata": {},
   "outputs": [
    {
     "data": {
      "text/plain": [
       "'GEOGCRS[\"WGS 84\",DATUM[\"World Geodetic System 1984\",ELLIPSOID[\"WGS 84\",6378137,298.257223563,LENGTHUNIT[\"metre\",1]]],PRIMEM[\"Greenwich\",0,ANGLEUNIT[\"degree\",0.0174532925199433]],CS[ellipsoidal,2],AXIS[\"geodetic latitude (Lat)\",north,ORDER[1],ANGLEUNIT[\"degree\",0.0174532925199433]],AXIS[\"geodetic longitude (Lon)\",east,ORDER[2],ANGLEUNIT[\"degree\",0.0174532925199433]],USAGE[SCOPE[\"unknown\"],AREA[\"World\"],BBOX[-90,-180,90,180]],ID[\"EPSG\",4326]]'"
      ]
     },
     "execution_count": 14,
     "metadata": {},
     "output_type": "execute_result"
    }
   ],
   "source": [
    "# Well-Known Text (WKT)\n",
    "crs_wkt = CRS(data_WGS84.crs).to_wkt()\n",
    "crs_wkt"
   ]
  },
  {
   "cell_type": "markdown",
   "metadata": {},
   "source": [
    "### Объект Pyproj CRS\n",
    "pyproj - библиотека имеет [класс](https://docs.python.org/3/tutorial/classes.html) под названием [CRS](https://pyproj4.github.io/pyproj/dev/api/crs.html), который предоставляет множество полезных функций для работы с информацией CRS."
   ]
  },
  {
   "cell_type": "code",
   "execution_count": 15,
   "metadata": {},
   "outputs": [
    {
     "name": "stdout",
     "output_type": "stream",
     "text": [
      "epsg:3035\n"
     ]
    }
   ],
   "source": [
    "# Давайте посмотрим текущие CRS наших данных\n",
    "print(data.crs)"
   ]
  },
  {
   "cell_type": "markdown",
   "metadata": {},
   "source": [
    "Печать crs с помощью оператора print () дает нам код EPSG.\n",
    "Однако давайте посмотрим, как эта же информация выглядит в других форматах, таких как WKT или Proj4 текст. Для этого нам нужно использовать CRS класс."
   ]
  },
  {
   "cell_type": "code",
   "execution_count": 16,
   "metadata": {},
   "outputs": [
    {
     "data": {
      "text/plain": [
       "<Projected CRS: EPSG:3035>\n",
       "Name: ETRS89-extended / LAEA Europe\n",
       "Axis Info [cartesian]:\n",
       "- Y[north]: Northing (metre)\n",
       "- X[east]: Easting (metre)\n",
       "Area of Use:\n",
       "- name: Europe - LCC & LAEA\n",
       "- bounds: (-35.58, 24.6, 44.83, 84.17)\n",
       "Coordinate Operation:\n",
       "- name: Europe Equal Area 2001\n",
       "- method: Lambert Azimuthal Equal Area\n",
       "Datum: European Terrestrial Reference System 1989\n",
       "- Ellipsoid: GRS 1980\n",
       "- Prime Meridian: Greenwich"
      ]
     },
     "execution_count": 16,
     "metadata": {},
     "output_type": "execute_result"
    }
   ],
   "source": [
    "# Инициализируйте класс CRS для кода epsg 3035:\n",
    "crs_object = CRS.from_epsg(3035)\n",
    "crs_object"
   ]
  },
  {
   "cell_type": "markdown",
   "metadata": {},
   "source": [
    "Как мы видим, CRSобъект содержит информацию о системе координат, такой как NameCRS (ETRS89 / LAEA Europe), areaгде используется CRS (Europe with bounds (-16.1, 32.88, 40.18, 84.17)), и Datum(Европейская наземная система отсчета 1989 года).\n",
    "\n",
    "Мы также можем легко разобрать эту информацию по отдельности следующим образом:"
   ]
  },
  {
   "cell_type": "code",
   "execution_count": 17,
   "metadata": {},
   "outputs": [
    {
     "name": "stdout",
     "output_type": "stream",
     "text": [
      "имя: ETRS89-extended / LAEA Europe\n",
      "система координат: cartesian\n",
      "Bounds: (-35.58, 24.6, 44.83, 84.17)\n"
     ]
    }
   ],
   "source": [
    "# Имя\n",
    "print(\"имя:\", crs_object.name)\n",
    "\n",
    "# система координат\n",
    "print(\"система координат:\", crs_object.coordinate_system)\n",
    "\n",
    "# границы области , в которой используется CRS\n",
    "print(\"Bounds:\", crs_object.area_of_use.bounds)"
   ]
  },
  {
   "cell_type": "markdown",
   "metadata": {},
   "source": [
    "Вы можете изучить всю возможную информацию, которую можно извлечь из CRS, набрав текст crs_object. и нажимает табулятор.\n",
    "\n",
    "Давайте посмотрим, как мы можем конвертировать информацию crs из одного формата в другой. Довольно часто полезно знать код EPSG CRS. Далее мы проведем несколько трансформаций, чтобы продемонстрировать возможности CRS класс."
   ]
  },
  {
   "cell_type": "code",
   "execution_count": 29,
   "metadata": {},
   "outputs": [
    {
     "name": "stdout",
     "output_type": "stream",
     "text": [
      "PROJCRS[\"ETRS89-extended / LAEA Europe\",BASEGEOGCRS[\"ETRS89\",DATUM[\"European Terrestrial Reference System 1989\",ELLIPSOID[\"GRS 1980\",6378137,298.257222101,LENGTHUNIT[\"metre\",1]]],PRIMEM[\"Greenwich\",0,ANGLEUNIT[\"degree\",0.0174532925199433]],ID[\"EPSG\",4258]],CONVERSION[\"Europe Equal Area 2001\",METHOD[\"Lambert Azimuthal Equal Area\",ID[\"EPSG\",9820]],PARAMETER[\"Latitude of natural origin\",52,ANGLEUNIT[\"degree\",0.0174532925199433],ID[\"EPSG\",8801]],PARAMETER[\"Longitude of natural origin\",10,ANGLEUNIT[\"degree\",0.0174532925199433],ID[\"EPSG\",8802]],PARAMETER[\"False easting\",4321000,LENGTHUNIT[\"metre\",1],ID[\"EPSG\",8806]],PARAMETER[\"False northing\",3210000,LENGTHUNIT[\"metre\",1],ID[\"EPSG\",8807]]],CS[Cartesian,2],AXIS[\"northing (Y)\",north,ORDER[1],LENGTHUNIT[\"metre\",1]],AXIS[\"easting (X)\",east,ORDER[2],LENGTHUNIT[\"metre\",1]],USAGE[SCOPE[\"unknown\"],AREA[\"Europe - LCC & LAEA\"],BBOX[24.6,-35.58,84.17,44.83]],ID[\"EPSG\",3035]]\n"
     ]
    }
   ],
   "source": [
    "# CRS информация WKT формата\n",
    "crs_wkt = crs_object.to_wkt()\n",
    "print(crs_wkt)"
   ]
  },
  {
   "cell_type": "markdown",
   "metadata": {},
   "source": [
    "Как видим, WKT формат содержит очень много информации. Обычно, например .prj, файл Шейп-файла содержит информацию в этом формате. Давайте посмотрим, как из этого можно извлечь EPSG код. Для этого нам нужно повторно инициализировать объект CRS, на этот раз из WKT текстового представления."
   ]
  },
  {
   "cell_type": "code",
   "execution_count": 30,
   "metadata": {},
   "outputs": [
    {
     "name": "stdout",
     "output_type": "stream",
     "text": [
      "3035\n"
     ]
    }
   ],
   "source": [
    "# Retrieve EPSG code from WKT text\n",
    "epsg = CRS(crs_wkt).to_epsg()\n",
    "print(epsg)"
   ]
  },
  {
   "cell_type": "markdown",
   "metadata": {},
   "source": [
    "Не в состоянии распознать epsg?\n",
    "\n",
    "Иногда to_epsg()не может распознать код EPSG из представления WKT. Это может произойти, если в информации WKT отсутствуют некоторые детали. К счастью, мы можем легко настроить минимальный уровень доверия для сопоставления информации CRS и кода EPSG. Мы можем сделать это, настроив параметр min_confidenceпри вызове функции. По умолчанию уровень доверия равен 70 %, но также можно установить более низкий порог доверия.\n",
    "\n",
    "Координатная информация нашего входного шейп-файла является неполной и не дает значения epsg с настройкой по умолчанию: однако CRS может определить значение EPSG с более низким доверительным порогом:\n",
    "\n",
    "##### Давайте попробуем извлечь код EPSG из crs наших исходных данных:\n",
    "CRS(data.crs).to_epsg()\n",
    "> None\n",
    "    \n",
    "##### давайте попробуем еще раз с более низким требованием доверия (25 %)\n",
    "CRS(data.crs).to_epsg(min_confidence=25)\n",
    "> 3035\n",
    "Однако будьте осторожны при использовании этого метода, так как угадывание EPSG из “экзотических” систем координат также может привести к ложным результатам."
   ]
  },
  {
   "cell_type": "markdown",
   "metadata": {},
   "source": [
    "##### Давайте теперь сохраним наши данные на диск с помощью WKT форматируйте как crs нашего GeoDataFrame. WKT - это предпочтительный формат вывода при хранении информации crs в виде текста."
   ]
  },
  {
   "cell_type": "code",
   "execution_count": 31,
   "metadata": {},
   "outputs": [
    {
     "name": "stdout",
     "output_type": "stream",
     "text": [
      "PROJCRS[\"ETRS89-extended / LAEA Europe\",BASEGEOGCRS[\"ETRS89\",DATUM[\"European Terrestrial Reference System 1989\",ELLIPSOID[\"GRS 1980\",6378137,298.257222101,LENGTHUNIT[\"metre\",1]]],PRIMEM[\"Greenwich\",0,ANGLEUNIT[\"degree\",0.0174532925199433]],ID[\"EPSG\",4258]],CONVERSION[\"Europe Equal Area 2001\",METHOD[\"Lambert Azimuthal Equal Area\",ID[\"EPSG\",9820]],PARAMETER[\"Latitude of natural origin\",52,ANGLEUNIT[\"degree\",0.0174532925199433],ID[\"EPSG\",8801]],PARAMETER[\"Longitude of natural origin\",10,ANGLEUNIT[\"degree\",0.0174532925199433],ID[\"EPSG\",8802]],PARAMETER[\"False easting\",4321000,LENGTHUNIT[\"metre\",1],ID[\"EPSG\",8806]],PARAMETER[\"False northing\",3210000,LENGTHUNIT[\"metre\",1],ID[\"EPSG\",8807]]],CS[Cartesian,2],AXIS[\"northing (Y)\",north,ORDER[1],LENGTHUNIT[\"metre\",1]],AXIS[\"easting (X)\",east,ORDER[2],LENGTHUNIT[\"metre\",1]],USAGE[SCOPE[\"unknown\"],AREA[\"Europe - LCC & LAEA\"],BBOX[24.6,-35.58,84.17,44.83]],ID[\"EPSG\",3035]]\n"
     ]
    }
   ],
   "source": [
    "# Переопределим CRS для входного GeoDataFrame \n",
    "data.crs = CRS.from_epsg(3035).to_wkt()\n",
    "print(data.crs)"
   ]
  },
  {
   "cell_type": "code",
   "execution_count": 36,
   "metadata": {},
   "outputs": [],
   "source": [
    "# путь для выгрузки\n",
    "outfp = os.path.join(ROOT_PATH, r\"L2_data\\Europe_borders_wkt.shp\")\n",
    "    \n",
    "# сохранение\n",
    "data.to_file(outfp)"
   ]
  },
  {
   "cell_type": "markdown",
   "metadata": {},
   "source": [
    "### **ПОДСКАЗКА:** Модуль называется PyCRS он содержит информацию и поддерживает множество различных определений координат, таких как OGC WKT (v1), ESRI WKT, Proj4, а также любой код EPSG, ESRI или SR-ORG, доступный из spatialreference.org."
   ]
  },
  {
   "cell_type": "markdown",
   "metadata": {},
   "source": [
    "### Глобальные картографические проекции\n",
    "Наконец, давайте поиграем с глобальными картографическими проекциями :) L2_data папка conaints слой ne_110m_admin_0_countries.shp это представляет собой границы стран мира. Данные были загружены из fownloaded https://www.naturalearthdata.com/."
   ]
  },
  {
   "cell_type": "markdown",
   "metadata": {},
   "source": [
    "##### Задача\n",
    "Читайте в глобальном наборе данных и постройте три карты с разными проекциями! См. подсказки и определения проекций из:\n",
    "\n",
    "http://geopandas.org/projections.html\n",
    "\n",
    "https://pyproj4.github.io/pyproj/dev/api/crs.html\n",
    "\n",
    "https://spatialreference.org/\n",
    "\n",
    "При построении карт необходимо учитывать преимущества и недостатки различных проекций карт мира."
   ]
  },
  {
   "cell_type": "code",
   "execution_count": null,
   "metadata": {},
   "outputs": [],
   "source": [
    "# Чтение в данных\n",
    "fp = \"L2_data/ne_110m_admin_0_countries/ne_110m_admin_0_countries.\n",
    "#admin\n"
   ]
  }
 ],
 "metadata": {
  "kernelspec": {
   "display_name": "Python 3",
   "language": "python",
   "name": "python3"
  },
  "language_info": {
   "codemirror_mode": {
    "name": "ipython",
    "version": 3
   },
   "file_extension": ".py",
   "mimetype": "text/x-python",
   "name": "python",
   "nbconvert_exporter": "python",
   "pygments_lexer": "ipython3",
   "version": "3.6.12"
  }
 },
 "nbformat": 4,
 "nbformat_minor": 4
}
