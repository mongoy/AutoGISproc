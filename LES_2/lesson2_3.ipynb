{
 "cells": [
  {
   "cell_type": "markdown",
   "metadata": {},
   "source": [
    "# [Создание новых слоев (дополнительно)](https://autogis-site.readthedocs.io/en/latest/notebooks/L2/03-create-geodataframes.html)"
   ]
  },
  {
   "cell_type": "markdown",
   "metadata": {},
   "source": [
    "##### Поскольку geopandas использует преимущества геометрических объектов Shapely, можно создавать пространственные данные с нуля, передавая геометрические объекты Shapely в GeoDataFrame. Это полезно, Так как позволяет легко конвертировать, например, текстовый файл, содержащий координаты, в слои пространственных данных. Далее мы увидим, как создать новый GeoDataFrame с нуля и сохранить его в Шейп-файл. Наша цель-определить геометрию, которая представляет собой контуры [Сенатской площади в Хельсинки, Финляндия](https://fi.wikipedia.org/wiki/Senaatintori).\n",
    "\n",
    "Начните с импорта необходимых модулей:"
   ]
  },
  {
   "cell_type": "code",
   "execution_count": 3,
   "metadata": {},
   "outputs": [],
   "source": [
    "import os\n",
    "import geopandas as gpd\n",
    "import numpy as np\n",
    "import matplotlib.pyplot as plt\n",
    "\n",
    "from shapely.geometry import Point, Polygon\n",
    "from pyproj import CRS\n",
    "\n",
    "# Корректное отображение графиков в jupyter\n",
    "%matplotlib inline"
   ]
  },
  {
   "cell_type": "code",
   "execution_count": 17,
   "metadata": {},
   "outputs": [
    {
     "name": "stdout",
     "output_type": "stream",
     "text": [
      "Empty GeoDataFrame\n",
      "Columns: []\n",
      "Index: []\n"
     ]
    }
   ],
   "source": [
    "# новый пустой GeoDataFrame\n",
    "newdata = gpd.GeoDataFrame()\n",
    "print(newdata)"
   ]
  },
  {
   "cell_type": "code",
   "execution_count": 18,
   "metadata": {},
   "outputs": [],
   "source": [
    "# добавим полигон в поле 'geometry' пустого GeoDataFrame\n",
    "newdata.at[0, \"location\"] = \"Helsinki Senate square\""
   ]
  },
  {
   "cell_type": "code",
   "execution_count": 19,
   "metadata": {},
   "outputs": [],
   "source": [
    "# создадим колонку 'geometry' - пустую\n",
    "newdata[\"geometry\"] = None"
   ]
  },
  {
   "cell_type": "code",
   "execution_count": 20,
   "metadata": {},
   "outputs": [],
   "source": [
    "# Координаты Сенатской площади Хельсинки в десятичных градусах\n",
    "coordinates = [(24.950899, 60.169158), (24.953492, 60.169158), (24.953510, 60.170104), (24.950958, 60.169990)]"
   ]
  },
  {
   "cell_type": "code",
   "execution_count": 21,
   "metadata": {},
   "outputs": [
    {
     "name": "stdout",
     "output_type": "stream",
     "text": [
      "POLYGON ((24.950899 60.169158, 24.953492 60.169158, 24.95351 60.170104, 24.950958 60.16999, 24.950899 60.169158))\n"
     ]
    },
    {
     "data": {
      "image/svg+xml": [
       "<svg xmlns=\"http://www.w3.org/2000/svg\" xmlns:xlink=\"http://www.w3.org/1999/xlink\" width=\"100.0\" height=\"100.0\" viewBox=\"24.95079456 60.16905356 0.0028198800000041047 0.0011548800000014126\" preserveAspectRatio=\"xMinYMin meet\"><g transform=\"matrix(1,0,0,-1,0,120.339262)\"><path fill-rule=\"evenodd\" fill=\"#66cc99\" stroke=\"#555555\" stroke-width=\"5.639760000008209e-05\" opacity=\"0.6\" d=\"M 24.950899,60.169158 L 24.953492,60.169158 L 24.95351,60.170104 L 24.950958,60.16999 L 24.950899,60.169158 z\" /></g></svg>"
      ],
      "text/plain": [
       "<shapely.geometry.polygon.Polygon at 0x1cb6aa40550>"
      ]
     },
     "execution_count": 21,
     "metadata": {},
     "output_type": "execute_result"
    }
   ],
   "source": [
    "# создадим полигон и нарисуем его\n",
    "poly = Polygon(coordinates)\n",
    "print(poly)\n",
    "poly"
   ]
  },
  {
   "cell_type": "code",
   "execution_count": 22,
   "metadata": {},
   "outputs": [
    {
     "name": "stdout",
     "output_type": "stream",
     "text": [
      "                 location                                           geometry\n",
      "0  Helsinki Senate square  POLYGON ((24.95090 60.16916, 24.95349 60.16916...\n"
     ]
    }
   ],
   "source": [
    "# добавим полигон в поле 'geometry' пустого GeoDataFrame\n",
    "newdata.at[0, \"geometry\"] = poly\n",
    "print(newdata)"
   ]
  },
  {
   "cell_type": "code",
   "execution_count": 23,
   "metadata": {},
   "outputs": [
    {
     "name": "stdout",
     "output_type": "stream",
     "text": [
      "None\n"
     ]
    }
   ],
   "source": [
    "# проверим CRS\n",
    "print(newdata.crs)"
   ]
  },
  {
   "cell_type": "code",
   "execution_count": 24,
   "metadata": {},
   "outputs": [],
   "source": [
    "# зададим проекцию WGS84\n",
    "newdata.crs = CRS.from_epsg(4326).to_wkt()"
   ]
  },
  {
   "cell_type": "code",
   "execution_count": 25,
   "metadata": {},
   "outputs": [
    {
     "name": "stdout",
     "output_type": "stream",
     "text": [
      "GEOGCRS[\"WGS 84\",DATUM[\"World Geodetic System 1984\",ELLIPSOID[\"WGS 84\",6378137,298.257223563,LENGTHUNIT[\"metre\",1]]],PRIMEM[\"Greenwich\",0,ANGLEUNIT[\"degree\",0.0174532925199433]],CS[ellipsoidal,2],AXIS[\"geodetic latitude (Lat)\",north,ORDER[1],ANGLEUNIT[\"degree\",0.0174532925199433]],AXIS[\"geodetic longitude (Lon)\",east,ORDER[2],ANGLEUNIT[\"degree\",0.0174532925199433]],USAGE[SCOPE[\"unknown\"],AREA[\"World\"],BBOX[-90,-180,90,180]],ID[\"EPSG\",4326]]\n"
     ]
    }
   ],
   "source": [
    "# проверим CRS\n",
    "print(newdata.crs)"
   ]
  },
  {
   "cell_type": "code",
   "execution_count": 26,
   "metadata": {},
   "outputs": [],
   "source": [
    "# Текущая директория\n",
    "ROOT_PATH = os.path.abspath(os.curdir)\n",
    "\n",
    "# Папка с данными\n",
    "fp = os.path.join(ROOT_PATH, r\"L2_data\\Senaatintori.shp\")\n",
    "\n",
    "# Запись\n",
    "newdata.to_file(fp)"
   ]
  },
  {
   "cell_type": "code",
   "execution_count": null,
   "metadata": {},
   "outputs": [],
   "source": []
  }
 ],
 "metadata": {
  "kernelspec": {
   "display_name": "Python 3",
   "language": "python",
   "name": "python3"
  },
  "language_info": {
   "codemirror_mode": {
    "name": "ipython",
    "version": 3
   },
   "file_extension": ".py",
   "mimetype": "text/x-python",
   "name": "python",
   "nbconvert_exporter": "python",
   "pygments_lexer": "ipython3",
   "version": "3.6.12"
  }
 },
 "nbformat": 4,
 "nbformat_minor": 4
}
