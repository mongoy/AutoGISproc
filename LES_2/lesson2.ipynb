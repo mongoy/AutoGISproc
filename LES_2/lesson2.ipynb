{
 "cells": [
  {
   "cell_type": "markdown",
   "metadata": {},
   "source": [
    "# [Урок № 2](https://autogis-site.readthedocs.io/en/latest/lessons/L2/overview.html)\n",
    "##### В этом уроке мы узнаем, как обрабатывать пространственные данные в **Python** с помощью **Geopandas**. Geopandas сочетает в себе возможности Pandas, для анализа табличных данных, и стройный для работы с геометрией. Кроме того, **Geopandas** полагается на другие пакеты, такие как ``fiona`` для чтения и написание файлов, ``pyproj`` для управления системами координат и ``matplotlib`` для построения графиков.\n",
    "\n",
    "##### В частности, мы научимся читать и записывать пространственные данные в **Python**, и манипулировать геометрией в **GeoDataFrame**. Кроме того, мы научимся изменять проекцию данных, изменять систему координат (CRS).\n"
   ]
  },
  {
   "cell_type": "markdown",
   "metadata": {},
   "source": [
    "#### [Основные понятия:](https://autogis-site.readthedocs.io/en/latest/lessons/L2/definitions.html)\n",
    "\n",
    " **Shapefile:** векторный формат данных для хранения информации о местоположении и связанных с ним атрибутов. Шейп-файл состоит из нескольких файлов с общим префиксом, которые должны храниться в одном каталоге. **.shp**, **.shx** и **.dbf** - это обязательные расширения файлов в шейп-файле. Другие расширения файлов не требуются, но, например, расширение файла **.prj** часто имеет важное значение. Более подробная информация о расширениях файлов Шейп - файлов вот [здесь](http://help.arcgis.com/en/arcgisdesktop/10.0/help/index.html#/Shapefile_file_extensions/005600000003000000/)). Формат шейп-файла разработан компанией ESRI.\n",
    "\n",
    " **GeoPackage:** формат с открытым исходным кодом для хранения и передачи геопространственной информации. Геопакеты способны хранить как векторные, так и растровые данные. Более подробно, GeoPackage - это контейнер для база данных SQLite с расширение **gpkg** (все в одном файле!). Формат Геопакета регулируется открытым геопространственным консорциумом. Более подробная информация по адресу: https://www.geopackage.org/\n",
    "\n",
    " **CRS:** системы координат определяют, как координаты соотносятся с реальными местоположениями на Земле. Географические системы координат обычно используют Градусы широты и долготы. Системы координат проекции используют координаты x и y для представления местоположения на плоской поверхности. На этом уроке вы узнаете больше о системах отсчета координат!\n",
    "\n",
    " **Datum:** определяет центральную точку, ориентацию и масштаб опорной поверхности, связанной с системой координат. Одни и те же координаты могут относиться к разным местоположениям в зависимости от данных! Например, **WGS84** является широко используемым глобальным датумом. **ETRS89** - это датум, используемый в Европе. Системы координат часто называются на основе используемых данных.\n",
    "\n",
    " **EPSG:** коды EPSG относятся к конкретным системам отсчета. EPSG расшифровывается как **”European Petroleum Survey Group\"**, которая первоначально опубликовала базу данных для систем пространственной привязки. Например, EPSG: 3067 относится к системе координат ETRS-TM35FIN, которая обычно используется в Финляндии. EPSG: 4326 относится к WGS84. Вы можете искать коды EPSG по адресу: https://spatialreference.org/\n"
   ]
  },
  {
   "cell_type": "markdown",
   "metadata": {},
   "source": [
    "#### [Векторный ввод-вывод данных в Python:](https://autogis-site.readthedocs.io/en/latest/lessons/L2/definitions.html)\n",
    "Чтение данных в Python обычно является первым шагом рабочего процесса анализа. Существуют различные форматы данных ГИС, такие как [Шейп-файл](https://en.wikipedia.org/wiki/Shapefile) , [GeoJSON](https://en.wikipedia.org/wiki/GeoJSON), [KML](https://en.wikipedia.org/wiki/Keyhole_Markup_Language) и [GPKG](https://en.wikipedia.org/wiki/GeoPackage). [Geopandas](http://geopandas.org/io.html) способен считывать данные из всех этих форматов (а также из многих других).\n",
    "\n",
    "В этом уроке будут показаны некоторые типичные примеры того, как читать (и записывать) данные из разных источников. Главное в этом разделе-продемонстрировать базовый синтаксис для чтения и записи данных с помощью коротких фрагментов кода. Примеры наборов данных можно найти в папке data-folder. Однако большинство примеров баз данных не существует, но вы можете использовать и изменять синтаксис примера в соответствии с вашими собственными настройками.\n",
    "\n"
   ]
  },
  {
   "cell_type": "markdown",
   "metadata": {},
   "source": [
    "#### Форматы файлов\n",
    "##### В Geopandas мы используем универсальную функцию [from_file ()](http://geopandas.org/reference.html#geopandas.GeoDataFrame.to_file) для чтения в различных форматах данных. В бакграунде **Geopandas** использует [fiona.open()](https://fiona.readthedocs.io/en/latest/fiona.html#fiona.open) при чтении данных. Шейп-файл Esri - это формат файла по умолчанию. Для других форматов файлов нам нужно указать, какой драйвер использовать для чтения данных.\n",
    "\n",
    "Вы можете проверить поддержку через **Geopandas** или непосредственно от ``fiona``:"
   ]
  },
  {
   "cell_type": "code",
   "execution_count": 1,
   "metadata": {},
   "outputs": [
    {
     "data": {
      "text/plain": [
       "{'AeronavFAA': 'r',\n",
       " 'ARCGEN': 'r',\n",
       " 'BNA': 'rw',\n",
       " 'DXF': 'rw',\n",
       " 'CSV': 'raw',\n",
       " 'OpenFileGDB': 'r',\n",
       " 'FlatGeobuf': 'r',\n",
       " 'ESRIJSON': 'r',\n",
       " 'ESRI Shapefile': 'raw',\n",
       " 'GeoJSON': 'raw',\n",
       " 'GeoJSONSeq': 'rw',\n",
       " 'GPKG': 'raw',\n",
       " 'GML': 'rw',\n",
       " 'OGR_GMT': 'rw',\n",
       " 'GPX': 'rw',\n",
       " 'GPSTrackMaker': 'rw',\n",
       " 'Idrisi': 'r',\n",
       " 'MapInfo File': 'raw',\n",
       " 'DGN': 'raw',\n",
       " 'PCIDSK': 'rw',\n",
       " 'OGR_PDS': 'r',\n",
       " 'S57': 'r',\n",
       " 'SEGY': 'r',\n",
       " 'SUA': 'r',\n",
       " 'TopoJSON': 'r'}"
      ]
     },
     "execution_count": 1,
     "metadata": {},
     "output_type": "execute_result"
    }
   ],
   "source": [
    "import geopandas as gpd\n",
    "import os\n",
    "\n",
    "# Проверьте поддерживаемые драйверы форматов\n",
    "gpd.io.file.fiona.drvsupport.supported_drivers"
   ]
  },
  {
   "cell_type": "code",
   "execution_count": 2,
   "metadata": {},
   "outputs": [],
   "source": [
    "# Same as:\n",
    "import fiona\n",
    "# fiona.supported_drivers"
   ]
  },
  {
   "cell_type": "code",
   "execution_count": 3,
   "metadata": {},
   "outputs": [],
   "source": [
    "# Текущая директория\n",
    "ROOT_PATH = os.path.abspath(os.curdir)"
   ]
  },
  {
   "cell_type": "markdown",
   "metadata": {},
   "source": [
    "##### Shapefile"
   ]
  },
  {
   "cell_type": "code",
   "execution_count": 4,
   "metadata": {},
   "outputs": [
    {
     "data": {
      "text/html": [
       "<div>\n",
       "<style scoped>\n",
       "    .dataframe tbody tr th:only-of-type {\n",
       "        vertical-align: middle;\n",
       "    }\n",
       "\n",
       "    .dataframe tbody tr th {\n",
       "        vertical-align: top;\n",
       "    }\n",
       "\n",
       "    .dataframe thead th {\n",
       "        text-align: right;\n",
       "    }\n",
       "</style>\n",
       "<table border=\"1\" class=\"dataframe\">\n",
       "  <thead>\n",
       "    <tr style=\"text-align: right;\">\n",
       "      <th></th>\n",
       "      <th>OSM_ID</th>\n",
       "      <th>NAME</th>\n",
       "      <th>ADMIN_LVL</th>\n",
       "      <th>ID_1</th>\n",
       "      <th>DT_OBR</th>\n",
       "      <th>REG_NUM</th>\n",
       "      <th>POPULATION</th>\n",
       "      <th>ADM_CNT</th>\n",
       "      <th>geometry</th>\n",
       "    </tr>\n",
       "  </thead>\n",
       "  <tbody>\n",
       "    <tr>\n",
       "      <th>0</th>\n",
       "      <td>-194924.0</td>\n",
       "      <td>Красночикойский район</td>\n",
       "      <td>6</td>\n",
       "      <td>13</td>\n",
       "      <td>1933-01-01</td>\n",
       "      <td>RU 92513000</td>\n",
       "      <td>None</td>\n",
       "      <td>None</td>\n",
       "      <td>POLYGON ((107.73338 50.11055, 107.74180 50.116...</td>\n",
       "    </tr>\n",
       "    <tr>\n",
       "      <th>1</th>\n",
       "      <td>-194940.0</td>\n",
       "      <td>Петровск-Забайкальский район</td>\n",
       "      <td>6</td>\n",
       "      <td>21</td>\n",
       "      <td>1926-01-04</td>\n",
       "      <td>RU 92521000</td>\n",
       "      <td>None</td>\n",
       "      <td>None</td>\n",
       "      <td>POLYGON ((108.09007 50.77555, 108.09208 50.778...</td>\n",
       "    </tr>\n",
       "    <tr>\n",
       "      <th>2</th>\n",
       "      <td>-1754048.0</td>\n",
       "      <td>Хилокский район</td>\n",
       "      <td>6</td>\n",
       "      <td>27</td>\n",
       "      <td>1935-02-11</td>\n",
       "      <td>RU 92527000</td>\n",
       "      <td>None</td>\n",
       "      <td>None</td>\n",
       "      <td>POLYGON ((109.30976 51.19475, 109.31100 51.197...</td>\n",
       "    </tr>\n",
       "    <tr>\n",
       "      <th>3</th>\n",
       "      <td>-1742666.0</td>\n",
       "      <td>Кыринский район</td>\n",
       "      <td>6</td>\n",
       "      <td>14</td>\n",
       "      <td>1926-01-04</td>\n",
       "      <td>RU 92514000</td>\n",
       "      <td>None</td>\n",
       "      <td>None</td>\n",
       "      <td>POLYGON ((109.39000 49.30027, 109.40258 49.309...</td>\n",
       "    </tr>\n",
       "    <tr>\n",
       "      <th>4</th>\n",
       "      <td>-1754047.0</td>\n",
       "      <td>Улётовский район</td>\n",
       "      <td>6</td>\n",
       "      <td>26</td>\n",
       "      <td>1926-01-04</td>\n",
       "      <td>RU 92526000</td>\n",
       "      <td>None</td>\n",
       "      <td>None</td>\n",
       "      <td>POLYGON ((110.89757 49.83994, 110.90595 49.839...</td>\n",
       "    </tr>\n",
       "  </tbody>\n",
       "</table>\n",
       "</div>"
      ],
      "text/plain": [
       "      OSM_ID                          NAME ADMIN_LVL  ID_1      DT_OBR  \\\n",
       "0  -194924.0         Красночикойский район         6    13  1933-01-01   \n",
       "1  -194940.0  Петровск-Забайкальский район         6    21  1926-01-04   \n",
       "2 -1754048.0               Хилокский район         6    27  1935-02-11   \n",
       "3 -1742666.0               Кыринский район         6    14  1926-01-04   \n",
       "4 -1754047.0              Улётовский район         6    26  1926-01-04   \n",
       "\n",
       "       REG_NUM POPULATION ADM_CNT  \\\n",
       "0  RU 92513000       None    None   \n",
       "1  RU 92521000       None    None   \n",
       "2  RU 92527000       None    None   \n",
       "3  RU 92514000       None    None   \n",
       "4  RU 92526000       None    None   \n",
       "\n",
       "                                            geometry  \n",
       "0  POLYGON ((107.73338 50.11055, 107.74180 50.116...  \n",
       "1  POLYGON ((108.09007 50.77555, 108.09208 50.778...  \n",
       "2  POLYGON ((109.30976 51.19475, 109.31100 51.197...  \n",
       "3  POLYGON ((109.39000 49.30027, 109.40258 49.309...  \n",
       "4  POLYGON ((110.89757 49.83994, 110.90595 49.839...  "
      ]
     },
     "execution_count": 4,
     "metadata": {},
     "output_type": "execute_result"
    }
   ],
   "source": [
    "# чтение файла .shp\n",
    "# fp = os.path.join(ROOT_PATH,r'data\\finland_municipalities.shx')\n",
    "fp = os.path.join(ROOT_PATH,r'data\\rus\\gran_reg1.shx')\n",
    "gdf = gpd.read_file(fp)\n",
    "gdf.head()"
   ]
  },
  {
   "cell_type": "code",
   "execution_count": 5,
   "metadata": {},
   "outputs": [
    {
     "data": {
      "text/plain": [
       "<Geographic 2D CRS: EPSG:4326>\n",
       "Name: WGS 84\n",
       "Axis Info [ellipsoidal]:\n",
       "- Lat[north]: Geodetic latitude (degree)\n",
       "- Lon[east]: Geodetic longitude (degree)\n",
       "Area of Use:\n",
       "- name: World\n",
       "- bounds: (-180.0, -90.0, 180.0, 90.0)\n",
       "Datum: World Geodetic System 1984\n",
       "- Ellipsoid: WGS 84\n",
       "- Prime Meridian: Greenwich"
      ]
     },
     "execution_count": 5,
     "metadata": {},
     "output_type": "execute_result"
    }
   ],
   "source": [
    "# Проекция\n",
    "gdf.crs"
   ]
  },
  {
   "cell_type": "code",
   "execution_count": 6,
   "metadata": {},
   "outputs": [],
   "source": [
    "outfp = os.path.join(ROOT_PATH, r\"data\\TMP\\gran_reg1.shp\")\n",
    "gdf.to_file(outfp)"
   ]
  },
  {
   "cell_type": "markdown",
   "metadata": {},
   "source": [
    "##### GeoJSON"
   ]
  },
  {
   "cell_type": "code",
   "execution_count": 7,
   "metadata": {},
   "outputs": [
    {
     "data": {
      "text/html": [
       "<div>\n",
       "<style scoped>\n",
       "    .dataframe tbody tr th:only-of-type {\n",
       "        vertical-align: middle;\n",
       "    }\n",
       "\n",
       "    .dataframe tbody tr th {\n",
       "        vertical-align: top;\n",
       "    }\n",
       "\n",
       "    .dataframe thead th {\n",
       "        text-align: right;\n",
       "    }\n",
       "</style>\n",
       "<table border=\"1\" class=\"dataframe\">\n",
       "  <thead>\n",
       "    <tr style=\"text-align: right;\">\n",
       "      <th></th>\n",
       "      <th>kunta</th>\n",
       "      <th>vuosi</th>\n",
       "      <th>nimi</th>\n",
       "      <th>namn</th>\n",
       "      <th>name</th>\n",
       "      <th>geometry</th>\n",
       "    </tr>\n",
       "  </thead>\n",
       "  <tbody>\n",
       "    <tr>\n",
       "      <th>0</th>\n",
       "      <td>005</td>\n",
       "      <td>2020</td>\n",
       "      <td>Alajärvi</td>\n",
       "      <td>Alajärvi</td>\n",
       "      <td>Alajärvi</td>\n",
       "      <td>POLYGON ((366787.924 7001300.583, 362458.797 6...</td>\n",
       "    </tr>\n",
       "    <tr>\n",
       "      <th>1</th>\n",
       "      <td>009</td>\n",
       "      <td>2020</td>\n",
       "      <td>Alavieska</td>\n",
       "      <td>Alavieska</td>\n",
       "      <td>Alavieska</td>\n",
       "      <td>POLYGON ((382543.364 7120022.976, 372645.944 7...</td>\n",
       "    </tr>\n",
       "    <tr>\n",
       "      <th>2</th>\n",
       "      <td>010</td>\n",
       "      <td>2020</td>\n",
       "      <td>Alavus</td>\n",
       "      <td>Alavus</td>\n",
       "      <td>Alavus</td>\n",
       "      <td>POLYGON ((343298.204 6961570.195, 345569.224 6...</td>\n",
       "    </tr>\n",
       "    <tr>\n",
       "      <th>3</th>\n",
       "      <td>016</td>\n",
       "      <td>2020</td>\n",
       "      <td>Asikkala</td>\n",
       "      <td>Asikkala</td>\n",
       "      <td>Asikkala</td>\n",
       "      <td>POLYGON ((436139.680 6798279.085, 435912.756 6...</td>\n",
       "    </tr>\n",
       "    <tr>\n",
       "      <th>4</th>\n",
       "      <td>018</td>\n",
       "      <td>2020</td>\n",
       "      <td>Askola</td>\n",
       "      <td>Askola</td>\n",
       "      <td>Askola</td>\n",
       "      <td>POLYGON ((426631.036 6720528.076, 432565.266 6...</td>\n",
       "    </tr>\n",
       "  </tbody>\n",
       "</table>\n",
       "</div>"
      ],
      "text/plain": [
       "  kunta  vuosi       nimi       namn       name  \\\n",
       "0   005   2020   Alajärvi   Alajärvi   Alajärvi   \n",
       "1   009   2020  Alavieska  Alavieska  Alavieska   \n",
       "2   010   2020     Alavus     Alavus     Alavus   \n",
       "3   016   2020   Asikkala   Asikkala   Asikkala   \n",
       "4   018   2020     Askola     Askola     Askola   \n",
       "\n",
       "                                            geometry  \n",
       "0  POLYGON ((366787.924 7001300.583, 362458.797 6...  \n",
       "1  POLYGON ((382543.364 7120022.976, 372645.944 7...  \n",
       "2  POLYGON ((343298.204 6961570.195, 345569.224 6...  \n",
       "3  POLYGON ((436139.680 6798279.085, 435912.756 6...  \n",
       "4  POLYGON ((426631.036 6720528.076, 432565.266 6...  "
      ]
     },
     "execution_count": 7,
     "metadata": {},
     "output_type": "execute_result"
    }
   ],
   "source": [
    "fp = os.path.join(ROOT_PATH,r'data\\finland_municipalities.gjson')\n",
    "data = gpd.read_file(fp, driver=\"GeoJSON\")\n",
    "data.head()"
   ]
  },
  {
   "cell_type": "code",
   "execution_count": 8,
   "metadata": {},
   "outputs": [],
   "source": [
    "outfp = os.path.join(ROOT_PATH, r\"data\\TMP\\finland_municipalities.gjson\")\n",
    "data.to_file(outfp, driver=\"GeoJSON\")"
   ]
  },
  {
   "cell_type": "markdown",
   "metadata": {},
   "source": [
    "##### KML"
   ]
  },
  {
   "cell_type": "code",
   "execution_count": 9,
   "metadata": {},
   "outputs": [],
   "source": [
    "# Enable KML driver\n",
    "gpd.io.file.fiona.drvsupport.supported_drivers['KML'] = 'rw'\n",
    "\n",
    "# Read file from KML\n",
    "fp = os.path.join(ROOT_PATH,r\"data\\finland_municipalities.kml\")\n",
    "data = gpd.read_file(fp)\n",
    "\n",
    "# Write to KML (just make a copy)\n",
    "outfp =  os.path.join(ROOT_PATH, r\"data\\TMP\\finland_municipalities.kml\")\n",
    "data.to_file(outfp, driver=\"KML\")\n"
   ]
  },
  {
   "cell_type": "markdown",
   "metadata": {},
   "source": [
    "##### Geopackage"
   ]
  },
  {
   "cell_type": "code",
   "execution_count": 10,
   "metadata": {},
   "outputs": [],
   "source": [
    "# Read file from Geopackage\n",
    "fp = os.path.join(ROOT_PATH, r\"data\\finland_municipalities.gpkg\")\n",
    "data = gpd.read_file(fp)\n",
    "\n",
    "# Write to Geopackage (just make a copy)\n",
    "outfp = os.path.join(ROOT_PATH, r\"data\\TMP\\finland_municipalities.gpkg\")\n",
    "data.to_file(outfp, driver=\"GPKG\")"
   ]
  },
  {
   "cell_type": "markdown",
   "metadata": {},
   "source": [
    "##### GeoDatabase"
   ]
  },
  {
   "cell_type": "code",
   "execution_count": 11,
   "metadata": {},
   "outputs": [],
   "source": [
    "# Read file from File Geodatabase\n",
    "fp = os.path.join(ROOT_PATH, r\"data\\finland.gdb\")\n",
    "data = gpd.read_file(fp, driver=\"OpenFileGDB\", layer='municipalities')\n",
    "\n",
    "# Write to same FileGDB (just add a new layer) - requires additional package installations(?)\n",
    "#outfp = \"data/finland.gdb\"\n",
    "#data.to_file(outfp, driver=\"FileGDB\", layer=\"municipalities_copy\")"
   ]
  },
  {
   "cell_type": "markdown",
   "metadata": {},
   "source": [
    "##### MapInfo Tab"
   ]
  },
  {
   "cell_type": "code",
   "execution_count": 12,
   "metadata": {},
   "outputs": [],
   "source": [
    "# Read file from MapInfo Tab\n",
    "fp = os.path.join(ROOT_PATH, r\"data\\finland_municipalities.tab\")\n",
    "data = gpd.read_file(fp, driver=\"MapInfo File\")\n",
    "\n",
    "# Write to same FileGDB (just add a new layer)\n",
    "outfp = os.path.join(ROOT_PATH, r\"data\\TMP\\finland_municipalities.tab\")\n",
    "data.to_file(outfp, driver=\"MapInfo File\")\n"
   ]
  },
  {
   "cell_type": "markdown",
   "metadata": {},
   "source": [
    "### Базы данных\n",
    "##### Пример синтаксиса для чтения и записи данных из / в базы данных.\n",
    "\n",
    "Чтение базы данных **PostGIS с помощью ``psycopg2``"
   ]
  },
  {
   "cell_type": "code",
   "execution_count": null,
   "metadata": {},
   "outputs": [],
   "source": [
    "import geopandas as gpd\n",
    "import psycopg2\n",
    "\n",
    "# Создайте соединение с базой данных с помощью модуля psycopg2 (обновите параметры в соответствии с вашей базой данных)\n",
    "\n",
    "conn, cursor = psycopg2.connect(dbname='my_postgis_database', \n",
    "                                user='my_usrname', \n",
    "                                password='my_pwd', \n",
    "                                host='123.22.432.16', port=5432)\n",
    "\n",
    "# Укажите sql-запрос\n",
    "sql = \"SELECT * FROM MY_TABLE;\"\n",
    "\n",
    "# Чтение данных из PostGIS\n",
    "data = gpd.read_postgis(sql=sql, con=conn)\n"
   ]
  },
  {
   "cell_type": "markdown",
   "metadata": {},
   "source": [
    "### Чтение / запись базы данных PostGIS с помощью SqlAlchemy + GeoAlchemy"
   ]
  },
  {
   "cell_type": "code",
   "execution_count": null,
   "metadata": {},
   "outputs": [],
   "source": [
    "from sqlalchemy.engine.url import URL\n",
    "from sqlalchemy import create_engine\n",
    "from sqlalchemy import MetaData\n",
    "from sqlalchemy.orm import sessionmaker\n",
    "from geoalchemy2 import WKTElement, Geometry\n",
    "\n",
    "# Обновите параметры БД\n",
    "HOST = '123.234.345.16'\n",
    "DB = 'my_database'\n",
    "USER = 'my_user'\n",
    "PORT = 5432\n",
    "PWD = 'my_password'\n",
    "\n",
    "# Информация о базе данных\n",
    "db_url = URL(drivername='postgresql+psycopg2', host=HOST, database=DB,\n",
    "                   username=USER, port=PORT, password=PWD)\n",
    "\n",
    "# Создать движок\n",
    "engine = create_engine(db_url)\n",
    "\n",
    "# Метаданные Init\n",
    "meta = MetaData()\n",
    "\n",
    "# Загрузить определения таблиц из БД\n",
    "meta.reflect(engine)\n",
    "\n",
    "# Создать сеанс\n",
    "Session = sessionmaker(bind=engine)\n",
    "session = Session()\n",
    "\n",
    "# ========================\n",
    "# Чтение данных из PostGIS\n",
    "# ========================\n",
    "\n",
    "# Укажите sql-запрос\n",
    "sql = \"SELECT * FROM finland;\"\n",
    "\n",
    "# Чтение данных\n",
    "data = gpd.read_postgis(sql=sql, con=engine)\n",
    "\n",
    "# Закрыть сессию\n",
    "session.close()\n",
    "\n",
    "# =========================================\n",
    "# Запись данных в PostGIS (создание таблицы копирования)\n",
    "# =========================================\n",
    "\n",
    "# Coordinate Reference System (srid) Координатная система отсчета (srid)\n",
    "crs = 4326\n",
    "\n",
    "# Целевая таблица\n",
    "target_table = 'finland_copy'\n",
    "\n",
    "# Преобразование геометрических фигур в WKTElements в столбец \"geom\" (по умолчанию в PostGIS)\n",
    "data['geom'] = data['geometry'].apply(lambda row: WKTElement(row.wkt, srid=crs))\n",
    "\n",
    "# Drop Shapely geometries\n",
    "data = data.drop('geometry', axis=1)\n",
    "\n",
    "# Запись в PostGIS (перезапись, если таблица существует, будьте осторожны с этим! )\n",
    "# Возможное поведение: \"замена\", \"добавление\", \"сбой\"\n",
    "\n",
    "data.to_sql(target_table, engine, if_exists='replace', index=False)\n"
   ]
  },
  {
   "cell_type": "markdown",
   "metadata": {},
   "source": [
    "### Чтение / запись базы данных Spatialite"
   ]
  },
  {
   "cell_type": "code",
   "execution_count": null,
   "metadata": {},
   "outputs": [],
   "source": [
    "import sqlite3\n",
    "import shapely.wkb as swkb\n",
    "from sqlalchemy import create_engine, event\n",
    "\n",
    "# Путь к БД\n",
    "dbfp = 'L2_data/Finland.sqlite'\n",
    "\n",
    "# Имя для таблицы\n",
    "tbl_name = 'finland'\n",
    "\n",
    "# SRID (crs ваших данных)\n",
    "srid = 4326\n",
    "\n",
    "# Разбор геометрического типа входных данных\n",
    "gtype = data.geom_type.unique()\n",
    "assert len(gtype) == 1, \"Mixed Geometries! Cannot insert into SQLite table.\"\n",
    "geom_type = gtype[0].upper()\n",
    "\n",
    "# Инициализировать компонент database engine\n",
    "engine = create_engine('sqlite:///{db}'.format(db=dbfp), module=sqlite)\n",
    "\n",
    "# Инициализировать таблицу без геометрии\n",
    "geo = data.drop(['geometry'], axis=1)\n",
    "\n",
    "with sqlite3.connect(dbfp) as conn:\n",
    "    geo.to_sql(tbl_name, conn, if_exists='replace', index=False)\n",
    "\n",
    "# Включить расширение spatialite  \n",
    "with sqlite3.connect(dbfp) as conn:\n",
    "    conn.enable_load_extension(True)\n",
    "    conn.load_extension(\"mod_spatialite\")\n",
    "    conn.execute(\"SELECT InitSpatialMetaData(1);\")\n",
    "    # Добавить столбец геометрии с заданным CRS с заданным типом геометрии, имеющим два измерения\n",
    "    conn.execute(\n",
    "        \"SELECT AddGeometryColumn({table}, 'wkb_geometry',\\\n",
    "        {srid}, {geom_type}, 2);\".format(table=tbl_name, srid=srid, geom_type=geom_type)\n",
    "    )\n",
    "    \n",
    "# Преобразование геометрических фигур в хорошо известный двоичный формат\n",
    "data['geometry'] = data['geometry'].apply(lambda geom: swkb.dumps(geom))\n",
    "\n",
    "# Push to database (перезаписать, если таблица существует)\n",
    "data.to_sql(tbl_name, engine, if_exists='replace', index=False)\n"
   ]
  },
  {
   "cell_type": "markdown",
   "metadata": {},
   "source": [
    "### Веб-сервис пространственных объектов, чтение (WFS)\n",
    "##### Этот скрипт был использован для генерации входных данных для этого учебника (FileGDB и tab были созданы отдельно). Источник: статистическое управление Финляндии WFS."
   ]
  },
  {
   "cell_type": "code",
   "execution_count": 14,
   "metadata": {},
   "outputs": [],
   "source": [
    "import geopandas as gpd\n",
    "import requests\n",
    "import geojson\n",
    "from pyproj import CRS\n",
    "\n",
    "\n",
    "# Укажите URL-адрес сервера.\n",
    "# Здесь мы используем данные Статистического управления Финляндии: https://www.stat.fi/org/avoindata/paikkatietoaineistot_en.html. (CC BY 4.0)\n",
    "url = 'http://geo.stat.fi/geoserver/tilastointialueet/wfs'\n",
    "\n",
    "# Укажите параметры (чтение данных в формате json).\n",
    "params = dict(service='WFS', version='2.0.0', request='GetFeature', \n",
    "         typeName='tilastointialueet:kunta4500k', outputFormat='json')\n",
    "\n",
    "# Извлечение данных из WFS с помощью запросов\n",
    "r = requests.get(url, params=params)\n",
    "\n",
    "# Создайте GeoDataFrame из geojson и установите систему координат отсчета\n",
    "data = gpd.GeoDataFrame.from_features(geojson.loads(r.content),  crs=\"EPSG:3067\")"
   ]
  },
  {
   "cell_type": "code",
   "execution_count": 15,
   "metadata": {},
   "outputs": [
    {
     "data": {
      "text/html": [
       "<div>\n",
       "<style scoped>\n",
       "    .dataframe tbody tr th:only-of-type {\n",
       "        vertical-align: middle;\n",
       "    }\n",
       "\n",
       "    .dataframe tbody tr th {\n",
       "        vertical-align: top;\n",
       "    }\n",
       "\n",
       "    .dataframe thead th {\n",
       "        text-align: right;\n",
       "    }\n",
       "</style>\n",
       "<table border=\"1\" class=\"dataframe\">\n",
       "  <thead>\n",
       "    <tr style=\"text-align: right;\">\n",
       "      <th></th>\n",
       "      <th>geometry</th>\n",
       "      <th>kunta</th>\n",
       "      <th>vuosi</th>\n",
       "      <th>nimi</th>\n",
       "      <th>namn</th>\n",
       "      <th>name</th>\n",
       "      <th>bbox</th>\n",
       "    </tr>\n",
       "  </thead>\n",
       "  <tbody>\n",
       "    <tr>\n",
       "      <th>0</th>\n",
       "      <td>POLYGON ((366787.924 7001300.583, 362458.797 6...</td>\n",
       "      <td>005</td>\n",
       "      <td>2020</td>\n",
       "      <td>Alajärvi</td>\n",
       "      <td>Alajärvi</td>\n",
       "      <td>Alajärvi</td>\n",
       "      <td>[321987.07200161, 6959704.55099558, 366787.924...</td>\n",
       "    </tr>\n",
       "    <tr>\n",
       "      <th>1</th>\n",
       "      <td>POLYGON ((382543.364 7120022.976, 372645.944 7...</td>\n",
       "      <td>009</td>\n",
       "      <td>2020</td>\n",
       "      <td>Alavieska</td>\n",
       "      <td>Alavieska</td>\n",
       "      <td>Alavieska</td>\n",
       "      <td>[360962.99200022, 7104339.03799839, 382543.364...</td>\n",
       "    </tr>\n",
       "    <tr>\n",
       "      <th>2</th>\n",
       "      <td>POLYGON ((343298.204 6961570.195, 345569.224 6...</td>\n",
       "      <td>010</td>\n",
       "      <td>2020</td>\n",
       "      <td>Alavus</td>\n",
       "      <td>Alavus</td>\n",
       "      <td>Alavus</td>\n",
       "      <td>[303353.32000378, 6922242.40698068, 345569.224...</td>\n",
       "    </tr>\n",
       "    <tr>\n",
       "      <th>3</th>\n",
       "      <td>POLYGON ((436139.680 6798279.085, 435912.756 6...</td>\n",
       "      <td>016</td>\n",
       "      <td>2020</td>\n",
       "      <td>Asikkala</td>\n",
       "      <td>Asikkala</td>\n",
       "      <td>Asikkala</td>\n",
       "      <td>[403543.81899999, 6774122.31100019, 442401.762...</td>\n",
       "    </tr>\n",
       "    <tr>\n",
       "      <th>4</th>\n",
       "      <td>POLYGON ((426631.036 6720528.076, 432565.266 6...</td>\n",
       "      <td>018</td>\n",
       "      <td>2020</td>\n",
       "      <td>Askola</td>\n",
       "      <td>Askola</td>\n",
       "      <td>Askola</td>\n",
       "      <td>[413073.96299999, 6704555.87800016, 435459.201...</td>\n",
       "    </tr>\n",
       "  </tbody>\n",
       "</table>\n",
       "</div>"
      ],
      "text/plain": [
       "                                            geometry kunta  vuosi       nimi  \\\n",
       "0  POLYGON ((366787.924 7001300.583, 362458.797 6...   005   2020   Alajärvi   \n",
       "1  POLYGON ((382543.364 7120022.976, 372645.944 7...   009   2020  Alavieska   \n",
       "2  POLYGON ((343298.204 6961570.195, 345569.224 6...   010   2020     Alavus   \n",
       "3  POLYGON ((436139.680 6798279.085, 435912.756 6...   016   2020   Asikkala   \n",
       "4  POLYGON ((426631.036 6720528.076, 432565.266 6...   018   2020     Askola   \n",
       "\n",
       "        namn       name                                               bbox  \n",
       "0   Alajärvi   Alajärvi  [321987.07200161, 6959704.55099558, 366787.924...  \n",
       "1  Alavieska  Alavieska  [360962.99200022, 7104339.03799839, 382543.364...  \n",
       "2     Alavus     Alavus  [303353.32000378, 6922242.40698068, 345569.224...  \n",
       "3   Asikkala   Asikkala  [403543.81899999, 6774122.31100019, 442401.762...  \n",
       "4     Askola     Askola  [413073.96299999, 6704555.87800016, 435459.201...  "
      ]
     },
     "execution_count": 15,
     "metadata": {},
     "output_type": "execute_result"
    }
   ],
   "source": [
    "data.head()"
   ]
  },
  {
   "cell_type": "code",
   "execution_count": 16,
   "metadata": {},
   "outputs": [],
   "source": [
    "# Подготовка данных для записи в различные форматы файлов\n",
    "data = data.drop(columns=[\"bbox\"])"
   ]
  },
  {
   "cell_type": "code",
   "execution_count": 17,
   "metadata": {},
   "outputs": [
    {
     "data": {
      "text/plain": [
       "<Projected CRS: EPSG:3067>\n",
       "Name: ETRS89 / TM35FIN(E,N)\n",
       "Axis Info [cartesian]:\n",
       "- E[east]: Easting (metre)\n",
       "- N[north]: Northing (metre)\n",
       "Area of Use:\n",
       "- name: Finland\n",
       "- bounds: (19.08, 58.84, 31.59, 70.09)\n",
       "Coordinate Operation:\n",
       "- name: TM35FIN\n",
       "- method: Transverse Mercator\n",
       "Datum: European Terrestrial Reference System 1989\n",
       "- Ellipsoid: GRS 1980\n",
       "- Prime Meridian: Greenwich"
      ]
     },
     "execution_count": 17,
     "metadata": {},
     "output_type": "execute_result"
    }
   ],
   "source": [
    "# Параметры проекции crs\n",
    "data.crs"
   ]
  },
  {
   "cell_type": "code",
   "execution_count": 18,
   "metadata": {},
   "outputs": [
    {
     "name": "stdout",
     "output_type": "stream",
     "text": [
      "D:\\!PROJ\\AutoGISproc\\LES_2\\data\\OUT\\finland_municipalities.shp\n",
      "ESRI Shapefile\n",
      "Created file D:\\!PROJ\\AutoGISproc\\LES_2\\data\\OUT\\finland_municipalities.shp\n",
      "D:\\!PROJ\\AutoGISproc\\LES_2\\data\\OUT\\finland_municipalities.gjson\n",
      "GeoJSON\n",
      "Created file D:\\!PROJ\\AutoGISproc\\LES_2\\data\\OUT\\finland_municipalities.gjson\n",
      "D:\\!PROJ\\AutoGISproc\\LES_2\\data\\OUT\\finland_municipalities.kml\n",
      "KML\n",
      "Created file D:\\!PROJ\\AutoGISproc\\LES_2\\data\\OUT\\finland_municipalities.kml\n",
      "D:\\!PROJ\\AutoGISproc\\LES_2\\data\\OUT\\finland_municipalities.gpkg\n",
      "GPKG\n",
      "Created file D:\\!PROJ\\AutoGISproc\\LES_2\\data\\OUT\\finland_municipalities.gpkg\n"
     ]
    }
   ],
   "source": [
    "# Имя слоя\n",
    "layer_name = \"finland_municipalities\"\n",
    "\n",
    "# запись KML\n",
    "gpd.io.file.fiona.drvsupport.supported_drivers['KML'] = 'rw'\n",
    "\n",
    "# драйверы и расширения для различных форматов файлов\n",
    "drivers = {'ESRI Shapefile': 'shp',\n",
    "           'GeoJSON': 'gjson',\n",
    "           'KML': 'kml',\n",
    "           'GPKG': 'gpkg',\n",
    "          }\n",
    "\n",
    "# Запись слоя в различные форматы файлов (словарь drivers)\n",
    "for driver, extension in drivers.items():\n",
    "    \n",
    "    # путь к файлу\n",
    "    file_name = os.path.join(ROOT_PATH, r\"data\\OUT\\{0}.{1}\".format(layer_name, extension))\n",
    "    print(file_name)\n",
    "    print(driver)\n",
    "    # Запись\n",
    "    data.to_file(file_name, driver=driver)\n",
    "    print(\"Created file\", file_name)"
   ]
  },
  {
   "cell_type": "code",
   "execution_count": null,
   "metadata": {},
   "outputs": [],
   "source": []
  },
  {
   "cell_type": "code",
   "execution_count": null,
   "metadata": {},
   "outputs": [],
   "source": []
  },
  {
   "cell_type": "code",
   "execution_count": null,
   "metadata": {},
   "outputs": [],
   "source": []
  }
 ],
 "metadata": {
  "kernelspec": {
   "display_name": "Python 3",
   "language": "python",
   "name": "python3"
  },
  "language_info": {
   "codemirror_mode": {
    "name": "ipython",
    "version": 3
   },
   "file_extension": ".py",
   "mimetype": "text/x-python",
   "name": "python",
   "nbconvert_exporter": "python",
   "pygments_lexer": "ipython3",
   "version": "3.6.12"
  }
 },
 "nbformat": 4,
 "nbformat_minor": 4
}
