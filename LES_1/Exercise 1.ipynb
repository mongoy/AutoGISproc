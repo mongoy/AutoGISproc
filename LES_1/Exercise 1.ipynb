{
 "cells": [
  {
   "cell_type": "markdown",
   "metadata": {},
   "source": [
    "# Упражнение №1 Работа с геометрическими объектами\n",
    "\n",
    "[GITHUB](https://github.com/AutoGIS-2020/Exercise-1)"
   ]
  },
  {
   "cell_type": "markdown",
   "metadata": {},
   "source": [
    "В первом наборе задач (1-2) вы определите свои собственные функции для обработки геометрических объектов. Во втором наборе задач (3-4) вы будете считывать данные из файла с помощью панд и создавать геометрии на основе информации о координатах во входных данных.\n"
   ]
  },
  {
   "cell_type": "markdown",
   "metadata": {},
   "source": [
    "#### 1. Создание базовой геометрии:"
   ]
  },
  {
   "cell_type": "markdown",
   "metadata": {},
   "source": [
    "###### Создайте функцию create_point_geom() с двумя параметрами (x_coord, y_coord). Функция должна создать фигурный точечный геометрический объект и вернуть его."
   ]
  },
  {
   "cell_type": "code",
   "execution_count": 10,
   "metadata": {},
   "outputs": [],
   "source": [
    "import os\n",
    "from shapely.geometry import Point, LineString, Polygon"
   ]
  },
  {
   "cell_type": "code",
   "execution_count": 27,
   "metadata": {},
   "outputs": [],
   "source": [
    "# функция создающая линии\n",
    "def create_point_geom(x_coord, y_coord):\n",
    "    \"\"\"\n",
    "        Функция создаёт фигурный точечный геометрический объект и возвращает его\n",
    "    \"\"\"\n",
    "    # value1 -parameter\n",
    "    assert type(x_coord) in [int, float], \"Входное значение для 'x_coord' должно быть целым числом или числом с плавающей запятой! Нашел: %s\" % type(x_coord)\n",
    "\n",
    "    # value2 -parameter\n",
    "    assert type(y_coord) in [int, float], \"Входное значение для 'y_coord' должно быть целым числом или числом с плавающей запятой! Нашел: %s\" % type(y_coord)\n",
    "\n",
    "    #     create_point = \n",
    "    return Point(x_coord, y_coord)"
   ]
  },
  {
   "cell_type": "code",
   "execution_count": 30,
   "metadata": {},
   "outputs": [
    {
     "name": "stdout",
     "output_type": "stream",
     "text": [
      "Тип геометрии: Point\n",
      "POINT (0 1.1)\n"
     ]
    },
    {
     "data": {
      "image/svg+xml": [
       "<svg xmlns=\"http://www.w3.org/2000/svg\" xmlns:xlink=\"http://www.w3.org/1999/xlink\" width=\"100.0\" height=\"100.0\" viewBox=\"-1.0 0.10000000000000009 2.0 2.0\" preserveAspectRatio=\"xMinYMin meet\"><g transform=\"matrix(1,0,0,-1,0,2.2)\"><circle cx=\"0.0\" cy=\"1.1\" r=\"0.06\" stroke=\"#555555\" stroke-width=\"0.02\" fill=\"#66cc99\" opacity=\"0.6\" /></g></svg>"
      ],
      "text/plain": [
       "<shapely.geometry.point.Point at 0x2491543e278>"
      ]
     },
     "execution_count": 30,
     "metadata": {},
     "output_type": "execute_result"
    }
   ],
   "source": [
    "# Demonstrate the usage of the function create_point_geom\n",
    "# point1 = create_point_geom('a', 1.1)\n",
    "point1 = create_point_geom(0.0, 1.1)\n",
    "print(f\"Тип геометрии: {point1.geom_type}\")\n",
    "print(point1)\n",
    "point1"
   ]
  },
  {
   "cell_type": "markdown",
   "metadata": {},
   "source": [
    "##### Создайте функцию create_line_geom (), которая принимает список объектов Shapely Point в качестве параметра points и возвращает объект LineString этих входных точек. Кроме того, вы должны позаботиться о том, чтобы функция использовалась так, как она должна:\n",
    "\n",
    "- Внутри функции вы должны сначала проверить с помощью ``assert-functionality``, что входные данные представляют собой список (см. Урок 6 из курса Geo-Python и подсказки для этого упражнения). Если для функции передается что-то другое, чем список, вы должны вернуть сообщение об ошибке: ``\"Ввод должен быть списком!\"``\n",
    "- Вы также должны проверить с помощью assert, что входной список содержит по крайней мере два значения. Если нет, верните сообщение об ошибке: ``\"Объект LineString требует как минимум двух точек!\"``\n",
    "- **Необязательно:** наконец, вы должны проверить с помощью ``assert``, что все значения во входном списке действительно являются точками формы. Если нет, верните сообщение об ошибке: ``\"Все значения списка должны быть стройными точечными объектами!\"``"
   ]
  },
  {
   "cell_type": "code",
   "execution_count": 13,
   "metadata": {},
   "outputs": [],
   "source": [
    "# функция создающая линии\n",
    "def create_line_geom (list_points):\n",
    "    \"\"\"\n",
    "        Функция создаёт фигурный линейный геометрический объект и возвращает его\n",
    "    \"\"\"\n",
    "    \n",
    "    line_create = LineString(list_points)\n",
    "    return line_create"
   ]
  },
  {
   "cell_type": "code",
   "execution_count": 14,
   "metadata": {},
   "outputs": [
    {
     "name": "stdout",
     "output_type": "stream",
     "text": [
      "Тип геометрии: LineString\n",
      "LINESTRING (2.2 4.2, 7.2 -25.1, 9.26 -2.456)\n"
     ]
    },
    {
     "data": {
      "image/svg+xml": [
       "<svg xmlns=\"http://www.w3.org/2000/svg\" xmlns:xlink=\"http://www.w3.org/1999/xlink\" width=\"100.0\" height=\"100.0\" viewBox=\"1.028 -26.272000000000002 9.404 31.644000000000002\" preserveAspectRatio=\"xMinYMin meet\"><g transform=\"matrix(1,0,0,-1,0,-20.900000000000002)\"><polyline fill=\"none\" stroke=\"#66cc99\" stroke-width=\"0.63288\" points=\"2.2,4.2 7.2,-25.1 9.26,-2.456\" opacity=\"0.8\" /></g></svg>"
      ],
      "text/plain": [
       "<shapely.geometry.linestring.LineString at 0x24915430550>"
      ]
     },
     "execution_count": 14,
     "metadata": {},
     "output_type": "execute_result"
    }
   ],
   "source": [
    "# Проверка\n",
    "list_points1 = [(2.2, 4.2), (7.2, -25.1), (9.26, -2.456)]\n",
    "list_p = create_line_geom(list_points1)\n",
    "print(f\"Тип геометрии: {list_p.geom_type}\")\n",
    "print(list_p)\n",
    "list_p"
   ]
  },
  {
   "cell_type": "code",
   "execution_count": null,
   "metadata": {},
   "outputs": [],
   "source": []
  }
 ],
 "metadata": {
  "kernelspec": {
   "display_name": "Python 3",
   "language": "python",
   "name": "python3"
  },
  "language_info": {
   "codemirror_mode": {
    "name": "ipython",
    "version": 3
   },
   "file_extension": ".py",
   "mimetype": "text/x-python",
   "name": "python",
   "nbconvert_exporter": "python",
   "pygments_lexer": "ipython3",
   "version": "3.6.12"
  }
 },
 "nbformat": 4,
 "nbformat_minor": 4
}
