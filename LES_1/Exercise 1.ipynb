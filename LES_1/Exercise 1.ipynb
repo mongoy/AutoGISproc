{
 "cells": [
  {
   "cell_type": "markdown",
   "metadata": {},
   "source": [
    "# Упражнение №1 Работа с геометрическими объектами\n",
    "\n",
    "[GITHUB](https://github.com/AutoGIS-2020/Exercise-1)"
   ]
  },
  {
   "cell_type": "markdown",
   "metadata": {},
   "source": [
    "В первом наборе задач (1-2) вы определите свои собственные функции для обработки геометрических объектов. Во втором наборе задач (3-4) вы будете считывать данные из файла с помощью панд и создавать геометрии на основе информации о координатах во входных данных.\n"
   ]
  },
  {
   "cell_type": "markdown",
   "metadata": {},
   "source": [
    "#### 1. Создание базовой геометрии:"
   ]
  },
  {
   "cell_type": "markdown",
   "metadata": {},
   "source": [
    "###### 1.1 Создайте функцию create_point_geom() с двумя параметрами (x_coord, y_coord). Функция должна создать фигурный точечный геометрический объект и вернуть его."
   ]
  },
  {
   "cell_type": "code",
   "execution_count": 1,
   "metadata": {},
   "outputs": [],
   "source": [
    "import os\n",
    "from shapely.geometry import Point, LineString, Polygon"
   ]
  },
  {
   "cell_type": "code",
   "execution_count": 2,
   "metadata": {},
   "outputs": [],
   "source": [
    "# функция проверки правильности ввода координат\n",
    "def point_coordinates_check(x_coord, y_coord):\n",
    "    \"\"\"\n",
    "        Функция проверяет корректность ввода координат\n",
    "    \"\"\"\n",
    "    # value1 -parameter\n",
    "    assert type(x_coord) in [int, float], \"Входное значение для 'x_coord' должно быть целым числом или числом с плавающей запятой! Нашел: %s\" % type(x_coord)\n",
    "\n",
    "    # value2 -parameter\n",
    "    assert type(y_coord) in [int, float], \"Входное значение для 'y_coord' должно быть целым числом или числом с плавающей запятой! Нашел: %s\" % type(y_coord)\n",
    "\n",
    "    return "
   ]
  },
  {
   "cell_type": "code",
   "execution_count": 3,
   "metadata": {},
   "outputs": [],
   "source": [
    "# функция создающая линии\n",
    "def create_point_geom(x_coord, y_coord):\n",
    "    \"\"\"\n",
    "        Функция создаёт фигурный точечный геометрический объект и возвращает его\n",
    "    \"\"\"\n",
    "    # проверка корректности ввода\n",
    "    point_coordinates_check(x_coord, y_coord)\n",
    "    \n",
    "    object = Point(x_coord, y_coord)\n",
    "    return object"
   ]
  },
  {
   "cell_type": "code",
   "execution_count": 6,
   "metadata": {},
   "outputs": [
    {
     "name": "stdout",
     "output_type": "stream",
     "text": [
      "Тип геометрии: Point\n",
      "POINT (0 1.1)\n"
     ]
    },
    {
     "data": {
      "image/svg+xml": [
       "<svg xmlns=\"http://www.w3.org/2000/svg\" xmlns:xlink=\"http://www.w3.org/1999/xlink\" width=\"100.0\" height=\"100.0\" viewBox=\"-1.0 0.10000000000000009 2.0 2.0\" preserveAspectRatio=\"xMinYMin meet\"><g transform=\"matrix(1,0,0,-1,0,2.2)\"><circle cx=\"0.0\" cy=\"1.1\" r=\"0.06\" stroke=\"#555555\" stroke-width=\"0.02\" fill=\"#66cc99\" opacity=\"0.6\" /></g></svg>"
      ],
      "text/plain": [
       "<shapely.geometry.point.Point at 0x2758708a2b0>"
      ]
     },
     "execution_count": 6,
     "metadata": {},
     "output_type": "execute_result"
    }
   ],
   "source": [
    "# Demonstrate the usage of the function create_point_geom\n",
    "# point1 = create_point_geom('a', 1.1)\n",
    "point1 = create_point_geom(0.0, 1.1)\n",
    "print(f\"Тип геометрии: {point1.geom_type}\")\n",
    "print(point1)\n",
    "point1"
   ]
  },
  {
   "cell_type": "markdown",
   "metadata": {},
   "source": [
    "###### 1.2 Создайте функцию create_line_geom (), которая принимает список объектов Shapely Point в качестве параметра points и возвращает объект LineString этих входных точек. Кроме того, вы должны позаботиться о том, чтобы функция использовалась так, как она должна:\n",
    "\n",
    "- Внутри функции вы должны сначала проверить с помощью ``assert-functionality``, что входные данные представляют собой список (см. Урок 6 из курса Geo-Python и подсказки для этого упражнения). Если для функции передается что-то другое, чем список, вы должны вернуть сообщение об ошибке: ``\"Ввод должен быть списком!\"``\n",
    "- Вы также должны проверить с помощью assert, что входной список содержит по крайней мере два значения. Если нет, верните сообщение об ошибке: ``\"Объект LineString требует как минимум двух точек!\"``\n",
    "- **Необязательно:** наконец, вы должны проверить с помощью ``assert``, что все значения во входном списке действительно являются точками формы. Если нет, верните сообщение об ошибке: ``\"Все значения списка должны быть стройными точечными объектами!\"``"
   ]
  },
  {
   "cell_type": "code",
   "execution_count": 112,
   "metadata": {},
   "outputs": [],
   "source": [
    "# функция проверки правильности ввода координат \n",
    "def points_list_check(list_points):\n",
    "    \"\"\"\n",
    "        Функция проверяет корректность ввода координат для линии\n",
    "        1. проверка является переменная списком или нет\n",
    "        2. проверка корректности ввода координат\n",
    "        \n",
    "    \"\"\"\n",
    "    # проверка является переменная списком или нет\n",
    "    assert type(list_points) == list, \"Ввод должен быть списком!\"\n",
    "    \n",
    "    # проверка корректности ввода координат\n",
    "    for coord in list_points:\n",
    "        # проверка размера и типа данных\n",
    "        assert type(coord) == tuple, \"Все значения списка должны быть координатными кортежами!\"\n",
    "        assert len(coord) == 2, \"Отсутствует одна или две координаты!\"\n",
    "        # проверка координат\n",
    "        point_coordinates_check(coord[0], coord[1])\n",
    "        \n",
    "    return "
   ]
  },
  {
   "cell_type": "code",
   "execution_count": 113,
   "metadata": {},
   "outputs": [],
   "source": [
    "# Проверка\n",
    "list_points1 = [(2.2, 4.2), (7.2, -25.1), (9.26, -2.456)]\n",
    "# list_points1 = (2.2, 4.2)\n",
    "list_p = points_list_check(list_points1)"
   ]
  },
  {
   "cell_type": "code",
   "execution_count": 114,
   "metadata": {},
   "outputs": [],
   "source": [
    "# функция создающая линии\n",
    "def create_line_geom (list_points):\n",
    "    \"\"\"\n",
    "        Функция создаёт фигурный линейный геометрический объект и возвращает его\n",
    "        1. Проверка корректности ввода координат для линии\n",
    "        2. Проверка список содержит минимум два значения\n",
    "        3. Создание линии\n",
    "    \"\"\"\n",
    "    # проверка корректности ввода координат для линии\n",
    "    points_list_check(list_points)\n",
    "    \n",
    "    # проверка список содержит минимум два значения\n",
    "    assert len(list_points) >= 2, \"Объект LineString требует как минимум двух точек!\"\n",
    "    \n",
    "    object = LineString(list_points)\n",
    "    return object"
   ]
  },
  {
   "cell_type": "code",
   "execution_count": 117,
   "metadata": {},
   "outputs": [
    {
     "name": "stdout",
     "output_type": "stream",
     "text": [
      "Тип геометрии: LineString\n",
      "LINESTRING (2.2 4.2, 7.2 -25.1, 9.26 -2.456)\n"
     ]
    },
    {
     "data": {
      "image/svg+xml": [
       "<svg xmlns=\"http://www.w3.org/2000/svg\" xmlns:xlink=\"http://www.w3.org/1999/xlink\" width=\"100.0\" height=\"100.0\" viewBox=\"1.028 -26.272000000000002 9.404 31.644000000000002\" preserveAspectRatio=\"xMinYMin meet\"><g transform=\"matrix(1,0,0,-1,0,-20.900000000000002)\"><polyline fill=\"none\" stroke=\"#66cc99\" stroke-width=\"0.63288\" points=\"2.2,4.2 7.2,-25.1 9.26,-2.456\" opacity=\"0.8\" /></g></svg>"
      ],
      "text/plain": [
       "<shapely.geometry.linestring.LineString at 0x275881871d0>"
      ]
     },
     "execution_count": 117,
     "metadata": {},
     "output_type": "execute_result"
    }
   ],
   "source": [
    "# Проверка\n",
    "list_points1 = [(2.2, 4.2), (7.2, -25.1), (9.26, -2.456)]\n",
    "# list_points1 = (2.2, 4.2)\n",
    "list_p = create_line_geom(list_points1)\n",
    "print(f\"Тип геометрии: {list_p.geom_type}\")\n",
    "print(list_p)\n",
    "list_p"
   ]
  },
  {
   "cell_type": "markdown",
   "metadata": {},
   "source": [
    "###### Создаем объект line с двумя точками: Point(45.2, 22.34) & Point(100.22, -3.20) и сохраните результат в переменной line1:"
   ]
  },
  {
   "cell_type": "code",
   "execution_count": 118,
   "metadata": {},
   "outputs": [
    {
     "name": "stdout",
     "output_type": "stream",
     "text": [
      "Тип геометрии: LineString\n",
      "LINESTRING (45.2 22.34, 100.22 -3.2)\n"
     ]
    },
    {
     "data": {
      "image/svg+xml": [
       "<svg xmlns=\"http://www.w3.org/2000/svg\" xmlns:xlink=\"http://www.w3.org/1999/xlink\" width=\"100.0\" height=\"100.0\" viewBox=\"42.9992 -5.4008 59.4216 29.9416\" preserveAspectRatio=\"xMinYMin meet\"><g transform=\"matrix(1,0,0,-1,0,19.14)\"><polyline fill=\"none\" stroke=\"#66cc99\" stroke-width=\"1.188432\" points=\"45.2,22.34 100.22,-3.2\" opacity=\"0.8\" /></g></svg>"
      ],
      "text/plain": [
       "<shapely.geometry.linestring.LineString at 0x27588187198>"
      ]
     },
     "execution_count": 118,
     "metadata": {},
     "output_type": "execute_result"
    }
   ],
   "source": [
    "list_points2 = [(45.2, 22.34), (100.22, -3.20)]\n",
    "line1 = create_line_geom(list_points2)\n",
    "print(f\"Тип геометрии: {line1.geom_type}\")\n",
    "print(line1)\n",
    "line1"
   ]
  },
  {
   "cell_type": "markdown",
   "metadata": {},
   "source": [
    "Проверьте, правильно ли ваша функция проверяет входные данные, запустив эту ячейку кода:"
   ]
  },
  {
   "cell_type": "code",
   "execution_count": 119,
   "metadata": {},
   "outputs": [],
   "source": [
    "try:\n",
    "    # Передайте что-нибудь еще, кроме списка\n",
    "#     create_line_geom(\"Дай мне строчку!\")\n",
    "    create_line_geom([(45.2, 22.34), (100.22, -3.20)])\n",
    "except AssertionError:\n",
    "    print(\"Обнаружена ошибка утверждения. Проверка списка работает правильно.\")\n",
    "except Exception as e:\n",
    "    raise e"
   ]
  },
  {
   "cell_type": "markdown",
   "metadata": {},
   "source": [
    "###### 1.3 Создайте функцию create_poly_geom() с одним параметром coords. параметр coords должен содержать список кортежей координат. Функция должна создавать и возвращать полигональный объект на основе этих координат.\n",
    "\n",
    "- Внутри функции вы должны сначала проверить с помощью assert-functionality, что входные данные представляют собой список (см. Урок 6 и подсказки). Если для функции передается что-то другое, чем список, вы должны вернуть сообщение об ошибке: ``\"Ввод должен быть списком!\"``\n",
    "- Вы также должны проверить с помощью assert, что входной список содержит по крайней мере три значения. Если нет, верните сообщение об ошибке: ``\"Полигональный объект требует не менее трех точек!\"``\n",
    "- Проверьте тип данных объектов во входном списке. Все значения во входном списке должны быть кортежами. Если нет, верните сообщение об ошибке: ``\"Все значения списка должны быть координатными кортежами!\"`` с помощью assert.\n",
    "- **Необязательно:** разрешите также ввод, содержащий список фигурных точечных объектов. Если coords содержит список фигурных точечных объектов, верните полигон, основанный на этих точках. Если входные данные не являются ни списком кортежей, ни списком точек, верните соответствующее сообщение об ошибке с помощью assert."
   ]
  },
  {
   "cell_type": "code",
   "execution_count": 123,
   "metadata": {},
   "outputs": [],
   "source": [
    "def create_poly_geom(list_points):\n",
    "    \"\"\"\n",
    "       Функция создаёт полигональный геометрический объект и возвращает его\n",
    "        1. Проверка корректности ввода координат для полигона\n",
    "        2. Проверка список содержит минимум три значения\n",
    "        3. Создание полигона\n",
    "    \"\"\"\n",
    "    print(list_points)\n",
    "    # список точечные объекты\n",
    "#         if coord.geom_type == 'Point':\n",
    "#             coord_xy = (coord.x, coord.y)\n",
    "\n",
    "#             assert type(coord_xy) == tuple, \"Все значения списка должны быть координатными кортежами!\"\n",
    "#             assert len(coord_xy) == 2, \"Отсутствует одна или две координаты!\"\n",
    "\n",
    "#             point_coordinates_check(coord_xy[0], coord_xy[1])\n",
    "            \n",
    "#             print(type(coord_xy))\n",
    "#         else:\n",
    "    \n",
    "    # проверка корректности ввода координат для полигона \n",
    "    points_list_check(list_points)\n",
    "    \n",
    "    # проверка список содержит минимум три значения\n",
    "    assert len(list_points) >= 3, \"Объект LineString требует как минимум три точки!\"    \n",
    "    \n",
    "    object = Polygon(list_points)\n",
    "    return object "
   ]
  },
  {
   "cell_type": "code",
   "execution_count": 128,
   "metadata": {},
   "outputs": [
    {
     "data": {
      "text/plain": [
       "list"
      ]
     },
     "execution_count": 128,
     "metadata": {},
     "output_type": "execute_result"
    }
   ],
   "source": [
    "list_points1 = [(2.2, 4.2), (7.2, -25.1), (9.26, -2.456)]\n",
    "type(list_points1)\n",
    "# poly1 = create_poly_geom(list_points1)\n",
    "# print(f\"Тип геометрии: {poly1.geom_type}\")\n",
    "# print(poly1)\n",
    "# poly1"
   ]
  },
  {
   "cell_type": "code",
   "execution_count": 126,
   "metadata": {},
   "outputs": [
    {
     "data": {
      "text/plain": [
       "[<shapely.geometry.point.Point at 0x275881c1c50>,\n",
       " <shapely.geometry.point.Point at 0x275881c1278>,\n",
       " <shapely.geometry.point.Point at 0x275881c10f0>]"
      ]
     },
     "execution_count": 126,
     "metadata": {},
     "output_type": "execute_result"
    }
   ],
   "source": [
    "# создадим три точечных объекта\n",
    "point1 = create_point_geom(2.2, 4.2)\n",
    "point2 = create_point_geom(7.2, -25.1) \n",
    "point3 = create_point_geom(9.26, -2.456)\n",
    "\n",
    "# создадим список точек\n",
    "list_points3 = [point1, point2, point3]\n",
    "list_points3\n",
    "# Создадим полигон\n",
    "# poly2 = create_poly_geom(list_points3)"
   ]
  },
  {
   "cell_type": "code",
   "execution_count": null,
   "metadata": {},
   "outputs": [],
   "source": []
  }
 ],
 "metadata": {
  "kernelspec": {
   "display_name": "Python 3",
   "language": "python",
   "name": "python3"
  },
  "language_info": {
   "codemirror_mode": {
    "name": "ipython",
    "version": 3
   },
   "file_extension": ".py",
   "mimetype": "text/x-python",
   "name": "python",
   "nbconvert_exporter": "python",
   "pygments_lexer": "ipython3",
   "version": "3.6.12"
  }
 },
 "nbformat": 4,
 "nbformat_minor": 4
}
