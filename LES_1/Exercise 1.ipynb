{
 "cells": [
  {
   "cell_type": "markdown",
   "metadata": {},
   "source": [
    "# Упражнение №1 Работа с геометрическими объектами\n",
    "\n",
    "[GITHUB](https://github.com/AutoGIS-2020/Exercise-1)"
   ]
  },
  {
   "cell_type": "markdown",
   "metadata": {},
   "source": [
    "В первом наборе задач (1-2) вы определите свои собственные функции для обработки геометрических объектов. Во втором наборе задач (3-4) вы будете считывать данные из файла с помощью панд и создавать геометрии на основе информации о координатах во входных данных.\n"
   ]
  },
  {
   "cell_type": "markdown",
   "metadata": {},
   "source": [
    "#### 1. Создание базовой геометрии:"
   ]
  },
  {
   "cell_type": "markdown",
   "metadata": {},
   "source": [
    "###### 1.1 Создайте функцию create_point_geom() с двумя параметрами (x_coord, y_coord). Функция должна создать фигурный точечный геометрический объект и вернуть его."
   ]
  },
  {
   "cell_type": "code",
   "execution_count": 1,
   "metadata": {},
   "outputs": [],
   "source": [
    "import os\n",
    "from shapely.geometry import Point, LineString, Polygon"
   ]
  },
  {
   "cell_type": "code",
   "execution_count": 2,
   "metadata": {},
   "outputs": [],
   "source": [
    "# функция проверки правильности ввода координат\n",
    "def point_coordinates_check(x_coord, y_coord):\n",
    "    \"\"\"\n",
    "        Функция проверяет корректность ввода координат\n",
    "    \"\"\"\n",
    "    # value1 -parameter\n",
    "    assert type(x_coord) in [int, float], \"Входное значение для 'x_coord' должно быть целым числом или числом с плавающей запятой! Нашел: %s\" % type(x_coord)\n",
    "\n",
    "    # value2 -parameter\n",
    "    assert type(y_coord) in [int, float], \"Входное значение для 'y_coord' должно быть целым числом или числом с плавающей запятой! Нашел: %s\" % type(y_coord)\n",
    "\n",
    "    return "
   ]
  },
  {
   "cell_type": "code",
   "execution_count": 3,
   "metadata": {},
   "outputs": [],
   "source": [
    "# функция создающая линии\n",
    "def create_point_geom(x_coord, y_coord):\n",
    "    \"\"\"\n",
    "        Функция создаёт фигурный точечный геометрический объект и возвращает его\n",
    "    \"\"\"\n",
    "    # проверка корректности ввода\n",
    "    point_coordinates_check(x_coord, y_coord)\n",
    "    \n",
    "    object = Point(x_coord, y_coord)\n",
    "    return object"
   ]
  },
  {
   "cell_type": "code",
   "execution_count": 4,
   "metadata": {},
   "outputs": [
    {
     "name": "stdout",
     "output_type": "stream",
     "text": [
      "Тип геометрии: Point\n",
      "POINT (0 1.1)\n"
     ]
    },
    {
     "data": {
      "image/svg+xml": [
       "<svg xmlns=\"http://www.w3.org/2000/svg\" xmlns:xlink=\"http://www.w3.org/1999/xlink\" width=\"100.0\" height=\"100.0\" viewBox=\"-1.0 0.10000000000000009 2.0 2.0\" preserveAspectRatio=\"xMinYMin meet\"><g transform=\"matrix(1,0,0,-1,0,2.2)\"><circle cx=\"0.0\" cy=\"1.1\" r=\"0.06\" stroke=\"#555555\" stroke-width=\"0.02\" fill=\"#66cc99\" opacity=\"0.6\" /></g></svg>"
      ],
      "text/plain": [
       "<shapely.geometry.point.Point at 0x2b01855dd68>"
      ]
     },
     "execution_count": 4,
     "metadata": {},
     "output_type": "execute_result"
    }
   ],
   "source": [
    "# Demonstrate the usage of the function create_point_geom\n",
    "# point1 = create_point_geom('a', 1.1)\n",
    "point1 = create_point_geom(0.0, 1.1)\n",
    "print(f\"Тип геометрии: {point1.geom_type}\")\n",
    "print(point1)\n",
    "point1"
   ]
  },
  {
   "cell_type": "markdown",
   "metadata": {},
   "source": [
    "###### 1.2 Создайте функцию create_line_geom (), которая принимает список объектов Shapely Point в качестве параметра points и возвращает объект LineString этих входных точек. Кроме того, вы должны позаботиться о том, чтобы функция использовалась так, как она должна:\n",
    "\n",
    "- Внутри функции вы должны сначала проверить с помощью ``assert-functionality``, что входные данные представляют собой список (см. Урок 6 из курса Geo-Python и подсказки для этого упражнения). Если для функции передается что-то другое, чем список, вы должны вернуть сообщение об ошибке: ``\"Ввод должен быть списком!\"``\n",
    "- Вы также должны проверить с помощью assert, что входной список содержит по крайней мере два значения. Если нет, верните сообщение об ошибке: ``\"Объект LineString требует как минимум двух точек!\"``\n",
    "- **Необязательно:** наконец, вы должны проверить с помощью ``assert``, что все значения во входном списке действительно являются точками формы. Если нет, верните сообщение об ошибке: ``\"Все значения списка должны быть стройными точечными объектами!\"``"
   ]
  },
  {
   "cell_type": "code",
   "execution_count": 5,
   "metadata": {},
   "outputs": [],
   "source": [
    "# функция проверки правильности ввода координат \n",
    "def points_list_check(list_points):\n",
    "    \"\"\"\n",
    "        Функция проверяет корректность ввода координат для линии\n",
    "        1. проверка является переменная списком или нет\n",
    "        2. проверка корректности ввода координат\n",
    "        \n",
    "    \"\"\"\n",
    "    # проверка является переменная списком или нет\n",
    "    assert type(list_points) == list, \"Ввод должен быть списком!\"\n",
    "    \n",
    "    # проверка корректности ввода координат\n",
    "    for coord in list_points:\n",
    "        # проверка размера и типа данных\n",
    "        assert type(coord) == tuple, \"Все значения списка должны быть координатными кортежами!\"\n",
    "        assert len(coord) == 2, \"Отсутствует одна или две координаты!\"\n",
    "        # проверка координат\n",
    "        point_coordinates_check(coord[0], coord[1])\n",
    "        \n",
    "    return "
   ]
  },
  {
   "cell_type": "code",
   "execution_count": 6,
   "metadata": {},
   "outputs": [],
   "source": [
    "# Проверка\n",
    "list_points1 = [(2.2, 4.2), (7.2, -25.1), (9.26, -2.456)]\n",
    "# list_points1 = (2.2, 4.2)\n",
    "list_p = points_list_check(list_points1)"
   ]
  },
  {
   "cell_type": "code",
   "execution_count": 24,
   "metadata": {},
   "outputs": [],
   "source": [
    "# функция создающая линии\n",
    "def create_line_geom (list_points):\n",
    "    \"\"\"\n",
    "        Функция создаёт фигурный линейный геометрический объект и возвращает его\n",
    "        1. Проверка корректности ввода координат для линии\n",
    "        2. Проверка список содержит минимум два значения\n",
    "        3. Создание линии\n",
    "    \"\"\"\n",
    "    # список точечные объекты?\n",
    "    if type(list_points[0]) != tuple:\n",
    "        list_points = [(p.x, p.y) for p in list_points]\n",
    "    \n",
    "    # проверка корректности ввода координат для линии\n",
    "    points_list_check(list_points)\n",
    "    \n",
    "    # проверка список содержит минимум два значения\n",
    "    assert len(list_points) >= 2, \"Объект LineString требует как минимум двух точек!\"\n",
    "    \n",
    "    object = LineString(list_points)\n",
    "    return object"
   ]
  },
  {
   "cell_type": "code",
   "execution_count": 25,
   "metadata": {},
   "outputs": [
    {
     "name": "stdout",
     "output_type": "stream",
     "text": [
      "Тип геометрии: LineString\n",
      "LINESTRING (2.2 4.2, 7.2 -25.1, 9.26 -2.456)\n"
     ]
    },
    {
     "data": {
      "image/svg+xml": [
       "<svg xmlns=\"http://www.w3.org/2000/svg\" xmlns:xlink=\"http://www.w3.org/1999/xlink\" width=\"100.0\" height=\"100.0\" viewBox=\"1.028 -26.272000000000002 9.404 31.644000000000002\" preserveAspectRatio=\"xMinYMin meet\"><g transform=\"matrix(1,0,0,-1,0,-20.900000000000002)\"><polyline fill=\"none\" stroke=\"#66cc99\" stroke-width=\"0.63288\" points=\"2.2,4.2 7.2,-25.1 9.26,-2.456\" opacity=\"0.8\" /></g></svg>"
      ],
      "text/plain": [
       "<shapely.geometry.linestring.LineString at 0x2b018881be0>"
      ]
     },
     "execution_count": 25,
     "metadata": {},
     "output_type": "execute_result"
    }
   ],
   "source": [
    "# Проверка\n",
    "list_points1 = [(2.2, 4.2), (7.2, -25.1), (9.26, -2.456)]\n",
    "# list_points1 = (2.2, 4.2)\n",
    "list_p = create_line_geom(list_points1)\n",
    "print(f\"Тип геометрии: {list_p.geom_type}\")\n",
    "print(list_p)\n",
    "list_p"
   ]
  },
  {
   "cell_type": "markdown",
   "metadata": {},
   "source": [
    "###### Создаем объект line с двумя точками: Point(45.2, 22.34) & Point(100.22, -3.20) и сохраните результат в переменной line1:"
   ]
  },
  {
   "cell_type": "code",
   "execution_count": 26,
   "metadata": {},
   "outputs": [
    {
     "name": "stdout",
     "output_type": "stream",
     "text": [
      "Тип геометрии: LineString\n",
      "LINESTRING (45.2 22.34, 100.22 -3.2)\n"
     ]
    },
    {
     "data": {
      "image/svg+xml": [
       "<svg xmlns=\"http://www.w3.org/2000/svg\" xmlns:xlink=\"http://www.w3.org/1999/xlink\" width=\"100.0\" height=\"100.0\" viewBox=\"42.9992 -5.4008 59.4216 29.9416\" preserveAspectRatio=\"xMinYMin meet\"><g transform=\"matrix(1,0,0,-1,0,19.14)\"><polyline fill=\"none\" stroke=\"#66cc99\" stroke-width=\"1.188432\" points=\"45.2,22.34 100.22,-3.2\" opacity=\"0.8\" /></g></svg>"
      ],
      "text/plain": [
       "<shapely.geometry.linestring.LineString at 0x2b018881b70>"
      ]
     },
     "execution_count": 26,
     "metadata": {},
     "output_type": "execute_result"
    }
   ],
   "source": [
    "list_points2 = [(45.2, 22.34), (100.22, -3.20)]\n",
    "line1 = create_line_geom(list_points2)\n",
    "print(f\"Тип геометрии: {line1.geom_type}\")\n",
    "print(line1)\n",
    "line1"
   ]
  },
  {
   "cell_type": "markdown",
   "metadata": {},
   "source": [
    "Проверьте, правильно ли ваша функция проверяет входные данные, запустив эту ячейку кода:"
   ]
  },
  {
   "cell_type": "code",
   "execution_count": 27,
   "metadata": {},
   "outputs": [],
   "source": [
    "try:\n",
    "    # Передайте что-нибудь еще, кроме списка\n",
    "#     create_line_geom(\"Дай мне строчку!\")\n",
    "    create_line_geom([(45.2, 22.34), (100.22, -3.20)])\n",
    "except AssertionError:\n",
    "    print(\"Обнаружена ошибка утверждения. Проверка списка работает правильно.\")\n",
    "except Exception as e:\n",
    "    raise e"
   ]
  },
  {
   "cell_type": "markdown",
   "metadata": {},
   "source": [
    "###### 1.3 Создайте функцию create_poly_geom() с одним параметром coords. параметр coords должен содержать список кортежей координат. Функция должна создавать и возвращать полигональный объект на основе этих координат.\n",
    "\n",
    "- Внутри функции вы должны сначала проверить с помощью assert-functionality, что входные данные представляют собой список (см. Урок 6 и подсказки). Если для функции передается что-то другое, чем список, вы должны вернуть сообщение об ошибке: ``\"Ввод должен быть списком!\"``\n",
    "- Вы также должны проверить с помощью assert, что входной список содержит по крайней мере три значения. Если нет, верните сообщение об ошибке: ``\"Полигональный объект требует не менее трех точек!\"``\n",
    "- Проверьте тип данных объектов во входном списке. Все значения во входном списке должны быть кортежами. Если нет, верните сообщение об ошибке: ``\"Все значения списка должны быть координатными кортежами!\"`` с помощью assert.\n"
   ]
  },
  {
   "cell_type": "code",
   "execution_count": 11,
   "metadata": {},
   "outputs": [],
   "source": [
    "def create_poly_geom(list_points):\n",
    "    \"\"\"\n",
    "       Функция создаёт полигональный геометрический объект и возвращает его\n",
    "        1. Проверка корректности ввода координат для полигона\n",
    "        2. Проверка список содержит минимум три значения\n",
    "        3. Создание полигона\n",
    "    \"\"\"\n",
    "    \n",
    "    # список точечные объекты?\n",
    "    if type(list_points[0]) != tuple:\n",
    "        list_points = [(p.x, p.y) for p in list_points]\n",
    "#         print(list_points)        \n",
    "    # проверка корректности ввода координат для полигона \n",
    "    points_list_check(list_points)\n",
    "    \n",
    "    # проверка список содержит минимум три значения\n",
    "    assert len(list_points) >= 3, \"Объект LineString требует как минимум три точки!\"    \n",
    "    \n",
    "    object = Polygon(list_points)\n",
    "    return object "
   ]
  },
  {
   "cell_type": "code",
   "execution_count": 12,
   "metadata": {},
   "outputs": [
    {
     "name": "stdout",
     "output_type": "stream",
     "text": [
      "Тип геометрии: Polygon\n",
      "POLYGON ((2.2 4.2, 7.2 -25.1, 9.26 -2.456, 2.2 4.2))\n"
     ]
    },
    {
     "data": {
      "image/svg+xml": [
       "<svg xmlns=\"http://www.w3.org/2000/svg\" xmlns:xlink=\"http://www.w3.org/1999/xlink\" width=\"100.0\" height=\"100.0\" viewBox=\"1.028 -26.272000000000002 9.404 31.644000000000002\" preserveAspectRatio=\"xMinYMin meet\"><g transform=\"matrix(1,0,0,-1,0,-20.900000000000002)\"><path fill-rule=\"evenodd\" fill=\"#66cc99\" stroke=\"#555555\" stroke-width=\"0.63288\" opacity=\"0.6\" d=\"M 2.2,4.2 L 7.2,-25.1 L 9.26,-2.456 L 2.2,4.2 z\" /></g></svg>"
      ],
      "text/plain": [
       "<shapely.geometry.polygon.Polygon at 0x2b0187f24e0>"
      ]
     },
     "execution_count": 12,
     "metadata": {},
     "output_type": "execute_result"
    }
   ],
   "source": [
    "# создадим список координат точек\n",
    "list_points1 = [(2.2, 4.2), (7.2, -25.1), (9.26, -2.456)]\n",
    "\n",
    "# Создадим полигон\n",
    "poly1 = create_poly_geom(list_points1)\n",
    "print(f\"Тип геометрии: {poly1.geom_type}\")\n",
    "print(poly1)\n",
    "poly1"
   ]
  },
  {
   "cell_type": "markdown",
   "metadata": {},
   "source": [
    "- **Необязательно:** разрешите также ввод, содержащий список фигурных точечных объектов. Если coords содержит список фигурных точечных объектов, верните полигон, основанный на этих точках. Если входные данные не являются ни списком кортежей, ни списком точек, верните соответствующее сообщение об ошибке с помощью assert."
   ]
  },
  {
   "cell_type": "markdown",
   "metadata": {},
   "source": [
    "###### Продемонстрируйте использование этой функции. Например, создайте полигон с тремя точками: (45.2, 22.34), (100.22, -30.20) & (70.0, 10.20)."
   ]
  },
  {
   "cell_type": "code",
   "execution_count": 13,
   "metadata": {},
   "outputs": [
    {
     "name": "stdout",
     "output_type": "stream",
     "text": [
      "Тип геометрии: Polygon\n",
      "POLYGON ((45.2 22.34, 100.22 -30.2, 70 10.2, 45.2 22.34))\n"
     ]
    },
    {
     "data": {
      "image/svg+xml": [
       "<svg xmlns=\"http://www.w3.org/2000/svg\" xmlns:xlink=\"http://www.w3.org/1999/xlink\" width=\"100.0\" height=\"100.0\" viewBox=\"42.9992 -32.4008 59.4216 56.941599999999994\" preserveAspectRatio=\"xMinYMin meet\"><g transform=\"matrix(1,0,0,-1,0,-7.859999999999996)\"><path fill-rule=\"evenodd\" fill=\"#66cc99\" stroke=\"#555555\" stroke-width=\"1.188432\" opacity=\"0.6\" d=\"M 45.2,22.34 L 100.22,-30.2 L 70.0,10.2 L 45.2,22.34 z\" /></g></svg>"
      ],
      "text/plain": [
       "<shapely.geometry.polygon.Polygon at 0x2b0187eaf28>"
      ]
     },
     "execution_count": 13,
     "metadata": {},
     "output_type": "execute_result"
    }
   ],
   "source": [
    "# создадим три точечных объекта\n",
    "point1 = create_point_geom(45.2, 22.34)\n",
    "point2 = create_point_geom(100.22, -30.20) \n",
    "point3 = create_point_geom(70.0, 10.20)\n",
    "\n",
    "# создадим список точек\n",
    "list_points3 = [point1, point2, point3]\n",
    "\n",
    "# Создадим полигон\n",
    "poly2 = create_poly_geom(list_points3)\n",
    "print(f\"Тип геометрии: {poly2.geom_type}\")\n",
    "print(poly2)\n",
    "poly2"
   ]
  },
  {
   "cell_type": "code",
   "execution_count": 14,
   "metadata": {},
   "outputs": [],
   "source": [
    "poly3 = None"
   ]
  },
  {
   "cell_type": "code",
   "execution_count": 15,
   "metadata": {},
   "outputs": [
    {
     "name": "stdout",
     "output_type": "stream",
     "text": [
      "None\n"
     ]
    }
   ],
   "source": [
    "print(poly3)"
   ]
  },
  {
   "cell_type": "code",
   "execution_count": 28,
   "metadata": {},
   "outputs": [
    {
     "ename": "AttributeError",
     "evalue": "'NoneType' object has no attribute 'geom_type'",
     "output_type": "error",
     "traceback": [
      "\u001b[1;31m---------------------------------------------------------------------------\u001b[0m",
      "\u001b[1;31mAttributeError\u001b[0m                            Traceback (most recent call last)",
      "\u001b[1;32m<ipython-input-28-15fd175bc6c1>\u001b[0m in \u001b[0;36m<module>\u001b[1;34m()\u001b[0m\n\u001b[1;32m----> 1\u001b[1;33m \u001b[0mprint\u001b[0m\u001b[1;33m(\u001b[0m\u001b[0mpoly3\u001b[0m\u001b[1;33m.\u001b[0m\u001b[0mgeom_type\u001b[0m\u001b[1;33m)\u001b[0m\u001b[1;33m\u001b[0m\u001b[1;33m\u001b[0m\u001b[0m\n\u001b[0m",
      "\u001b[1;31mAttributeError\u001b[0m: 'NoneType' object has no attribute 'geom_type'"
     ]
    }
   ],
   "source": [
    "print(poly3.geom_type)"
   ]
  },
  {
   "cell_type": "markdown",
   "metadata": {},
   "source": [
    "###### Проверьте, правильно ли ваша функция проверяет длину входных данных, запустив эту ячейку кода:"
   ]
  },
  {
   "cell_type": "code",
   "execution_count": null,
   "metadata": {},
   "outputs": [],
   "source": [
    "try:\n",
    "    # Pass something else than a list\n",
    "    create_poly_geom([(45.2, 22.34), (100.22, -30.2), (70, 10.2)])\n",
    "except AssertionError:\n",
    "    print(\"List check works\")\n",
    "except Exception as e:\n",
    "    raise e"
   ]
  },
  {
   "cell_type": "markdown",
   "metadata": {},
   "source": [
    "#### 2. Атрибуты геометрии:\n",
    "\n",
    "##### 2.1 Cоздать функцию, называемую **get_centroid()** с одним параметром, называется **geom**. Функция должна принимать любой вид геометрического объекта Shapely в качестве входных данных и возвращать центроид этой геометрии. Кроме того, вы должны позаботиться о том, чтобы функция использовалась так, как она должна:\n",
    "\n",
    "- Внутри функции вы должны сначала проверить с помощью **assert**, что входные данные представляют собой фигурные точки, линии или полигональную геометрию (см. [Урок 6](https://geo-python-site.readthedocs.io/en/latest/lessons/L6/overview.html) из Geo-Python Course и [подсказки](https://geo-python-site.readthedocs.io/en/latest/lessons/L6/exercise-6.html) для справки). Если для функции передается что-то другое, чем список, вы должны вернуть сообщение об ошибке: ``\"Входные данные должны быть стройной геометрией!\"``"
   ]
  },
  {
   "cell_type": "code",
   "execution_count": 61,
   "metadata": {},
   "outputs": [],
   "source": [
    "def get_centroid(geom):\n",
    "    \"\"\"\n",
    "    Функция принимает любой вид геометрического объекта Shapely \n",
    "    в качестве входных данных и возвращать центроид этой геометрии.\n",
    "    \n",
    "    Input: geom\n",
    "    Output: centroid_geom\n",
    "    \"\"\"\n",
    "    #\n",
    "    centroid_geom = geom.centroid\n",
    "    return centroid_geom"
   ]
  },
  {
   "cell_type": "code",
   "execution_count": 77,
   "metadata": {},
   "outputs": [
    {
     "name": "stdout",
     "output_type": "stream",
     "text": [
      "Значения центроида для точек:\n",
      "POINT (45.2 22.34)\n",
      "POINT (100.22 -30.2)\n",
      "POINT (70 10.2)\n",
      "\n",
      "\n",
      "Значения центроида для линии:\n",
      "POINT (72.71000000000001 -3.93)\n",
      "POINT (85.11 -10)\n",
      "POINT (57.6 16.27)\n",
      "\n",
      "\n",
      "Значения центроида для полигона:\n",
      "POINT (71.80666666666667 0.78)\n"
     ]
    }
   ],
   "source": [
    "# создадим три точечных объекта\n",
    "geom_point1 = create_point_geom(45.2, 22.34)\n",
    "geom_point2 = create_point_geom(100.22, -30.20) \n",
    "geom_point3 = create_point_geom(70.0, 10.20)\n",
    "\n",
    "# создадим три линии\n",
    "geom_line1 = create_line_geom([geom_point1, geom_point2])\n",
    "geom_line2 = create_line_geom([geom_point2, geom_point3]) \n",
    "geom_line3 = create_line_geom([geom_point3, geom_point1])\n",
    "\n",
    "# создадим полигон из трёх точек\n",
    "geom_poly1 = create_poly_geom([geom_point1, geom_point2, geom_point3])\n",
    "\n",
    "print(\"Значения центроида для точек:\")\n",
    "print(get_centroid(geom_point1))\n",
    "print(get_centroid(geom_point2))\n",
    "print(get_centroid(geom_point3))\n",
    "print(\"\\n\")\n",
    "print(\"Значения центроида для линии:\")\n",
    "print(get_centroid(geom_line1))\n",
    "print(get_centroid(geom_line2))\n",
    "print(get_centroid(geom_line3))\n",
    "print(\"\\n\")\n",
    "print(\"Значения центроида для полигона:\")\n",
    "print(get_centroid(geom_poly1))\n"
   ]
  },
  {
   "cell_type": "code",
   "execution_count": null,
   "metadata": {},
   "outputs": [],
   "source": [
    "try:\n",
    "    # Pass something else than a Shapely geometry\n",
    "    get_centroid(\"Give me a centroid!\")\n",
    "except AssertionError:\n",
    "    print(\"Found and assertion error. Geometry -check works correctly.\")\n",
    "except Exception as e:\n",
    "    raise e"
   ]
  },
  {
   "cell_type": "markdown",
   "metadata": {},
   "source": [
    "##### 2.2 Создайте функцию **get_area()** с одним параметром **polygon**. Функция должна принимать полигональный объект Shapely в качестве входных данных и возвращать область этой геометрии.\n",
    "- Внутри функции вы должны сначала проверить с помощью функции **assert**, что входные данные представляют собой геометрию фигурного полигона (см. Урок 6 и подсказки). Если для функции передается что-то другое, чем список, вы должны вернуть сообщение об ошибке: ``\"Вход должен быть полигоном!\"``"
   ]
  },
  {
   "cell_type": "code",
   "execution_count": 65,
   "metadata": {},
   "outputs": [],
   "source": [
    "def get_area(polygon):\n",
    "    \"\"\"\n",
    "    Функция принимает полигон в качестве входных данных и возвращает его площадь.\n",
    "    \n",
    "    Input: polygon\n",
    "    Output: area_polygon\n",
    "    \"\"\"\n",
    "    #\n",
    "    area_polygon = polygon.area\n",
    "    return area_polygon"
   ]
  },
  {
   "cell_type": "code",
   "execution_count": 68,
   "metadata": {},
   "outputs": [
    {
     "name": "stdout",
     "output_type": "stream",
     "text": [
      "Площадь полигона: 86.789\n"
     ]
    }
   ],
   "source": [
    "# создадим список координат точек\n",
    "list_points4 = [(2.2, 4.2), (7.2, -25.1), (9.26, -2.456)]\n",
    "\n",
    "# Создадим полигон\n",
    "poly4 = create_poly_geom(list_points4)\n",
    "\n",
    "# Расчитаем площадь\n",
    "print(f\"Площадь полигона: {get_area(poly4)}\")"
   ]
  },
  {
   "cell_type": "code",
   "execution_count": 71,
   "metadata": {},
   "outputs": [
    {
     "ename": "AttributeError",
     "evalue": "'int' object has no attribute 'area'",
     "output_type": "error",
     "traceback": [
      "\u001b[1;31m---------------------------------------------------------------------------\u001b[0m",
      "\u001b[1;31mAttributeError\u001b[0m                            Traceback (most recent call last)",
      "\u001b[1;32m<ipython-input-71-41142f0abaf6>\u001b[0m in \u001b[0;36m<module>\u001b[1;34m()\u001b[0m\n\u001b[0;32m      7\u001b[0m     \u001b[0mprint\u001b[0m\u001b[1;33m(\u001b[0m\u001b[1;34m\"Geometry -check works\"\u001b[0m\u001b[1;33m)\u001b[0m\u001b[1;33m\u001b[0m\u001b[1;33m\u001b[0m\u001b[0m\n\u001b[0;32m      8\u001b[0m \u001b[1;32mexcept\u001b[0m \u001b[0mException\u001b[0m \u001b[1;32mas\u001b[0m \u001b[0me\u001b[0m\u001b[1;33m:\u001b[0m\u001b[1;33m\u001b[0m\u001b[1;33m\u001b[0m\u001b[0m\n\u001b[1;32m----> 9\u001b[1;33m     \u001b[1;32mraise\u001b[0m \u001b[0me\u001b[0m\u001b[1;33m\u001b[0m\u001b[1;33m\u001b[0m\u001b[0m\n\u001b[0m",
      "\u001b[1;32m<ipython-input-71-41142f0abaf6>\u001b[0m in \u001b[0;36m<module>\u001b[1;34m()\u001b[0m\n\u001b[0;32m      3\u001b[0m     \u001b[1;31m# Pass something else than a Shapely geometry\u001b[0m\u001b[1;33m\u001b[0m\u001b[1;33m\u001b[0m\u001b[1;33m\u001b[0m\u001b[0m\n\u001b[0;32m      4\u001b[0m \u001b[1;31m#     get_area(\"Give me an area!\")\u001b[0m\u001b[1;33m\u001b[0m\u001b[1;33m\u001b[0m\u001b[1;33m\u001b[0m\u001b[0m\n\u001b[1;32m----> 5\u001b[1;33m     \u001b[0mget_area\u001b[0m\u001b[1;33m(\u001b[0m\u001b[1;36m666\u001b[0m\u001b[1;33m)\u001b[0m\u001b[1;33m\u001b[0m\u001b[1;33m\u001b[0m\u001b[0m\n\u001b[0m\u001b[0;32m      6\u001b[0m \u001b[1;32mexcept\u001b[0m \u001b[0mAssertionError\u001b[0m\u001b[1;33m:\u001b[0m\u001b[1;33m\u001b[0m\u001b[1;33m\u001b[0m\u001b[0m\n\u001b[0;32m      7\u001b[0m     \u001b[0mprint\u001b[0m\u001b[1;33m(\u001b[0m\u001b[1;34m\"Geometry -check works\"\u001b[0m\u001b[1;33m)\u001b[0m\u001b[1;33m\u001b[0m\u001b[1;33m\u001b[0m\u001b[0m\n",
      "\u001b[1;32m<ipython-input-65-ae89c8a83553>\u001b[0m in \u001b[0;36mget_area\u001b[1;34m(polygon)\u001b[0m\n\u001b[0;32m      7\u001b[0m     \"\"\"\n\u001b[0;32m      8\u001b[0m     \u001b[1;31m#\u001b[0m\u001b[1;33m\u001b[0m\u001b[1;33m\u001b[0m\u001b[1;33m\u001b[0m\u001b[0m\n\u001b[1;32m----> 9\u001b[1;33m     \u001b[0marea_polygon\u001b[0m \u001b[1;33m=\u001b[0m \u001b[0mpolygon\u001b[0m\u001b[1;33m.\u001b[0m\u001b[0marea\u001b[0m\u001b[1;33m\u001b[0m\u001b[1;33m\u001b[0m\u001b[0m\n\u001b[0m\u001b[0;32m     10\u001b[0m     \u001b[1;32mreturn\u001b[0m \u001b[0marea_polygon\u001b[0m\u001b[1;33m\u001b[0m\u001b[1;33m\u001b[0m\u001b[0m\n",
      "\u001b[1;31mAttributeError\u001b[0m: 'int' object has no attribute 'area'"
     ]
    }
   ],
   "source": [
    "# Проверка\n",
    "try:\n",
    "    # Pass something else than a Shapely geometry\n",
    "#     get_area(\"Give me an area!\")\n",
    "    get_area(666)\n",
    "except AssertionError:\n",
    "    print(\"Geometry -check works\")\n",
    "except Exception as e:\n",
    "    raise e"
   ]
  },
  {
   "cell_type": "markdown",
   "metadata": {},
   "source": [
    "##### 2.3 Создайте функцию **get_length()** с параметром **geom**. Функция должна принимать в качестве входных данных либо стройную линейную строку, либо полигональный объект. Функция должна проверить тип входных данных и возвратить длину линии, если вход-LineString, и длину внешнего кольца, если вход-Polygon. Если в функцию передается что-то еще, вы должны вернуть ошибку ``\"'geom' должен быть либо LineString, либо Polygon!\"``. (Используйте функцию **assert**)."
   ]
  },
  {
   "cell_type": "code",
   "execution_count": 105,
   "metadata": {},
   "outputs": [],
   "source": [
    "def get_length(geom):\n",
    "    \"\"\"\n",
    "    Функция принимает полигон в качестве входных данных и возвращает его площадь.\n",
    "    \n",
    "    Input: geom\n",
    "    Output: length_geom\n",
    "    \"\"\"\n",
    "    # Выбор расчёта для линии и полигона\n",
    "    if geom.geom_type == 'LineString':\n",
    "        # линия\n",
    "        length_geom = geom.length\n",
    "    elif geom.geom_type == 'Polygon':\n",
    "        # полигон\n",
    "        length_geom = geom.exterior.length\n",
    "    \n",
    "    return length_geom"
   ]
  },
  {
   "cell_type": "code",
   "execution_count": 106,
   "metadata": {},
   "outputs": [
    {
     "data": {
      "text/plain": [
       "52.46106912939557"
      ]
     },
     "execution_count": 106,
     "metadata": {},
     "output_type": "execute_result"
    }
   ],
   "source": [
    "# создадим линию\n",
    "list_points5 = [(2.2, 4.2), (7.2, -25.1), (9.26, -2.456)]\n",
    "geom_line4 = create_line_geom(list_points4)\n",
    "get_length(geom_line4)"
   ]
  },
  {
   "cell_type": "code",
   "execution_count": 107,
   "metadata": {},
   "outputs": [
    {
     "data": {
      "text/plain": [
       "62.16395199996553"
      ]
     },
     "execution_count": 107,
     "metadata": {},
     "output_type": "execute_result"
    }
   ],
   "source": [
    "# Создадим полигон\n",
    "list_points5 = [(2.2, 4.2), (7.2, -25.1), (9.26, -2.456)]\n",
    "geom_poly2 = create_poly_geom(list_points5)\n",
    "get_length(geom_poly2)"
   ]
  },
  {
   "cell_type": "markdown",
   "metadata": {},
   "source": [
    "## Документация"
   ]
  },
  {
   "cell_type": "code",
   "execution_count": 108,
   "metadata": {},
   "outputs": [
    {
     "name": "stdout",
     "output_type": "stream",
     "text": [
      "My funcitions:\n",
      "\n",
      "- create_point_geom: \n",
      "        Функция создаёт фигурный точечный геометрический объект и возвращает его\n",
      "    \n",
      "- create_line_geom: \n",
      "        Функция создаёт фигурный линейный геометрический объект и возвращает его\n",
      "        1. Проверка корректности ввода координат для линии\n",
      "        2. Проверка список содержит минимум два значения\n",
      "        3. Создание линии\n",
      "    \n",
      "- create_poly_geom: \n",
      "       Функция создаёт полигональный геометрический объект и возвращает его\n",
      "        1. Проверка корректности ввода координат для полигона\n",
      "        2. Проверка список содержит минимум три значения\n",
      "        3. Создание полигона\n",
      "    \n",
      "- get_centroid: \n",
      "    Функция принимает любой вид геометрического объекта Shapely \n",
      "    в качестве входных данных и возвращать центроид этой геометрии.\n",
      "    \n",
      "    Input: geom\n",
      "    Output: centroid_geom\n",
      "    \n",
      "- get_area: \n",
      "    Функция принимает полигон в качестве входных данных и возвращает его площадь.\n",
      "    \n",
      "    Input: polygon\n",
      "    Output: area_polygon\n",
      "    \n",
      "- get_length: \n",
      "    Функция принимает полигон в качестве входных данных и возвращает его площадь.\n",
      "    \n",
      "    Input: geom\n",
      "    Output: length_geom\n",
      "    \n"
     ]
    }
   ],
   "source": [
    "# List all functions we created\n",
    "functions = [create_point_geom, create_line_geom, create_poly_geom, \n",
    "             get_centroid, get_area, get_length]\n",
    "\n",
    "print(\"My funcitions:\\n\")\n",
    "\n",
    "for function in functions:\n",
    "    #Print function name and docstring:\n",
    "    print(\"-\", function.__name__ +\":\", function.__doc__)"
   ]
  },
  {
   "cell_type": "code",
   "execution_count": null,
   "metadata": {},
   "outputs": [],
   "source": []
  },
  {
   "cell_type": "code",
   "execution_count": null,
   "metadata": {},
   "outputs": [],
   "source": []
  }
 ],
 "metadata": {
  "kernelspec": {
   "display_name": "Python 3",
   "language": "python",
   "name": "python3"
  },
  "language_info": {
   "codemirror_mode": {
    "name": "ipython",
    "version": 3
   },
   "file_extension": ".py",
   "mimetype": "text/x-python",
   "name": "python",
   "nbconvert_exporter": "python",
   "pygments_lexer": "ipython3",
   "version": "3.6.12"
  }
 },
 "nbformat": 4,
 "nbformat_minor": 4
}
