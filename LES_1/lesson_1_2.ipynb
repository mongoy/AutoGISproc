{
 "cells": [
  {
   "cell_type": "markdown",
   "metadata": {},
   "source": [
    "## [Фигурные и геометрические объекты](https://autogis-site.readthedocs.io/en/latest/notebooks/L1/geometric-objects.html)\n",
    "\n",
    "Эти материалы частично основаны на [Shapely-documentation](https://shapely.readthedocs.io/en/stable/manual.html) и [Westra E. (2013), Глава 3](https://www.packtpub.com/application-development/python-geospatial-development-second-edition)."
   ]
  },
  {
   "cell_type": "markdown",
   "metadata": {},
   "source": [
    "### Модель пространственных данных"
   ]
  },
  {
   "cell_type": "markdown",
   "metadata": {},
   "source": [
    "![](img/SpatialDataModel.PNG)\n",
    "Фундаментальные геометрические объекты, которые могут быть использованы в Python с [Shapely](https://shapely.readthedocs.io/en/stable/manual.html)."
   ]
  },
  {
   "cell_type": "markdown",
   "metadata": {},
   "source": [
    "Наиболее фундаментальными являются геометрические объекты Points, LinesPolygons которые и являются основными составляющими при работе с пространственными данными в векторном формате. Python имеет специальный модуль под названием [Shapely](https://shapely.readthedocs.io/en/stable/manual.html) для выполнения различных геометрических операций. Базовые знания об использовании Shapely являются фундаментальными для понимания того, как геометрия хранится и обрабатывается в GeoPandas.\n",
    "\n",
    "##### Геометрические объекты состоят из координатных кортежей, где:\n",
    "\n",
    " - **Point** - объект представляет собой единую точку в пространстве. Точки могут быть как двумерными (x, y), так и трехмерными (x, y, z).\n",
    "\n",
    " - **LineString** - объект (то есть линия) представляет собой последовательность точек, соединенных вместе, чтобы сформировать линию. Следовательно, линия состоит из списка по крайней мере из двух координатных кортежей\n",
    "\n",
    " - **Polygon** - объект представляет собой заполненную область, состоящую из списка по крайней мере из трех координатных кортежей, образующих внешнее кольцо, и (возможного) списка полигонов отверстий.\n",
    "\n",
    "##### Также возможно иметь коллекцию геометрических объектов (например, многоугольники с несколькими частями):\n",
    "\n",
    " - **MultiPoint** - объект представляет собой набор точек и состоит из списка координатных кортежей\n",
    "\n",
    " - **MultiLineString** - объект представляет собой набор линий и состоит из списка строкообразных последовательностей\n",
    "\n",
    " - **MultiPolygon** - объект представляет собой набор полигонов, состоящий из списка полигоноподобных последовательностей, которые строятся из внешних кольцевых и (возможных) дырочных кортежей списка\n",
    "\n",
    "##### Полезные атрибуты и методы в Shapely включают в себя:\n",
    "\n",
    "- Создание линий и полигонов на основе набора точечных объектов.\n",
    "\n",
    "- Вычисление площадей / длины / границ и т. д. входных геометрий\n",
    "\n",
    "- Проведение геометрических операций на основе входных геометрий, таких как ***union***,***difference***,***distance*** и т.д.\n",
    "\n",
    "- Проведение пространственных запросов между геометриями, такими как ***intersects***,***touches***, и т.д. ***crosseswithin***"
   ]
  },
  {
   "cell_type": "markdown",
   "metadata": {},
   "source": [
    "**Кортеж**\n",
    "\n",
    "[Кортеж](https://docs.python.org/3/tutorial/datastructures.html#tuples-and-sequences) - это структура данных Python, состоящая из нубера значений, разделенных запятыми. Пары координат часто представляются в виде кортежа. Например:\n",
    "```\n",
    "(60.192059, 24.945831)\n",
    "```\n",
    "Кортежи принадлежат к последовательным типам данных в Python. Другими типами данных последовательности являются списки и диапазоны. Кортежи имеют много общего со списками и диапазонами, но они часто используются для разных целей. Основное различие между кортежами и списками состоит в том , что кортежи неизменяемы, что означает, что содержимое кортежа не может быть изменено (в то время как списки изменяемы; вы можете, например, добавлять и удалять значения из списков)."
   ]
  },
  {
   "cell_type": "code",
   "execution_count": 3,
   "metadata": {},
   "outputs": [],
   "source": [
    "import os\n",
    "from shapely.geometry import Point, LineString, Polygon\n",
    "\n",
    "# # Текущая директория\n",
    "# ROOT_PATH = os.path.abspath(os.curdir)"
   ]
  },
  {
   "cell_type": "markdown",
   "metadata": {},
   "source": [
    "### Point\n",
    "Создание точки легко, вы передаете координаты x и y в Point() - объект (и возможно, также z-координату):"
   ]
  },
  {
   "cell_type": "code",
   "execution_count": 8,
   "metadata": {},
   "outputs": [],
   "source": [
    "point1 = Point(2.2, 4.2)\n",
    "point2 = Point(7.2, -25.1)\n",
    "point3 = Point(9.26, -2.456)\n",
    "point3D = Point(9.26, -2.456, 0.57)"
   ]
  },
  {
   "cell_type": "code",
   "execution_count": 9,
   "metadata": {},
   "outputs": [
    {
     "data": {
      "image/svg+xml": [
       "<svg xmlns=\"http://www.w3.org/2000/svg\" xmlns:xlink=\"http://www.w3.org/1999/xlink\" width=\"100.0\" height=\"100.0\" viewBox=\"1.2000000000000002 3.2 2.0 2.0\" preserveAspectRatio=\"xMinYMin meet\"><g transform=\"matrix(1,0,0,-1,0,8.4)\"><circle cx=\"2.2\" cy=\"4.2\" r=\"0.06\" stroke=\"#555555\" stroke-width=\"0.02\" fill=\"#66cc99\" opacity=\"0.6\" /></g></svg>"
      ],
      "text/plain": [
       "<shapely.geometry.point.Point at 0x29cef30be48>"
      ]
     },
     "execution_count": 9,
     "metadata": {},
     "output_type": "execute_result"
    }
   ],
   "source": [
    "point1"
   ]
  },
  {
   "cell_type": "markdown",
   "metadata": {},
   "source": [
    "Как мы видим здесь, Jupyter notebook способен отображать форму непосредственно на экране.\n",
    "\n",
    "Мы можем использовать оператор print для получения информации о фактическом определении этих объектов:"
   ]
  },
  {
   "cell_type": "code",
   "execution_count": 10,
   "metadata": {},
   "outputs": [
    {
     "name": "stdout",
     "output_type": "stream",
     "text": [
      "POINT (2.2 4.2)\n",
      "POINT Z (9.26 -2.456 0.57)\n"
     ]
    }
   ],
   "source": [
    "print(point1)\n",
    "print(point3D)"
   ]
  },
  {
   "cell_type": "markdown",
   "metadata": {},
   "source": [
    "3D-точка может быть распознана по заглавной букве Z перед координатами.\n",
    "\n",
    "Давайте также проверим тип данных точки:"
   ]
  },
  {
   "cell_type": "code",
   "execution_count": 13,
   "metadata": {},
   "outputs": [
    {
     "data": {
      "text/plain": [
       "shapely.geometry.point.Point"
      ]
     },
     "execution_count": 13,
     "metadata": {},
     "output_type": "execute_result"
    }
   ],
   "source": [
    "type(point1)"
   ]
  },
  {
   "cell_type": "markdown",
   "metadata": {},
   "source": [
    "Мы можем видеть, что тип точки-это точка Шейпли. Точечный объект представлен в определенном формате, основанном на [Библиотека GEOS C++](https://trac.osgeo.org/geos) , которая является одной из стандартных библиотек различных геоинформационных систем. Он работает под капотом, например, в [QGIS](http://www.qgis.org/en/site/)."
   ]
  },
  {
   "cell_type": "markdown",
   "metadata": {},
   "source": [
    "#### Атрибуты и функции точек\n",
    "Точки и другие фигурные объекты имеют полезные встроенные [атрибуты и методы](https://shapely.readthedocs.io/en/stable/manual.html#general-attributes-and-methods). Используя доступные атрибуты, мы можем, например, извлечь значения координат точки и вычислить евклидово расстояние между точками.\n",
    "\n",
    "**geom_type** атрибут содержит информацию о типе геометрии объекта Shapely:"
   ]
  },
  {
   "cell_type": "code",
   "execution_count": 14,
   "metadata": {},
   "outputs": [
    {
     "data": {
      "text/plain": [
       "'Point'"
      ]
     },
     "execution_count": 14,
     "metadata": {},
     "output_type": "execute_result"
    }
   ],
   "source": [
    "point1.geom_type"
   ]
  },
  {
   "cell_type": "markdown",
   "metadata": {},
   "source": [
    "Извлечение координат точки может быть выполнено несколькими различными способами:\n",
    "\n",
    "**coords** атрибут содержит информацию о координатах, как a **CoordinateSequence** , которая является другим типом данных, связанным с Shapely."
   ]
  },
  {
   "cell_type": "code",
   "execution_count": 21,
   "metadata": {},
   "outputs": [
    {
     "name": "stdout",
     "output_type": "stream",
     "text": [
      "<shapely.coords.CoordinateSequence object at 0x0000029CEF321630>\n",
      "Координаты точки № 1: [(2.2, 4.2)]\n"
     ]
    }
   ],
   "source": [
    "print(point1.coords)\n",
    "print(\"Координаты точки № 1:\", list(point1.coords))"
   ]
  },
  {
   "cell_type": "code",
   "execution_count": 24,
   "metadata": {},
   "outputs": [
    {
     "name": "stdout",
     "output_type": "stream",
     "text": [
      "2.2 4.2\n"
     ]
    }
   ],
   "source": [
    "# Считайте координаты x и y отдельно\n",
    "x = point1.x\n",
    "y = point1.y\n",
    "print(x, y)"
   ]
  },
  {
   "cell_type": "markdown",
   "metadata": {},
   "source": [
    "Кроме того, можно рассчитать расстояние между двумя объектами с помощью метода [distance](https://shapely.readthedocs.io/en/stable/manual.html#object.distance). В нашем примере расстояние вычисляется в декартовой системе координат. При работе с реальными данными ГИС расстояние определяется на основе используемой системы координат. Всегда проверяйте, какова единица измерения (например, метры) в используемой системе координат.\n",
    "\n",
    "Давайте вычислим расстояние между point1 и point2:"
   ]
  },
  {
   "cell_type": "code",
   "execution_count": 25,
   "metadata": {},
   "outputs": [
    {
     "name": "stdout",
     "output_type": "stream",
     "text": [
      "POINT (2.2 4.2)\n",
      "POINT (7.2 -25.1)\n"
     ]
    }
   ],
   "source": [
    "# Входные данные\n",
    "print(point1)\n",
    "print(point2)"
   ]
  },
  {
   "cell_type": "code",
   "execution_count": 29,
   "metadata": {},
   "outputs": [
    {
     "name": "stdout",
     "output_type": "stream",
     "text": [
      "29.723559679150142\n",
      "Расстояние между точками 1 и 2 : 29.72 единиц измерения\n"
     ]
    }
   ],
   "source": [
    "# Расстояние между точками 1 и 2\n",
    "dist = point1.distance(point2)\n",
    "print(dist)\n",
    "# Отформатируем\n",
    "print(f\"Расстояние между точками 1 и 2 : {round(dist, 2)} единиц измерения\")"
   ]
  },
  {
   "cell_type": "markdown",
   "metadata": {},
   "source": [
    "### LineString"
   ]
  },
  {
   "cell_type": "markdown",
   "metadata": {},
   "source": [
    "Создание LineString-объектов довольно похоже на создание фигурных точек.\n",
    "\n",
    "Теперь вместо того, чтобы использовать один координатный кортеж, мы можем построить линию, используя либо список фигурных точечных объектов, либо передать точки как координатные кортежи:"
   ]
  },
  {
   "cell_type": "code",
   "execution_count": 33,
   "metadata": {},
   "outputs": [
    {
     "data": {
      "image/svg+xml": [
       "<svg xmlns=\"http://www.w3.org/2000/svg\" xmlns:xlink=\"http://www.w3.org/1999/xlink\" width=\"100.0\" height=\"100.0\" viewBox=\"1.028 -26.272000000000002 9.404 31.644000000000002\" preserveAspectRatio=\"xMinYMin meet\"><g transform=\"matrix(1,0,0,-1,0,-20.900000000000002)\"><polyline fill=\"none\" stroke=\"#66cc99\" stroke-width=\"0.63288\" points=\"2.2,4.2 7.2,-25.1 9.26,-2.456\" opacity=\"0.8\" /></g></svg>"
      ],
      "text/plain": [
       "<shapely.geometry.linestring.LineString at 0x29cef333198>"
      ]
     },
     "execution_count": 33,
     "metadata": {},
     "output_type": "execute_result"
    }
   ],
   "source": [
    "# Создадим линию из точек\n",
    "# Список объектов\n",
    "line1 = LineString([point1, point2, point3])\n",
    "line1"
   ]
  },
  {
   "cell_type": "code",
   "execution_count": 34,
   "metadata": {},
   "outputs": [
    {
     "data": {
      "image/svg+xml": [
       "<svg xmlns=\"http://www.w3.org/2000/svg\" xmlns:xlink=\"http://www.w3.org/1999/xlink\" width=\"100.0\" height=\"100.0\" viewBox=\"1.028 -26.272000000000002 9.404 31.644000000000002\" preserveAspectRatio=\"xMinYMin meet\"><g transform=\"matrix(1,0,0,-1,0,-20.900000000000002)\"><polyline fill=\"none\" stroke=\"#66cc99\" stroke-width=\"0.63288\" points=\"2.2,4.2 7.2,-25.1 9.26,-2.456\" opacity=\"0.8\" /></g></svg>"
      ],
      "text/plain": [
       "<shapely.geometry.linestring.LineString at 0x29cef333748>"
      ]
     },
     "execution_count": 34,
     "metadata": {},
     "output_type": "execute_result"
    }
   ],
   "source": [
    "# Список кортежей координат\n",
    "line2 = LineString([(2.2, 4.2), (7.2, -25.1), (9.26, -2.456)])\n",
    "line2"
   ]
  },
  {
   "cell_type": "code",
   "execution_count": 35,
   "metadata": {},
   "outputs": [
    {
     "data": {
      "text/plain": [
       "True"
      ]
     },
     "execution_count": 35,
     "metadata": {},
     "output_type": "execute_result"
    }
   ],
   "source": [
    "# Линии одинаковые\n",
    "line1 == line2"
   ]
  },
  {
   "cell_type": "code",
   "execution_count": 36,
   "metadata": {},
   "outputs": [
    {
     "name": "stdout",
     "output_type": "stream",
     "text": [
      "LINESTRING (2.2 4.2, 7.2 -25.1, 9.26 -2.456)\n"
     ]
    }
   ],
   "source": [
    "print(line)"
   ]
  },
  {
   "cell_type": "code",
   "execution_count": 37,
   "metadata": {},
   "outputs": [
    {
     "data": {
      "text/plain": [
       "shapely.geometry.linestring.LineString"
      ]
     },
     "execution_count": 37,
     "metadata": {},
     "output_type": "execute_result"
    }
   ],
   "source": [
    "type(line)"
   ]
  },
  {
   "cell_type": "code",
   "execution_count": 38,
   "metadata": {},
   "outputs": [
    {
     "data": {
      "text/plain": [
       "'LineString'"
      ]
     },
     "execution_count": 38,
     "metadata": {},
     "output_type": "execute_result"
    }
   ],
   "source": [
    "line.geom_type"
   ]
  },
  {
   "cell_type": "markdown",
   "metadata": {},
   "source": [
    "#### Атрибуты и функции LineString"
   ]
  },
  {
   "cell_type": "markdown",
   "metadata": {},
   "source": [
    "**LineString** - объект имеет много полезных встроенных атрибутов и функциональных возможностей. Например, можно извлечь координаты или длину линии (линии), вычислить центроид линии, создать точки вдоль линии на определенном расстоянии, вычислить ближайшее расстояние от линии до указанной точки и упростить геометрию. Смотрите полный список функций из документации [Shapely](http://toblerity.org/shapely/manual.html). Здесь мы рассмотрим некоторые из них.\n",
    "\n",
    "Мы можем извлечь координаты LineString аналогично тому, как с помощью Point"
   ]
  },
  {
   "cell_type": "code",
   "execution_count": 42,
   "metadata": {},
   "outputs": [
    {
     "name": "stdout",
     "output_type": "stream",
     "text": [
      "<shapely.coords.CoordinateSequence object at 0x0000029CEF333048>\n",
      "Координаты линии: [(2.2, 4.2), (7.2, -25.1), (9.26, -2.456)]\n"
     ]
    }
   ],
   "source": [
    "print(line.coords)\n",
    "print(\"Координаты линии:\",list(line.coords))"
   ]
  },
  {
   "cell_type": "code",
   "execution_count": 52,
   "metadata": {},
   "outputs": [
    {
     "name": "stdout",
     "output_type": "stream",
     "text": [
      "[2.2, 7.2, 9.26] [4.2, -25.1, -2.456]\n"
     ]
    }
   ],
   "source": [
    "# Извлеките координаты x и y отдельно\n",
    "xcoords = list(line.xy[0])\n",
    "ycoords = list(line.xy[1])\n",
    "print(xcoords, ycoords)"
   ]
  },
  {
   "cell_type": "code",
   "execution_count": 62,
   "metadata": {},
   "outputs": [
    {
     "name": "stdout",
     "output_type": "stream",
     "text": [
      "Длинна линии : 52.46 единиц измерения\n"
     ]
    }
   ],
   "source": [
    "# Получить длину строки\n",
    "l_length = line1.length\n",
    "# Отформатируем\n",
    "print(f\"Длинна линии : {round(l_length, 2)} единиц измерения\")"
   ]
  },
  {
   "cell_type": "code",
   "execution_count": 63,
   "metadata": {},
   "outputs": [
    {
     "name": "stdout",
     "output_type": "stream",
     "text": [
      "POINT (6.229961354035622 -11.89241115757239)\n"
     ]
    }
   ],
   "source": [
    "# Получим центроид линии\n",
    "print(line1.centroid)"
   ]
  }
 ],
 "metadata": {
  "kernelspec": {
   "display_name": "Python 3",
   "language": "python",
   "name": "python3"
  },
  "language_info": {
   "codemirror_mode": {
    "name": "ipython",
    "version": 3
   },
   "file_extension": ".py",
   "mimetype": "text/x-python",
   "name": "python",
   "nbconvert_exporter": "python",
   "pygments_lexer": "ipython3",
   "version": "3.6.12"
  }
 },
 "nbformat": 4,
 "nbformat_minor": 4
}
