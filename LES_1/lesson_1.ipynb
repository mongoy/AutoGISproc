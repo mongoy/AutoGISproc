{
 "cells": [
  {
   "cell_type": "markdown",
   "metadata": {},
   "source": [
    "# Урок № 1\n",
    "#### [1. Обзор урока](https://autogis-site.readthedocs.io/en/latest/lessons/L1/overview.html)\n",
    "#### [2. Мотивация для прохождения курса](https://autogis-site.readthedocs.io/en/latest/lessons/L1/course-motivation.html)\n",
    "#### [3. Фигурные и геометрические объекты](https://autogis-site.readthedocs.io/en/latest/notebooks/L1/geometric-objects.html)\n",
    "#### [4. Упражнение 1](https://autogis-site.readthedocs.io/en/latest/lessons/L1/exercise-1.html)\n",
    "\n",
    "# [GITHUB](https://github.com/Automating-GIS-processes/site)"
   ]
  },
  {
   "cell_type": "markdown",
   "metadata": {},
   "source": [
    "### 1. Обзор урока"
   ]
  },
  {
   "cell_type": "code",
   "execution_count": null,
   "metadata": {},
   "outputs": [],
   "source": []
  },
  {
   "cell_type": "code",
   "execution_count": null,
   "metadata": {},
   "outputs": [],
   "source": []
  }
 ],
 "metadata": {
  "kernelspec": {
   "display_name": "Python 3",
   "language": "python",
   "name": "python3"
  },
  "language_info": {
   "codemirror_mode": {
    "name": "ipython",
    "version": 3
   },
   "file_extension": ".py",
   "mimetype": "text/x-python",
   "name": "python",
   "nbconvert_exporter": "python",
   "pygments_lexer": "ipython3",
   "version": "3.6.12"
  }
 },
 "nbformat": 4,
 "nbformat_minor": 4
}
